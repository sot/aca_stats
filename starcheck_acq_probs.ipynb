{
 "metadata": {
  "name": "",
  "signature": "sha256:92a27241b0d62be33f6f8b696aac90445e0d7b83c3e6e9971f6901f4f560d1d1"
 },
 "nbformat": 3,
 "nbformat_minor": 0,
 "worksheets": [
  {
   "cells": [
    {
     "cell_type": "code",
     "collapsed": false,
     "input": [
      "from __future__ import division\n",
      "\n",
      "from pprint import pprint\n",
      "\n",
      "import matplotlib.pyplot as plt\n",
      "import numpy as np\n",
      "from astropy.table import Table, join\n",
      "%matplotlib inline"
     ],
     "language": "python",
     "metadata": {},
     "outputs": [],
     "prompt_number": 33
    },
    {
     "cell_type": "code",
     "collapsed": false,
     "input": [
      "filename = 'https://drive.google.com/uc?export=download&id=0B52P_nYJgKHRMnNkaUwtbER6X2c'\n",
      "acq_stats = Table.read(filename, format='fits')\n",
      "acq_stats.remove_columns(['tstart', 'tstop', 'slot', 'cat_pos', 'type', 'obi', 'revision', 'mag', 'obc_id'])\n",
      "acq_stats[:3]"
     ],
     "language": "python",
     "metadata": {},
     "outputs": [
      {
       "html": [
        "<table id=\"table4422107472\"><thead><tr><th>obsid</th><th>idx</th><th>agasc_id</th><th>yang</th><th>zang</th><th>halfw</th><th>mag_obs</th><th>yang_obs</th><th>zang_obs</th><th>color</th></tr></thead><tr><td>11478</td><td>10</td><td>46540360</td><td>302.0</td><td>873.0</td><td>120.0</td><td>8.625</td><td>260.65</td><td>907.025</td><td>1.29115</td></tr><tr><td>11478</td><td>11</td><td>46537584</td><td>-477.0</td><td>1784.0</td><td>120.0</td><td>10.0</td><td>-518.95</td><td>1818.475</td><td>0.3842</td></tr><tr><td>11478</td><td>12</td><td>46536768</td><td>872.0</td><td>1398.0</td><td>120.0</td><td>9.3125</td><td>831.2</td><td>1432.175</td><td>1.11265</td></tr></table>"
       ],
       "metadata": {},
       "output_type": "pyout",
       "prompt_number": 39,
       "text": [
        "<Table rows=3 names=('obsid','idx','agasc_id','yang','zang','halfw','mag_obs','yang_obs','zang_obs','color')>\n",
        "array([ (11478, 10, 46540360, 302.0, 873.0, 120.0, 8.625, 260.65000000000003, 907.0250000000001, 1.2911499738693237),\n",
        "       (11478, 11, 46537584, -477.0, 1784.0, 120.0, 10.0, -518.95, 1818.4750000000001, 0.38420000672340393),\n",
        "       (11478, 12, 46536768, 872.0, 1398.0, 120.0, 9.3125, 831.2, 1432.1750000000002, 1.1126500368118286)], \n",
        "      dtype=[('obsid', '>i8'), ('idx', '>i8'), ('agasc_id', '>i8'), ('yang', '>f8'), ('zang', '>f8'), ('halfw', '>f8'), ('mag_obs', '>f8'), ('yang_obs', '>f8'), ('zang_obs', '>f8'), ('color', '>f4')])"
       ]
      }
     ],
     "prompt_number": 39
    },
    {
     "cell_type": "code",
     "collapsed": false,
     "input": [
      "filename = 'https://drive.google.com/uc?export=download&id=0B52P_nYJgKHRQkZzWkdXNXRDeDQ'\n",
      "# filename = 'starcheck_acq_probs.fits.gz'  # local version\n",
      "acq_probs = Table.read(filename)\n",
      "acq_probs['acquired'] = np.where(acq_probs['obc_id'] == 'ID', 1, 0)\n",
      "acq_probs[:2]"
     ],
     "language": "python",
     "metadata": {},
     "outputs": [
      {
       "output_type": "stream",
       "stream": "stdout",
       "text": [
        "\u001b[0;39mDownloading https://drive.google.com/uc?export=download&id=0B52P_nYJgKHRQkZzWkdXNXRDeDQ\u001b[0m\n",
        "\r",
        "|\u001b[0;34m\u001b[0m\u001b[0;32m>\u001b[0m------------------------------------------| 0.0 /518k (  0.00%)"
       ]
      },
      {
       "output_type": "stream",
       "stream": "stdout",
       "text": [
        "\r",
        "|\u001b[0;34m=====\u001b[0m\u001b[0;32m>\u001b[0m-------------------------------------|  65k/518k ( 12.63%) ETA     0s"
       ]
      },
      {
       "output_type": "stream",
       "stream": "stdout",
       "text": [
        "\r",
        "|\u001b[0;34m==========\u001b[0m\u001b[0;32m>\u001b[0m--------------------------------| 131k/518k ( 25.27%) ETA     0s"
       ]
      },
      {
       "output_type": "stream",
       "stream": "stdout",
       "text": [
        "\r",
        "|\u001b[0;34m================\u001b[0m\u001b[0;32m>\u001b[0m--------------------------| 196k/518k ( 37.90%) ETA     0s"
       ]
      },
      {
       "output_type": "stream",
       "stream": "stdout",
       "text": [
        "\r",
        "|\u001b[0;34m=====================\u001b[0m\u001b[0;32m>\u001b[0m---------------------| 262k/518k ( 50.53%) ETA     0s"
       ]
      },
      {
       "output_type": "stream",
       "stream": "stdout",
       "text": [
        "\r",
        "|\u001b[0;34m===========================\u001b[0m\u001b[0;32m>\u001b[0m---------------| 327k/518k ( 63.17%) ETA     0s"
       ]
      },
      {
       "output_type": "stream",
       "stream": "stdout",
       "text": [
        "\r",
        "|\u001b[0;34m================================\u001b[0m\u001b[0;32m>\u001b[0m----------| 393k/518k ( 75.80%) ETA     0s"
       ]
      },
      {
       "output_type": "stream",
       "stream": "stdout",
       "text": [
        "\r",
        "|\u001b[0;34m======================================\u001b[0m\u001b[0;32m>\u001b[0m----| 458k/518k ( 88.43%) ETA     0s"
       ]
      },
      {
       "output_type": "stream",
       "stream": "stdout",
       "text": [
        "\r",
        "|\u001b[0;34m===========================================\u001b[0m| 518k/518k (100.00%)         0s"
       ]
      },
      {
       "output_type": "stream",
       "stream": "stdout",
       "text": [
        "\r",
        "|\u001b[0;34m===========================================\u001b[0m| 518k/518k (100.00%)         0s"
       ]
      },
      {
       "output_type": "stream",
       "stream": "stdout",
       "text": [
        "\n"
       ]
      },
      {
       "html": [
        "<table id=\"table4422109136\"><thead><tr><th>obsid</th><th>idx</th><th>date</th><th>ccd_temp</th><th>n100</th><th>mag</th><th>n_warn</th><th>color_0p7</th><th>color_1p5</th><th>spoiler</th><th>bad_hist</th><th>acq_prob</th><th>obc_id</th><th>old_acq_prob</th><th>acquired</th></tr></thead><tr><td>12148</td><td>4</td><td>2011:360:06:30:45.352</td><td>-17.6179742813</td><td>0.0883739859157</td><td>6.798</td><td>0</td><td>0</td><td>0</td><td>0</td><td>0</td><td>0.985</td><td>ID</td><td>0.9846</td><td>1</td></tr><tr><td>12148</td><td>5</td><td>2011:360:06:30:45.352</td><td>-17.6179742813</td><td>0.0883739859157</td><td>8.552</td><td>0</td><td>0</td><td>0</td><td>0</td><td>0</td><td>0.985</td><td>ID</td><td>0.9846</td><td>1</td></tr></table>"
       ],
       "metadata": {},
       "output_type": "pyout",
       "prompt_number": 41,
       "text": [
        "<Table rows=2 names=('obsid','idx','date','ccd_temp','n100','mag','n_warn','color_0p7','color_1p5','spoiler','bad_hist','acq_prob','obc_id','old_acq_prob','acquired')>\n",
        "array([ (12148, 4, '2011:360:06:30:45.352', -17.6179742813, 0.0883739859157, 6.798, 0, 0, 0, 0, 0, 0.985, 'ID', 0.9846, 1),\n",
        "       (12148, 5, '2011:360:06:30:45.352', -17.6179742813, 0.0883739859157, 8.552, 0, 0, 0, 0, 0, 0.985, 'ID', 0.9846, 1)], \n",
        "      dtype=[('obsid', '>i8'), ('idx', '>i8'), ('date', 'S21'), ('ccd_temp', '>f8'), ('n100', '>f8'), ('mag', '>f8'), ('n_warn', '>i8'), ('color_0p7', '>i8'), ('color_1p5', '>i8'), ('spoiler', '>i8'), ('bad_hist', '>i8'), ('acq_prob', '>f8'), ('obc_id', 'S2'), ('old_acq_prob', '>f8'), ('acquired', '<i8')])"
       ]
      }
     ],
     "prompt_number": 41
    },
    {
     "cell_type": "code",
     "collapsed": false,
     "input": [
      "probs = join(acq_probs, acq_stats, keys=('obsid', 'idx')\n",
      "probs[:3]"
     ],
     "language": "python",
     "metadata": {},
     "outputs": [
      {
       "html": [
        "<table id=\"table4678347472\"><thead><tr><th>obsid</th><th>idx</th><th>date</th><th>ccd_temp</th><th>n100</th><th>mag</th><th>n_warn</th><th>color_0p7</th><th>color_1p5</th><th>spoiler</th><th>bad_hist</th><th>acq_prob</th><th>obc_id</th><th>old_acq_prob</th><th>acquired</th><th>agasc_id</th><th>yang</th><th>zang</th><th>halfw</th><th>mag_obs</th><th>yang_obs</th><th>zang_obs</th><th>color</th></tr></thead><tr><td>12148</td><td>4</td><td>2011:360:06:30:45.352</td><td>-17.6179742813</td><td>0.0883739859157</td><td>6.798</td><td>0</td><td>0</td><td>0</td><td>0</td><td>0</td><td>0.985</td><td>ID</td><td>0.9846</td><td>1</td><td>281575096</td><td>160.0</td><td>-1989.0</td><td>120.0</td><td>6.8125</td><td>154.1</td><td>-1979.575</td><td>1.07015</td></tr><tr><td>12148</td><td>5</td><td>2011:360:06:30:45.352</td><td>-17.6179742813</td><td>0.0883739859157</td><td>8.552</td><td>0</td><td>0</td><td>0</td><td>0</td><td>0</td><td>0.985</td><td>ID</td><td>0.9846</td><td>1</td><td>282111880</td><td>-518.0</td><td>-1338.0</td><td>120.0</td><td>8.625</td><td>-525.025</td><td>-1329.2</td><td>0.3315</td></tr><tr><td>12148</td><td>6</td><td>2011:360:06:30:45.352</td><td>-17.6179742813</td><td>0.0883739859157</td><td>6.693</td><td>0</td><td>0</td><td>0</td><td>0</td><td>0</td><td>0.985</td><td>ID</td><td>0.9846</td><td>1</td><td>282218952</td><td>2112.0</td><td>1394.0</td><td>120.0</td><td>6.6875</td><td>2106.175</td><td>1404.675</td><td>0.884</td></tr></table>"
       ],
       "metadata": {},
       "output_type": "pyout",
       "prompt_number": 42,
       "text": [
        "<Table rows=3 names=('obsid','idx','date','ccd_temp','n100','mag','n_warn','color_0p7','color_1p5','spoiler','bad_hist','acq_prob','obc_id','old_acq_prob','acquired','agasc_id','yang','zang','halfw','mag_obs','yang_obs','zang_obs','color')>\n",
        "array([ (12148, 4, '2011:360:06:30:45.352', -17.6179742813, 0.0883739859157, 6.798, 0, 0, 0, 0, 0, 0.985, 'ID', 0.9846, 1, 281575096, 160.0, -1989.0, 120.0, 6.8125, 154.10000000000002, -1979.575, 1.0701500177383423),\n",
        "       (12148, 5, '2011:360:06:30:45.352', -17.6179742813, 0.0883739859157, 8.552, 0, 0, 0, 0, 0, 0.985, 'ID', 0.9846, 1, 282111880, -518.0, -1338.0, 120.0, 8.625, -525.025, -1329.2, 0.33149999380111694),\n",
        "       (12148, 6, '2011:360:06:30:45.352', -17.6179742813, 0.0883739859157, 6.693, 0, 0, 0, 0, 0, 0.985, 'ID', 0.9846, 1, 282218952, 2112.0, 1394.0, 120.0, 6.6875, 2106.175, 1404.6750000000002, 0.8840000033378601)], \n",
        "      dtype=[('obsid', '<i8'), ('idx', '<i8'), ('date', 'S21'), ('ccd_temp', '<f8'), ('n100', '<f8'), ('mag', '<f8'), ('n_warn', '<i8'), ('color_0p7', '<i8'), ('color_1p5', '<i8'), ('spoiler', '<i8'), ('bad_hist', '<i8'), ('acq_prob', '<f8'), ('obc_id', 'S2'), ('old_acq_prob', '<f8'), ('acquired', '<i8'), ('agasc_id', '<i8'), ('yang', '<f8'), ('zang', '<f8'), ('halfw', '<f8'), ('mag_obs', '<f8'), ('yang_obs', '<f8'), ('zang_obs', '<f8'), ('color', '<f4')])"
       ]
      }
     ],
     "prompt_number": 42
    },
    {
     "cell_type": "code",
     "collapsed": false,
     "input": [
      "len(acq_probs), len(probs)"
     ],
     "language": "python",
     "metadata": {},
     "outputs": [
      {
       "metadata": {},
       "output_type": "pyout",
       "prompt_number": 43,
       "text": [
        "(28508, 28476)"
       ]
      }
     ],
     "prompt_number": 43
    },
    {
     "cell_type": "code",
     "collapsed": false,
     "input": [
      "fudge_color_1p5 = False\n",
      "if fudge_color_1p5:\n",
      "    ok = probs['color_1p5'] == 1\n",
      "    probs['acq_prob'][ok] -= 0.15"
     ],
     "language": "python",
     "metadata": {},
     "outputs": [],
     "prompt_number": 44
    },
    {
     "cell_type": "code",
     "collapsed": false,
     "input": [
      "# Group by obsid for later\n",
      "pg = probs.group_by('obsid')"
     ],
     "language": "python",
     "metadata": {},
     "outputs": [],
     "prompt_number": 45
    },
    {
     "cell_type": "code",
     "collapsed": false,
     "input": [
      "def get_probs_groups_dict():\n",
      "    return {grp['obsid'][0].tolist(): grp for grp in pg.groups}"
     ],
     "language": "python",
     "metadata": {},
     "outputs": [],
     "prompt_number": 2
    },
    {
     "cell_type": "code",
     "collapsed": false,
     "input": [
      "def calc_acq_probs(probs):\n",
      "    n_slots = len(probs)\n",
      "    acq_probs = np.zeros(9, dtype=np.float64)\n",
      "    for ii in xrange(2 ** n_slots):\n",
      "        total_prob = 1.0\n",
      "        n_acq = 0\n",
      "\n",
      "        for slot in xrange(n_slots):\n",
      "            if ii & (2 ** slot):\n",
      "                prob = probs[slot]\n",
      "                n_acq += 1\n",
      "            else:\n",
      "                prob = 1 - probs[slot]\n",
      "            total_prob *= prob\n",
      "\n",
      "        acq_probs[n_acq] += total_prob\n",
      "    return acq_probs"
     ],
     "language": "python",
     "metadata": {},
     "outputs": [],
     "prompt_number": 3
    },
    {
     "cell_type": "code",
     "collapsed": false,
     "input": [
      "def cum_prob(acq_probs):\n",
      "    \"\"\"\n",
      "    \"\"\"\n",
      "    n_expected = 0.0\n",
      "    cum_probs = np.zeros(9, dtype=np.float64)\n",
      "    for n_acq in xrange(9):\n",
      "        n_expected += n_acq * acq_probs[n_acq]\n",
      "        for n_acq2 in xrange(n_acq, 9):\n",
      "            cum_probs[n_acq] += acq_probs[n_acq2]\n",
      "\n",
      "    cum_probs = np.clip(cum_probs, 0, 1)\n",
      "    cum_probs_fewer = np.clip(1.0 - cum_probs, 1e-15, 1.0)\n",
      "\n",
      "    return {'n_expected': n_expected,\n",
      "            'probs_n_or_more': cum_probs,\n",
      "            'probs_fewer_than_n': cum_probs_fewer,\n",
      "            'log10_probs_fewer_than_n': np.log10(cum_probs_fewer)}"
     ],
     "language": "python",
     "metadata": {},
     "outputs": [],
     "prompt_number": 4
    },
    {
     "cell_type": "code",
     "collapsed": false,
     "input": [
      "def cum_prob_by_obsid(obsid):\n",
      "    pok = pgd[obsid]\n",
      "    print('Actual stars: {}'.format(np.sum(pok['acquired'])))\n",
      "    print('CURRENT')\n",
      "    acq_probs = calc_acq_probs(pok['old_acq_prob'])\n",
      "    pprint(cum_prob(acq_probs))\n",
      "    print()\n",
      "    print('NEW')\n",
      "    acq_probs = calc_acq_probs(pok['acq_prob'])\n",
      "    pprint(cum_prob(acq_probs))"
     ],
     "language": "python",
     "metadata": {},
     "outputs": [],
     "prompt_number": 5
    },
    {
     "cell_type": "code",
     "collapsed": false,
     "input": [
      "def get_n_expected():\n",
      "    n_acqs = []\n",
      "    n_expected = []\n",
      "    obsids = []\n",
      "    for grp in pg.groups:\n",
      "        obsids.append(grp['obsid'][0])\n",
      "        n_acqs.append(np.sum(grp['acquired']))\n",
      "        acq_probs = calc_acq_probs(grp['acq_prob'])\n",
      "        out = cum_prob(acq_probs)\n",
      "        n_expected.append(out['n_expected'])\n",
      "    return np.array(n_acqs), np.array(n_expected), np.array(obsids)"
     ],
     "language": "python",
     "metadata": {},
     "outputs": [],
     "prompt_number": 6
    },
    {
     "cell_type": "code",
     "collapsed": false,
     "input": [
      "def plot_n_expected(n_acqs, n_expected):\n",
      "    plt.clf()\n",
      "    plt.plot(n_expected, n_acqs + np.random.uniform(-0.3, 0.3, size=len(n_acqs)), '.', alpha=0.3)\n",
      "    plt.plot([0,8], [0,8], '--m')\n",
      "    plt.ylim(-0.1, 8.5)\n",
      "    plt.xlim(-0.1, 8.5)\n",
      "    plt.grid()"
     ],
     "language": "python",
     "metadata": {},
     "outputs": [],
     "prompt_number": 7
    },
    {
     "cell_type": "code",
     "collapsed": false,
     "input": [
      "def plot_acq_prob_vs_actual(data=probs, verbose=False):\n",
      "    bins = np.array([0, 0.4, 0.5, 0.6, 0.7, 0.75, 0.8, 0.85, 0.9, 0.95, 1.0])\n",
      "    p_actuals = []\n",
      "    p_acq_probs = []\n",
      "    for p0, p1 in zip(bins[:-1], bins[1:]):\n",
      "        ok = (data['acq_prob'] >= p0) & (data['acq_prob'] < p1)\n",
      "        n = np.sum(ok)\n",
      "        if n > 10:\n",
      "            pok = data['acquired'][ok]\n",
      "            p_actuals.append(np.sum(pok) / n)\n",
      "            pok = data['acq_prob'][ok]\n",
      "            p_acq_probs.append(np.mean(pok))\n",
      "            if verbose:\n",
      "                print(p0, p1, len(pok))\n",
      "    plt.clf()\n",
      "    plt.plot(p_acq_probs, p_actuals, '.-')\n",
      "    plt.grid()\n",
      "    plt.plot([0, 1], [0, 1], '--r')\n",
      "    plt.xlabel('Mean predicted acq probability')\n",
      "    plt.ylabel('Actual acq success rate')"
     ],
     "language": "python",
     "metadata": {},
     "outputs": [],
     "prompt_number": 8
    },
    {
     "cell_type": "markdown",
     "metadata": {},
     "source": [
      "## Mean actual success rate vs. predicted within bins"
     ]
    },
    {
     "cell_type": "code",
     "collapsed": false,
     "input": [
      "plot_acq_prob_vs_actual();"
     ],
     "language": "python",
     "metadata": {},
     "outputs": [
      {
       "metadata": {},
       "output_type": "display_data",
       "png": "[encoded data removed]",
       "text": [
        "<matplotlib.figure.Figure at 0x106952350>"
       ]
      }
     ],
     "prompt_number": 46
    },
    {
     "cell_type": "code",
     "collapsed": false,
     "input": [
      "n_acqs, n_expected, obsids = get_n_expected()"
     ],
     "language": "python",
     "metadata": {},
     "outputs": [],
     "prompt_number": 47
    },
    {
     "cell_type": "markdown",
     "metadata": {},
     "source": [
      "## Actual number of stars per obsid vs. expected\n",
      "\n",
      "*The mean predicted number of acq stars does not correlate with the actual.*\n",
      "\n",
      "This demonstrates that there has to be some **clustering** of properties by star field that impact star acquisition success.\n",
      "\n",
      "Label as **\"bad fields\"** the obsids where the actual was at least 2 stars less than expected."
     ]
    },
    {
     "cell_type": "code",
     "collapsed": false,
     "input": [
      "plt.plot(n_expected, n_acqs + np.random.uniform(-0.1, 0.1, size=len(n_acqs)), '.', alpha=0.3)\n",
      "plt.xlim(0, 8.5)\n",
      "plt.ylim(0, 8.5)\n",
      "plt.grid()\n",
      "plt.plot([0,8.5], [0, 8.5], '--r')\n",
      "plt.plot([2,8.5], [0, 6.5], '--m')\n",
      "plt.xlabel('Predicted acq stars')\n",
      "plt.ylabel('Actual acq stars')\n",
      "plt.title('Acq stars per obsid');"
     ],
     "language": "python",
     "metadata": {},
     "outputs": [
      {
       "metadata": {},
       "output_type": "display_data",
       "png": "[encoded data removed]",
       "text": [
        "<matplotlib.figure.Figure at 0x117fdb610>"
       ]
      }
     ],
     "prompt_number": 48
    },
    {
     "cell_type": "markdown",
     "metadata": {},
     "source": [
      "## Colors of stars in bad fields\n",
      "\n",
      "Collect the stars in bad fields (`actual acquired < expected - 2`) and plot histogram of colors.  Do the same for good fields.\n",
      "\n",
      "**Result**: No significant difference"
     ]
    },
    {
     "cell_type": "code",
     "collapsed": false,
     "input": [
      "bad_mask = n_expected - n_acqs > 2  # These arrays are per-obsid (per-field)"
     ],
     "language": "python",
     "metadata": {},
     "outputs": [],
     "prompt_number": 86
    },
    {
     "cell_type": "code",
     "collapsed": false,
     "input": [
      "colors = []\n",
      "for grp in pg.groups[bad_mask].groups:\n",
      "    colors.append(grp['color'])\n",
      "bad_colors = np.concatenate(colors)"
     ],
     "language": "python",
     "metadata": {},
     "outputs": [],
     "prompt_number": 72
    },
    {
     "cell_type": "code",
     "collapsed": false,
     "input": [
      "colors = []\n",
      "for grp in pg.groups[~bad_mask].groups:\n",
      "    colors.append(grp['color'])\n",
      "colors = np.concatenate(colors)\n",
      "good_colors = colors[~np.isnan(colors)]"
     ],
     "language": "python",
     "metadata": {},
     "outputs": [],
     "prompt_number": 69
    },
    {
     "cell_type": "code",
     "collapsed": false,
     "input": [
      "plt.hist(good_colors, bins=np.arange(-0.2, 1.6, 0.1), normed=True, alpha=0.5, histtype='stepfilled');\n",
      "plt.hist(bad_colors, bins=np.arange(-0.2, 1.6, 0.1), normed=True, alpha=0.5, facecolor='r', histtype='stepfilled');"
     ],
     "language": "python",
     "metadata": {},
     "outputs": [
      {
       "metadata": {},
       "output_type": "display_data",
       "png": "[encoded data removed]",
       "text": [
        "<matplotlib.figure.Figure at 0x104b42ad0>"
       ]
      }
     ],
     "prompt_number": 79
    },
    {
     "cell_type": "markdown",
     "metadata": {},
     "source": [
      "## Colors of bad stars\n",
      "\n",
      "Do the simpler thing and just look at colors of stars that were acquired vs. those not acquired.\n",
      "\n",
      "**Result**: No strong difference, except perhaps 40% more `color=1.5` stars"
     ]
    },
    {
     "cell_type": "code",
     "collapsed": false,
     "input": [
      "id_colors = probs['color'][probs['acquired'].astype(np.bool)]\n",
      "no_id_colors = probs['color'][~probs['acquired'].astype(np.bool)]"
     ],
     "language": "python",
     "metadata": {},
     "outputs": [],
     "prompt_number": 83
    },
    {
     "cell_type": "code",
     "collapsed": false,
     "input": [
      "plt.hist(id_colors, bins=np.arange(-0.2, 1.6, 0.1), normed=True, alpha=0.5, histtype='stepfilled');\n",
      "plt.hist(no_id_colors, bins=np.arange(-0.2, 1.6, 0.1), normed=True, alpha=0.5, facecolor='r', histtype='stepfilled');"
     ],
     "language": "python",
     "metadata": {},
     "outputs": [
      {
       "metadata": {},
       "output_type": "display_data",
       "png": "[encoded data removed]",
       "text": [
        "<matplotlib.figure.Figure at 0x11b6fa610>"
       ]
      }
     ],
     "prompt_number": 84
    },
    {
     "cell_type": "code",
     "collapsed": false,
     "input": [
      "print(obsids[bad_mask])"
     ],
     "language": "python",
     "metadata": {},
     "outputs": [
      {
       "output_type": "stream",
       "stream": "stdout",
       "text": [
        "[12911 13363 13516 13518 13994 14033 14955 15378 15756 16311 16413 16425\n",
        " 16426 52512 52600 52650 52782 53405 53520 53656 53976 54116 54190 54245\n",
        " 54455 54649 54745 54767 54775 54936]\n"
       ]
      }
     ],
     "prompt_number": 87
    },
    {
     "cell_type": "code",
     "collapsed": false,
     "input": [
      "import webbrowser"
     ],
     "language": "python",
     "metadata": {},
     "outputs": [],
     "prompt_number": 88
    },
    {
     "cell_type": "code",
     "collapsed": false,
     "input": [
      "def open_mica(obsid):\n",
      "    webbrowser.open_new_tab('http://kadi.cfa.harvard.edu/mica/?obsid_or_date={}'.format(obsid))"
     ],
     "language": "python",
     "metadata": {},
     "outputs": [],
     "prompt_number": 90
    },
    {
     "cell_type": "code",
     "collapsed": true,
     "input": [
      "open_mica(12911)"
     ],
     "language": "python",
     "metadata": {},
     "outputs": [],
     "prompt_number": 91
    }
   ],
   "metadata": {}
  }
 ]
}