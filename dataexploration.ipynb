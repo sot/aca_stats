{
 "metadata": {
  "name": "",
  "signature": "sha256:4008a1fd76ca9b8739bbeebf78466a2f5567ee219c7efaa45dc82fb4516baecf"
 },
 "nbformat": 3,
 "nbformat_minor": 0,
 "worksheets": [
  {
   "cells": [
    {
     "cell_type": "markdown",
     "metadata": {},
     "source": [
      "# Chandra X-Ray Observatory\n",
      "##2014 ACA Statistics Analysis <br/> Preliminary Data Exploration\n"
     ]
    },
    {
     "cell_type": "code",
     "collapsed": false,
     "input": [
      "import numpy as np\n",
      "import astropy\n",
      "import functions as f\n",
      "import matplotlib.pyplot as plt\n",
      "\n",
      "from numpy import genfromtxt\n",
      "from astropy.time import Time\n",
      "\n",
      "%matplotlib inline"
     ],
     "language": "python",
     "metadata": {},
     "outputs": [],
     "prompt_number": 18
    },
    {
     "cell_type": "markdown",
     "metadata": {},
     "source": [
      "### Data loading and creating new variables not included in the dataset\n",
      "* Original Columns:\n",
      "    - obsid: observation id\n",
      "    - obi: observation internal number\n",
      "    - tstart: observation (obspar) tstart (Chandra seconds)\n",
      "    - tstop: observation stop (Chandra seconds)\n",
      "    - slot: ACA readout slot id\n",
      "    - idx: star catalog index id\n",
      "    - cat_pos: position in uploaded star catalog\n",
      "    - type: star catalog type (BOT or ACQ)\n",
      "    - agasc_id: AGASC (catalog) id\n",
      "    - obc_id: acquisition success indicator ('ID' or 'NOID')\n",
      "    - yang: commanded y-angle position for center of readout window\n",
      "    - zang: commanded z-angle position for center of readout window\n",
      "    - mag: catalog MAG_ACA of acquisition star\n",
      "    - color: catalog COLOR1 of acquisition star\n",
      "    - halfw: acquisition search box half width\n",
      "    - mag_obs: observed magnitude of star\n",
      "    - yang_obs: observed y-angle position of centriod of star\n",
      "    - zang_obs: observed z-angle position of centroid of star\n",
      "    - y_offset: mean y offset of all of the other acquired stars\n",
      "    - z_offset: mean z offset of all of the other acquired stars\n",
      "    - d_mag: observed mag - catalog mag\n",
      "    - d_yang: observed y-angle - (catalog y + y-offset)\n",
      "    - d_zang: observed z-angle - (catalog z + z-offset)\n",
      "    - revision: acq stats processing software revision\n",
      "    - warm_pix: estimated CCD warm fraction from dark model\n",
      "    - red_spoiler: starcheck spoiler with mag difference > -0.2\n",
      "    - yellow_spoiler: starcheck spoiler with mag difference > -1.0 and < -0.2\n",
      "    - bad_pixel: known bad pixel in search box\n",
      "    - common_column: star is marked as in common column\n",
      "    - known_bad_star: acquisition star has already had multiple failures\n",
      "* Columns added:\n",
      "    - tstart_jyear: Julian Year of the observation\n",
      "    - tstart_quarter: Quarter that the observation occurs.  Uses a function 'quarter_bin' that bins the quarters based on the day of year.  \n",
      "    - mag_floor: Floor of the Star Magnitude.\n",
      "    - year: year that observation occurred.  Calculated by taking the floor of the Julian Year.\n",
      "* Notes:\n",
      "    - f.add_column was stolen from the astropy library... oops\n"
     ]
    },
    {
     "cell_type": "code",
     "collapsed": false,
     "input": [
      "#Loading data from file\n",
      "acq_data = np.load('data/acq_table.npy')\n",
      "\n",
      "#Adding fields required for analysis\n",
      "acq_data = f.add_column(acq_data, 'tstart_jyear' , np.zeros(len(acq_data)))\n",
      "acq_data = f.add_column(acq_data, 'tstart_quarter' , np.zeros(len(acq_data)))\n",
      "acq_data = f.add_column(acq_data, 'mag_floor' , np.zeros(len(acq_data)))\n",
      "acq_data = f.add_column(acq_data, 'year' , np.zeros(len(acq_data)))\n",
      "acq_data['tstart_jyear'] = Time(acq_data['tstart'], format='cxcsec').jyear\n",
      "acq_data['year'] = np.floor(acq_data.tstart_jyear)\n",
      "acq_data['mag_floor'] = np.floor(acq_data['mag'])\n",
      "\n",
      "for acq in acq_data:\n",
      "    acq.tstart_quarter = f.quarter_bin(acq.tstart_jyear)\n"
     ],
     "language": "python",
     "metadata": {},
     "outputs": [],
     "prompt_number": 11
    },
    {
     "cell_type": "markdown",
     "metadata": {},
     "source": [
      "### Misc. Subsetting of Data"
     ]
    },
    {
     "cell_type": "code",
     "collapsed": false,
     "input": [
      "subset_mag9 = f.subset_by_mag(acq_data, 9.0)\n",
      "subset_mag10 = f.subset_by_mag(acq_data, 10.0)\n",
      "\n",
      "obs_failed = f.subset_obcid(acq_data, \"NOID\")\n",
      "obs_acq = f.subset_obcid(acq_data, \"ID\")\n",
      "\n",
      "failed9s = f.subset_obcid(subset_mag9, \"NOID\")\n",
      "acqrd9s = f.subset_obcid(subset_mag9, \"ID\")\n",
      "\n",
      "failed10s = f.subset_obcid(subset_mag10, \"NOID\")\n",
      "acqrd10s = f.subset_obcid(subset_mag10, \"ID\")\n",
      "\n",
      "darkvals = genfromtxt('data/N100.csv', dtype=None, delimiter='\\t', names=True)\n",
      "\n",
      "t = Time(darkvals['Date_YearDOY'])"
     ],
     "language": "python",
     "metadata": {},
     "outputs": [],
     "prompt_number": 12
    },
    {
     "cell_type": "markdown",
     "metadata": {},
     "source": [
      "### Subsetting and binning by Quarter"
     ]
    },
    {
     "cell_type": "code",
     "collapsed": false,
     "input": [
      "def acq_byquarter(arr, mag=None):\n",
      "    quarters = np.unique(arr.tstart_quarter)\n",
      "    obs_counts = []\n",
      "    failure_counts = []\n",
      "    if mag is None:\n",
      "        for q in quarters:\n",
      "            failures = len(np.where((arr.tstart_quarter == q) & (arr.obc_id == \"NOID\"))[0])\n",
      "            counts = len(np.where(arr.tstart_quarter == q)[0])\n",
      "            failure_counts.append(float(failures))\n",
      "            obs_counts.append(float(counts))\n",
      "    else:\n",
      "        for q in quarters:\n",
      "            failures = len(np.where((arr.tstart_quarter == q) & (arr.obc_id == \"NOID\") & (arr.mag_floor == mag))[0])\n",
      "            counts = len(np.where((arr.tstart_quarter == q) & (arr.mag_floor == mag))[0])\n",
      "            failure_counts.append(float(failures))\n",
      "            obs_counts.append(float(counts))\n",
      "    failure_rate = np.array(failure_counts) / np.array(obs_counts)\n",
      "    return [quarters, failure_rate]"
     ],
     "language": "python",
     "metadata": {},
     "outputs": [],
     "prompt_number": 13
    },
    {
     "cell_type": "code",
     "collapsed": false,
     "input": [
      "mag8 = acq_byquarter(acq_data, mag=8.0)\n",
      "mag9 = acq_byquarter(acq_data, mag=9.0)\n",
      "mag10 = acq_byquarter(acq_data, mag=10.0)"
     ],
     "language": "python",
     "metadata": {},
     "outputs": [],
     "prompt_number": 14
    },
    {
     "cell_type": "markdown",
     "metadata": {},
     "source": [
      "### Plotting Acquistion Failure by Quarter as binned by Star Magnitude over the available time period."
     ]
    },
    {
     "cell_type": "code",
     "collapsed": false,
     "input": [
      "def plot_failures(out, fname):\n",
      "    F = plt.figure()\n",
      "    plt.plot(out[0],out[1], marker='o', linestyle=\"\")\n",
      "    plt.xlabel('Quarter')\n",
      "    plt.ylabel('Acq Fail Rate (%)')\n",
      "    F.set_size_inches(10,5)\n",
      "#     F.savefig(fname, type='pdf')\n",
      "    plt.show()\n",
      "#     print \"Plot: {0}... complete\".format(fname)"
     ],
     "language": "python",
     "metadata": {},
     "outputs": [],
     "prompt_number": 16
    },
    {
     "cell_type": "code",
     "collapsed": false,
     "input": [
      "plot_failures(mag8, 'plots/mag8.pdf')"
     ],
     "language": "python",
     "metadata": {},
     "outputs": [
      {
       "metadata": {},
       "output_type": "display_data",
       "png": "[encoded data removed]",
       "text": [
        "<matplotlib.figure.Figure at 0x101e0c050>"
       ]
      }
     ],
     "prompt_number": 20
    },
    {
     "cell_type": "code",
     "collapsed": false,
     "input": [
      "plot_failures(mag9, 'plots/mag9.pdf')"
     ],
     "language": "python",
     "metadata": {},
     "outputs": [
      {
       "metadata": {},
       "output_type": "display_data",
       "png": "[encoded data removed]",
       "text": [
        "<matplotlib.figure.Figure at 0x106a36290>"
       ]
      }
     ],
     "prompt_number": 21
    },
    {
     "cell_type": "code",
     "collapsed": false,
     "input": [
      "plot_failures(mag10, 'plots/mag10.pdf')"
     ],
     "language": "python",
     "metadata": {},
     "outputs": [
      {
       "metadata": {},
       "output_type": "display_data",
       "png": "[encoded data removed]",
       "text": [
        "<matplotlib.figure.Figure at 0x106a36290>"
       ]
      }
     ],
     "prompt_number": 22
    }
   ],
   "metadata": {}
  }
 ]
}