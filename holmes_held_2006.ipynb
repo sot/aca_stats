{
 "metadata": {
  "name": "",
  "signature": "sha256:52903f2159af875de6606c65876f4c9bbeefb47f72f930c32923e239662561f9"
 },
 "nbformat": 3,
 "nbformat_minor": 0,
 "worksheets": [
  {
   "cells": [
    {
     "cell_type": "code",
     "collapsed": false,
     "input": [
      "import copy\n",
      "import numpy as np \n",
      "import matplotlib.pyplot as plt\n",
      "import functions as f\n",
      "import scipy.stats as stats\n",
      "import statsmodels.api as sm\n",
      "from pandas import DataFrame\n",
      "%matplotlib inline"
     ],
     "language": "python",
     "metadata": {},
     "outputs": [],
     "prompt_number": 1
    },
    {
     "cell_type": "markdown",
     "metadata": {},
     "source": [
      "#Bayesian Binary Regression\n",
      "\n",
      "This notebook attempts to implement the pseudo-code from the paper \"Bayesian Auxiliary Variable Models for Binary and Multinomial Regression\" by Chris C. Holmes and Leonhard Held from Bayesian Analysis, 2006.\n",
      "\n",
      "http://ba.stat.cmu.edu/journal/2006/vol01/issue01/held.pdf\n",
      "\n",
      "**_Corrections to paper_**\n",
      "\n",
      "http://ba.stat.cmu.edu/journal/2011/vol06/issue02/vanderlans.pdf\n",
      "\n",
      "### Binary Regression Model\n",
      "\n",
      "Consider the Bayesian binary regression model,\n",
      "\n",
      "\\begin{eqnarray}\n",
      "    y_i &\\sim& Bernoulli(g^{-1}(\\eta_i)) \\\\\n",
      "    \\eta_i &=& x_i \\beta \\\\\n",
      "    \\beta &\\sim& \\pi(\\beta)\n",
      "\\end{eqnarray}\n",
      "\n",
      "where $y_i \\in \\{0,1\\}, i=1,\\dots,n$ is a binary response variable for a collection of $n$ objects, with $p$ covariate measurements $x_i = (x_{i1}, \\dots, x_{ip})$.  $g(u)$ is a link function, $\\eta_i$ denotes the linear predictor and $\\beta$ represents a $(p\\times1)$ column vector of regression coefficients which _a priori_ are from some distribution $\\pi(\\cdot)$\n",
      "\n",
      "### Probit Regression using Auxiliary variables\n",
      "\n",
      "**_see also:_** http://www.stat.cmu.edu/~brian/905-2009/all-papers/albert-chib-1993.pdf\n",
      "\n",
      "For the probit link - $g^{-1}(u) = \\Phi(u)$, where $\\Phi(u)$ denotes the cumulative distribution function of the standard normal random variable, the general representation of the binary regression problem is as follows:\n",
      "\n",
      "\\begin{eqnarray}\n",
      "    y_i &\\sim& \\left\\{\n",
      "                \\begin{array}{ll}\n",
      "                      1 & z_i > 0 \\\\\n",
      "                      0 & o/w \\\\\n",
      "                \\end{array} \n",
      "                \\right. \\\\\n",
      "    z_i &=& x_i \\beta + \\epsilon_i\\\\\n",
      "    \\epsilon_i &\\sim& N(0,1) \\\\\n",
      "    \\beta &\\sim& \\pi(\\beta)\n",
      "\\end{eqnarray}\n",
      "\n",
      "Now $y_i$ is determined by the sign of the auxiliary variable $z_i$.  \n",
      "\n",
      "### Implementing A1: Procedure for joint sampling in Bayesian probit\n",
      "\n",
      "For testing purposes we will use the data outlined in the Albery & Chib paper for the probit model.  Specifically the Finney data from 1947 where the probit model of interest is \n",
      "\n",
      "\\begin{eqnarray*}\n",
      "    \\Phi^{-1}(p_i) = \\beta_0 + \\beta_1 x_{1i} + \\beta_2 x_{2i}, \\mbox{   where,} i=1,\\dots,39\n",
      "\\end{eqnarray*}\n",
      "\n",
      "where $x_{1i}$ is the volume of air inspired, $x_{2i}$ is the rate of air inspired, and the binary outcome observed is the occurence or nonoccurrence on a transient vasorestriction on the skin of the digits.  "
     ]
    },
    {
     "cell_type": "code",
     "collapsed": false,
     "input": [
      "finney47 = np.genfromtxt('data/finney1947.csv', dtype=None, delimiter=',', names=True)\n",
      "DataFrame(finney47).tail(n=5)"
     ],
     "language": "python",
     "metadata": {},
     "outputs": [
      {
       "html": [
        "<div style=\"max-height:1000px;max-width:1500px;overflow:auto;\">\n",
        "<table border=\"1\" class=\"dataframe\">\n",
        "  <thead>\n",
        "    <tr style=\"text-align: right;\">\n",
        "      <th></th>\n",
        "      <th>Volume</th>\n",
        "      <th>Rate</th>\n",
        "      <th>Y</th>\n",
        "    </tr>\n",
        "  </thead>\n",
        "  <tbody>\n",
        "    <tr>\n",
        "      <th>34</th>\n",
        "      <td> 1.20</td>\n",
        "      <td> 2.000</td>\n",
        "      <td> 1</td>\n",
        "    </tr>\n",
        "    <tr>\n",
        "      <th>35</th>\n",
        "      <td> 0.80</td>\n",
        "      <td> 3.330</td>\n",
        "      <td> 1</td>\n",
        "    </tr>\n",
        "    <tr>\n",
        "      <th>36</th>\n",
        "      <td> 0.95</td>\n",
        "      <td> 1.900</td>\n",
        "      <td> 0</td>\n",
        "    </tr>\n",
        "    <tr>\n",
        "      <th>37</th>\n",
        "      <td> 0.75</td>\n",
        "      <td> 1.900</td>\n",
        "      <td> 0</td>\n",
        "    </tr>\n",
        "    <tr>\n",
        "      <th>38</th>\n",
        "      <td> 1.30</td>\n",
        "      <td> 1.625</td>\n",
        "      <td> 1</td>\n",
        "    </tr>\n",
        "  </tbody>\n",
        "</table>\n",
        "</div>"
       ],
       "metadata": {},
       "output_type": "pyout",
       "prompt_number": 2,
       "text": [
        "    Volume   Rate  Y\n",
        "34    1.20  2.000  1\n",
        "35    0.80  3.330  1\n",
        "36    0.95  1.900  0\n",
        "37    0.75  1.900  0\n",
        "38    1.30  1.625  1"
       ]
      }
     ],
     "prompt_number": 2
    },
    {
     "cell_type": "markdown",
     "metadata": {},
     "source": [
      "This section also assumes that the prior on $\\beta$ is $\\pi(\\beta) = N(0, v)$ and that the design matrix X is of dimension $(n\\times p)$.  Taking a hint from the Holmes and Held paper, we are going to set up the prior as $\\pi(\\beta) = N(0,100I_p)$"
     ]
    },
    {
     "cell_type": "code",
     "collapsed": false,
     "input": [
      "# Setting up the design Matrix, X and the priors for beta\n",
      "yi = finney47['Y']\n",
      "\n",
      "X = np.vstack((np.ones(len(finney47)), finney47['Volume'], finney47['Rate']))\n",
      "b = np.zeros(3)\n",
      "v = 100 * np.identity(3)\n",
      "\n",
      "X = X.transpose()\n",
      "yi = yi.transpose()\n",
      "\n",
      "n_para = X.shape[1]\n",
      "n_obs = len(yi)"
     ],
     "language": "python",
     "metadata": {},
     "outputs": [],
     "prompt_number": 3
    },
    {
     "cell_type": "code",
     "collapsed": false,
     "input": [
      "#First record constants unaltered within MCMC loop\n",
      "# print np.dot(X, X.transpose())\n",
      "V = np.linalg.pinv(np.dot(X.transpose(), X) + np.linalg.pinv(v))\n",
      "L = np.linalg.cholesky(V)  \n",
      "# L stores the lower triangular Cholesky factorization of V\n",
      "\n",
      "S = np.dot(V, X.transpose())\n"
     ],
     "language": "python",
     "metadata": {},
     "outputs": [],
     "prompt_number": 4
    },
    {
     "cell_type": "code",
     "collapsed": false,
     "input": [
      "#For j=1 to number of observations\n",
      "H = np.empty(n_obs)\n",
      "for i in np.arange(n_obs):\n",
      "    H[i] = np.dot(X[i,:], S[:,i])\n",
      "# H = (X * S).diagonal().transpose()\n",
      "W = H / (1 - H)\n",
      "Q = W + 1\n",
      "H"
     ],
     "language": "python",
     "metadata": {},
     "outputs": [
      {
       "metadata": {},
       "output_type": "pyout",
       "prompt_number": 6,
       "text": [
        "array([ 0.24370956,  0.21235215,  0.050006  ,  0.04919015,  0.10316222,\n",
        "        0.13701691,  0.11601647,  0.02876299,  0.08799574,  0.11996627,\n",
        "        0.11534102,  0.07145585,  0.0870003 ,  0.04361995,  0.17148908,\n",
        "        0.06643554,  0.1823102 ,  0.04634394,  0.03944307,  0.03727534,\n",
        "        0.06267793,  0.04311477,  0.03045785,  0.02928646,  0.02957052,\n",
        "        0.06009279,  0.03329677,  0.03230623,  0.04717733,  0.08508416,\n",
        "        0.10114664,  0.12456036,  0.02832969,  0.03470227,  0.02900802,\n",
        "        0.11731141,  0.03230623,  0.04050889,  0.02610946])"
       ]
      }
     ],
     "prompt_number": 6
    },
    {
     "cell_type": "code",
     "collapsed": false,
     "input": [
      "# Initialise latent variable Z, from truncated normal\n",
      "\n",
      "Z = np.empty(n_obs).transpose()\n",
      "for i, y in enumerate(yi):\n",
      "    if y:\n",
      "        Z[i] = stats.truncnorm.rvs(0., float('inf'), 0, 1)\n",
      "    else:\n",
      "        Z[i] = stats.truncnorm.rvs(float('-inf'), 0., 0, 1)\n",
      "\n",
      "### Holmes and Held says to initialize Z ~ N(0, I_n)Ind(Y,Z).\n",
      "### Instead of sampling from a multivariate truncated normal,\n",
      "### the above is used since each Zi, Zj is independent by the \n",
      "### specification of the identity matrix as the variance.\n",
      "### I really hope this assumption holds............\n",
      "\n",
      "B = np.dot(S,Z)\n",
      "B.shape\n",
      "# B denotes the conditional mean of \\beta"
     ],
     "language": "python",
     "metadata": {},
     "outputs": [
      {
       "metadata": {},
       "output_type": "pyout",
       "prompt_number": 8,
       "text": [
        "(3,)"
       ]
      }
     ],
     "prompt_number": 8
    },
    {
     "cell_type": "code",
     "collapsed": false,
     "input": [
      "n_iter = 10000\n",
      "low, mid, high = float('-inf'), 0., float('inf')\n",
      "betas = np.empty(n_para)\n",
      "for i in np.arange(n_iter):\n",
      "    if (i+1) % 1000. == 0.:\n",
      "        f.progress(i+1, n_iter)\n",
      "    z_old = copy.copy(Z)\n",
      "    for j in np.arange(n_obs):\n",
      "        m = np.dot(X[j,:],B)\n",
      "        m = m - np.dot(W[j],(Z[j] - m))\n",
      "        if yi[j]:\n",
      "            Z[j] = stats.truncnorm.rvs((mid - m) / Q[j], (high - m) / Q[j], loc=m, scale=Q[j])\n",
      "        else:\n",
      "            Z[j] = stats.truncnorm.rvs((low - m) / Q[j], (mid - m) / Q[j], loc=m, scale=Q[j])\n",
      "\n",
      "        B = B + np.float((Z[j] - z_old[j]))*S[:,j]\n",
      "    T = stats.multivariate_normal.rvs(np.zeros(n_para), np.identity(n_para), 1).transpose()\n",
      "    beta_i = (B + np.dot(L,T)).transpose()\n",
      "    betas = np.vstack((betas, beta_i))\n",
      "print \"\\n{0} Simulations complete\".format(n_iter)\n",
      "betas = betas[1:,:]\n",
      "print betas[0:10,:]\n"
     ],
     "language": "python",
     "metadata": {},
     "outputs": [
      {
       "output_type": "stream",
       "stream": "stdout",
       "text": [
        "\r",
        "10.0% of iterations complete"
       ]
      },
      {
       "output_type": "stream",
       "stream": "stdout",
       "text": [
        "\r",
        "20.0% of iterations complete"
       ]
      },
      {
       "output_type": "stream",
       "stream": "stdout",
       "text": [
        "\r",
        "30.0% of iterations complete"
       ]
      },
      {
       "output_type": "stream",
       "stream": "stdout",
       "text": [
        "\r",
        "40.0% of iterations complete"
       ]
      },
      {
       "output_type": "stream",
       "stream": "stdout",
       "text": [
        "\r",
        "50.0% of iterations complete"
       ]
      },
      {
       "output_type": "stream",
       "stream": "stdout",
       "text": [
        "\r",
        "60.0% of iterations complete"
       ]
      },
      {
       "output_type": "stream",
       "stream": "stdout",
       "text": [
        "\r",
        "70.0% of iterations complete"
       ]
      },
      {
       "output_type": "stream",
       "stream": "stdout",
       "text": [
        "\r",
        "80.0% of iterations complete"
       ]
      },
      {
       "output_type": "stream",
       "stream": "stdout",
       "text": [
        "\r",
        "90.0% of iterations complete"
       ]
      },
      {
       "output_type": "stream",
       "stream": "stdout",
       "text": [
        "\r",
        "100.0% of iterations complete"
       ]
      },
      {
       "output_type": "stream",
       "stream": "stdout",
       "text": [
        "\n",
        "10000 Simulations complete\n",
        "[[-2.98611117  1.27469026  0.72308704]\n",
        " [-3.69262931  1.47711142  1.06954999]\n",
        " [-4.7587381   1.91565355  1.34889084]\n",
        " [-6.28545098  2.15679209  1.74783257]\n",
        " [-6.45952633  2.64684508  1.75803751]\n",
        " [-6.66293192  2.5278541   1.94170481]\n",
        " [-7.11032209  2.74048436  2.1452832 ]\n",
        " [-6.55671787  2.7666335   1.89657263]\n",
        " [-4.96373947  2.30292586  1.32037071]\n",
        " [-4.76995005  1.99356349  1.6611888 ]]\n"
       ]
      }
     ],
     "prompt_number": 7
    },
    {
     "cell_type": "code",
     "collapsed": false,
     "input": [
      "F = plt.figure()\n",
      "plt.hist(betas[1000:,0], 50, normed=True)\n",
      "F.set_size_inches(10,5)\n",
      "plt.show()"
     ],
     "language": "python",
     "metadata": {},
     "outputs": [
      {
       "metadata": {},
       "output_type": "display_data",
       "png": "[encoded data removed]",
       "text": [
        "<matplotlib.figure.Figure at 0x109d33d50>"
       ]
      }
     ],
     "prompt_number": 8
    },
    {
     "cell_type": "code",
     "collapsed": false,
     "input": [
      "np.mean(betas[2000:,0])"
     ],
     "language": "python",
     "metadata": {},
     "outputs": [
      {
       "metadata": {},
       "output_type": "pyout",
       "prompt_number": 9,
       "text": [
        "-5.8485239553723938"
       ]
      }
     ],
     "prompt_number": 9
    },
    {
     "cell_type": "code",
     "collapsed": false,
     "input": [
      "F = plt.figure()\n",
      "plt.hist(betas[1000:,1], 50, normed=True)\n",
      "F.set_size_inches(10,5)\n",
      "plt.show()"
     ],
     "language": "python",
     "metadata": {},
     "outputs": [
      {
       "metadata": {},
       "output_type": "display_data",
       "png": "[encoded data removed]",
       "text": [
        "<matplotlib.figure.Figure at 0x10204b150>"
       ]
      }
     ],
     "prompt_number": 10
    },
    {
     "cell_type": "code",
     "collapsed": false,
     "input": [
      "np.mean(betas[1000:,1])"
     ],
     "language": "python",
     "metadata": {},
     "outputs": [
      {
       "metadata": {},
       "output_type": "pyout",
       "prompt_number": 11,
       "text": [
        "2.3683682398311618"
       ]
      }
     ],
     "prompt_number": 11
    },
    {
     "cell_type": "code",
     "collapsed": false,
     "input": [
      "F = plt.figure()\n",
      "plt.hist(betas[1000:,2], 50, normed=True)\n",
      "F.set_size_inches(10,5)\n",
      "plt.show()"
     ],
     "language": "python",
     "metadata": {},
     "outputs": [
      {
       "metadata": {},
       "output_type": "display_data",
       "png": "[encoded data removed]",
       "text": [
        "<matplotlib.figure.Figure at 0x10a94c050>"
       ]
      }
     ],
     "prompt_number": 12
    },
    {
     "cell_type": "code",
     "collapsed": false,
     "input": [
      "np.mean(betas[1000:,2])"
     ],
     "language": "python",
     "metadata": {},
     "outputs": [
      {
       "metadata": {},
       "output_type": "pyout",
       "prompt_number": 13,
       "text": [
        "1.678874250272572"
       ]
      }
     ],
     "prompt_number": 13
    },
    {
     "cell_type": "code",
     "collapsed": false,
     "input": [],
     "language": "python",
     "metadata": {},
     "outputs": [],
     "prompt_number": 15
    }
   ],
   "metadata": {}
  }
 ]
}