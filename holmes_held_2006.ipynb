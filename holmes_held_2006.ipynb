{
 "metadata": {
  "name": "",
  "signature": "sha256:9aef70b3241618f5fc32bb63480f51334b33b9256498b51b7eb33d9ae9a323e8"
 },
 "nbformat": 3,
 "nbformat_minor": 0,
 "worksheets": [
  {
   "cells": [
    {
     "cell_type": "code",
     "collapsed": false,
     "input": [
      "import copy\n",
      "import numpy as np \n",
      "import matplotlib.pyplot as plt\n",
      "import scipy.stats as stats\n",
      "import statsmodels.api as sm\n",
      "from pandas import DataFrame\n",
      "%matplotlib inline"
     ],
     "language": "python",
     "metadata": {},
     "outputs": [],
     "prompt_number": 118
    },
    {
     "cell_type": "markdown",
     "metadata": {},
     "source": [
      "#Bayesian Binary Regression\n",
      "\n",
      "This notebook attempts to implement the pseudo-code from the paper \"Bayesian Auxiliary Variable Models for Binary and Multinomial Regression\" by Chris C. Holmes and Leonhard Held from Bayesian Analysis, 2006.\n",
      "\n",
      "http://ba.stat.cmu.edu/journal/2006/vol01/issue01/held.pdf\n",
      "\n",
      "**_Corrections to paper_**\n",
      "\n",
      "http://ba.stat.cmu.edu/journal/2011/vol06/issue02/vanderlans.pdf\n",
      "\n",
      "### Binary Regression Model\n",
      "\n",
      "Consider the Bayesian binary regression model,\n",
      "\n",
      "\\begin{eqnarray}\n",
      "    y_i &\\sim& Bernoulli(g^{-1}(\\eta_i)) \\\\\n",
      "    \\eta_i &=& x_i \\beta \\\\\n",
      "    \\beta &\\sim& \\pi(\\beta)\n",
      "\\end{eqnarray}\n",
      "\n",
      "where $y_i \\in \\{0,1\\}, i=1,\\dots,n$ is a binary response variable for a collection of $n$ objects, with $p$ covariate measurements $x_i = (x_{i1}, \\dots, x_{ip})$.  $g(u)$ is a link function, $\\eta_i$ denotes the linear predictor and $\\beta$ represents a $(p\\times1)$ column vector of regression coefficients which _a priori_ are from some distribution $\\pi(\\cdot)$\n",
      "\n",
      "### Probit Regression using Auxiliary variables\n",
      "\n",
      "**_see also:_** http://www.stat.cmu.edu/~brian/905-2009/all-papers/albert-chib-1993.pdf\n",
      "\n",
      "For the probit link - $g^{-1}(u) = \\Phi(u)$, where $\\Phi(u)$ denotes the cumulative distribution function of the standard normal random variable, the general representation of the binary regression problem is as follows:\n",
      "\n",
      "\\begin{eqnarray}\n",
      "    y_i &\\sim& \\left\\{\n",
      "                \\begin{array}{ll}\n",
      "                      1 & z_i > 0 \\\\\n",
      "                      0 & o/w \\\\\n",
      "                \\end{array} \n",
      "                \\right. \\\\\n",
      "    z_i &=& x_i \\beta + \\epsilon_i\\\\\n",
      "    \\epsilon_i &\\sim& N(0,1) \\\\\n",
      "    \\beta &\\sim& \\pi(\\beta)\n",
      "\\end{eqnarray}\n",
      "\n",
      "Now $y_i$ is determined by the sign of the auxiliary variable $z_i$.  \n",
      "\n",
      "### Implementing A1: Procedure for joint sampling in Bayesian probit\n",
      "\n",
      "For testing purposes we will use the data outlined in the Albery & Chib paper for the probit model.  Specifically the Finney data from 1947 where the probit model of interest is \n",
      "\n",
      "\\begin{eqnarray*}\n",
      "    \\Phi^{-1}(p_i) = \\beta_0 + \\beta_1 x_{1i} + \\beta_2 x_{2i}, \\mbox{   where,} i=1,\\dots,39\n",
      "\\end{eqnarray*}\n",
      "\n",
      "where $x_{1i}$ is the volume of air inspired, $x_{2i}$ is the rate of air inspired, and the binary outcome observed is the occurence or nonoccurrence on a transient vasorestriction on the skin of the digits.  "
     ]
    },
    {
     "cell_type": "code",
     "collapsed": false,
     "input": [
      "finney47 = np.genfromtxt('finney1947.csv', dtype=None, delimiter=',', names=True)\n",
      "DataFrame(finney47).tail(n=5)"
     ],
     "language": "python",
     "metadata": {},
     "outputs": [
      {
       "html": [
        "<div style=\"max-height:1000px;max-width:1500px;overflow:auto;\">\n",
        "<table border=\"1\" class=\"dataframe\">\n",
        "  <thead>\n",
        "    <tr style=\"text-align: right;\">\n",
        "      <th></th>\n",
        "      <th>Volume</th>\n",
        "      <th>Rate</th>\n",
        "      <th>Y</th>\n",
        "    </tr>\n",
        "  </thead>\n",
        "  <tbody>\n",
        "    <tr>\n",
        "      <th>34</th>\n",
        "      <td> 1.20</td>\n",
        "      <td> 2.000</td>\n",
        "      <td> 1</td>\n",
        "    </tr>\n",
        "    <tr>\n",
        "      <th>35</th>\n",
        "      <td> 0.80</td>\n",
        "      <td> 3.330</td>\n",
        "      <td> 1</td>\n",
        "    </tr>\n",
        "    <tr>\n",
        "      <th>36</th>\n",
        "      <td> 0.95</td>\n",
        "      <td> 1.900</td>\n",
        "      <td> 0</td>\n",
        "    </tr>\n",
        "    <tr>\n",
        "      <th>37</th>\n",
        "      <td> 0.75</td>\n",
        "      <td> 1.900</td>\n",
        "      <td> 0</td>\n",
        "    </tr>\n",
        "    <tr>\n",
        "      <th>38</th>\n",
        "      <td> 1.30</td>\n",
        "      <td> 1.625</td>\n",
        "      <td> 1</td>\n",
        "    </tr>\n",
        "  </tbody>\n",
        "</table>\n",
        "</div>"
       ],
       "metadata": {},
       "output_type": "pyout",
       "prompt_number": 8,
       "text": [
        "    Volume   Rate  Y\n",
        "34    1.20  2.000  1\n",
        "35    0.80  3.330  1\n",
        "36    0.95  1.900  0\n",
        "37    0.75  1.900  0\n",
        "38    1.30  1.625  1"
       ]
      }
     ],
     "prompt_number": 8
    },
    {
     "cell_type": "markdown",
     "metadata": {},
     "source": [
      "This section also assumes that the prior on $\\beta$ is $\\pi(\\beta) = N(0, v)$ and that the design matrix X is of dimension $(n\\times p)$.  Taking a hint from the Holmes and Held paper, we are going to set up the prior as $\\pi(\\beta) = N(0,100I_p)$"
     ]
    },
    {
     "cell_type": "code",
     "collapsed": false,
     "input": [
      "# Setting up the design Matrix, X and the priors for beta\n",
      "yi = np.matrix(finney47['Y']).T\n",
      "\n",
      "X = np.matrix(np.vstack((np.ones(len(finney47)), finney47['Volume'], finney47['Rate'])).transpose())\n",
      "b = np.matrix(np.zeros(3)).transpose()\n",
      "v = np.matrix(100 * np.identity(3))\n"
     ],
     "language": "python",
     "metadata": {},
     "outputs": [],
     "prompt_number": 183
    },
    {
     "cell_type": "code",
     "collapsed": false,
     "input": [
      "#First record constants unaltered within MCMC loop\n",
      "\n",
      "V = (X.T * X + v.I).I\n",
      "L = np.linalg.cholesky(V) \n",
      "# L stores the lower triangular Cholesky factorization of V\n",
      "\n",
      "S = V * X.T\n"
     ],
     "language": "python",
     "metadata": {},
     "outputs": [],
     "prompt_number": 184
    },
    {
     "cell_type": "code",
     "collapsed": false,
     "input": [
      "#For j=1 to number of observations\n",
      "H = np.empty(len(yi))\n",
      "W = np.empty(len(yi))\n",
      "Q = np.empty(len(yi))\n",
      "for i in np.arange(len(X)):\n",
      "    H[i] = X[i,:] * S[:,i]\n",
      "    W[i] = H[i] / (1 - H[i])\n",
      "    Q[i] = W[i] + 1"
     ],
     "language": "python",
     "metadata": {},
     "outputs": [],
     "prompt_number": 185
    },
    {
     "cell_type": "code",
     "collapsed": false,
     "input": [
      "# Initialise latent variable Z, from truncated normal\n",
      "\n",
      "Z = np.matrix(np.empty(len(yi))).transpose()\n",
      "for i, y in enumerate(yi):\n",
      "    if y:\n",
      "        Z[i] = stats.truncnorm.rvs(0., float('inf'), 0, 1)\n",
      "    else:\n",
      "        Z[i] = stats.truncnorm.rvs(float('-inf'), 0., 0, 1)\n",
      "\n",
      "### Holmes and Held says to initialize Z ~ N(0, I_n)Ind(Y,Z).\n",
      "### Instead of sampling from a multivariate truncated normal,\n",
      "### the above is used since each Zi, Zj is independent by the \n",
      "### specification of the identity matrix as the variance.\n",
      "### I really hope this assumption holds............\n",
      "\n",
      "B = S*Z\n",
      "# B denotes the conditional mean of \\beta"
     ],
     "language": "python",
     "metadata": {},
     "outputs": [],
     "prompt_number": 186
    },
    {
     "cell_type": "code",
     "collapsed": false,
     "input": [
      "n_iter = 5000\n",
      "betas = np.empty(3)\n",
      "for i in np.arange(n_iter):\n",
      "    if i % 1000. == 0.:\n",
      "        print i\n",
      "    for j in np.arange(len(yi)):\n",
      "        z_old = copy.copy(Z[j])\n",
      "        m = X[j,:]*B\n",
      "        m = m - W[j]*(Z[j] - m)\n",
      "        \n",
      "        if yi[j]:\n",
      "            lower, upper = 0., float('inf')\n",
      "            mu, sigma = m, Q[j]\n",
      "            Z[j] = stats.truncnorm.rvs((lower - mu) / sigma, (upper - mu) / sigma, loc=mu, scale=sigma)\n",
      "        else:\n",
      "            lower, upper = float('-inf'), 0.\n",
      "            mu, sigma = m, Q[j]\n",
      "            Z[j] = stats.truncnorm.rvs((lower - mu) / sigma, (upper - mu) / sigma, loc=mu, scale=sigma)\n",
      "\n",
      "        B = B + np.float64((Z[j] - z_old))*S[:,j]\n",
      "\n",
      "    T = np.matrix(stats.multivariate_normal.rvs(np.zeros(3), np.identity(3), 1)).T\n",
      "    beta_i = (B + L*T).T\n",
      "    \n",
      "    betas = np.vstack((betas, beta_i))\n",
      "print \"{0} Simulations complete\".format(n_iter)\n",
      "betas = betas[1:,:]\n"
     ],
     "language": "python",
     "metadata": {},
     "outputs": [
      {
       "output_type": "stream",
       "stream": "stdout",
       "text": [
        "0\n",
        "1000"
       ]
      },
      {
       "output_type": "stream",
       "stream": "stdout",
       "text": [
        "\n",
        "2000"
       ]
      },
      {
       "output_type": "stream",
       "stream": "stdout",
       "text": [
        "\n",
        "3000"
       ]
      },
      {
       "output_type": "stream",
       "stream": "stdout",
       "text": [
        "\n",
        "4000"
       ]
      },
      {
       "output_type": "stream",
       "stream": "stdout",
       "text": [
        "\n",
        "5000 Simulations complete"
       ]
      },
      {
       "output_type": "stream",
       "stream": "stdout",
       "text": [
        "\n"
       ]
      }
     ],
     "prompt_number": 187
    },
    {
     "cell_type": "code",
     "collapsed": false,
     "input": [
      "F = plt.figure()\n",
      "plt.hist(betas[1000:,0], 50)\n",
      "F.set_size_inches(10,5)\n",
      "plt.show()"
     ],
     "language": "python",
     "metadata": {},
     "outputs": [
      {
       "metadata": {},
       "output_type": "display_data",
       "png": "[encoded data removed]",
       "text": [
        "<matplotlib.figure.Figure at 0x109c596d0>"
       ]
      }
     ],
     "prompt_number": 188
    },
    {
     "cell_type": "code",
     "collapsed": false,
     "input": [
      "np.mean(betas[2000:,0])"
     ],
     "language": "python",
     "metadata": {},
     "outputs": [
      {
       "metadata": {},
       "output_type": "pyout",
       "prompt_number": 190,
       "text": [
        "-5.7133255670084058"
       ]
      }
     ],
     "prompt_number": 190
    },
    {
     "cell_type": "code",
     "collapsed": false,
     "input": [
      "F = plt.figure()\n",
      "plt.hist(betas[1000:,1], 50)\n",
      "F.set_size_inches(10,5)\n",
      "plt.show()"
     ],
     "language": "python",
     "metadata": {},
     "outputs": [
      {
       "metadata": {},
       "output_type": "display_data",
       "png": "[encoded data removed]",
       "text": [
        "<matplotlib.figure.Figure at 0x109977310>"
       ]
      }
     ],
     "prompt_number": 191
    },
    {
     "cell_type": "code",
     "collapsed": false,
     "input": [
      "np.mean(betas[1000:,1])"
     ],
     "language": "python",
     "metadata": {},
     "outputs": [
      {
       "metadata": {},
       "output_type": "pyout",
       "prompt_number": 195,
       "text": [
        "2.3579350997109767"
       ]
      }
     ],
     "prompt_number": 195
    },
    {
     "cell_type": "code",
     "collapsed": false,
     "input": [
      "F = plt.figure()\n",
      "plt.hist(betas[1000:,2], 50)\n",
      "F.set_size_inches(10,5)\n",
      "plt.show()"
     ],
     "language": "python",
     "metadata": {},
     "outputs": [
      {
       "metadata": {},
       "output_type": "display_data",
       "png": "[encoded data removed]",
       "text": [
        "<matplotlib.figure.Figure at 0x109c4e650>"
       ]
      }
     ],
     "prompt_number": 192
    },
    {
     "cell_type": "code",
     "collapsed": false,
     "input": [
      "np.mean(betas[1000:,2])"
     ],
     "language": "python",
     "metadata": {},
     "outputs": [
      {
       "metadata": {},
       "output_type": "pyout",
       "prompt_number": 193,
       "text": [
        "1.6412825123771098"
       ]
      }
     ],
     "prompt_number": 193
    }
   ],
   "metadata": {}
  }
 ]
}