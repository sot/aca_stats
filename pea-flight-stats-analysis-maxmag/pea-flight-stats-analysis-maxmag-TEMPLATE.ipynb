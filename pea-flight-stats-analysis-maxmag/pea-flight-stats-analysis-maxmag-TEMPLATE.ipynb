{
 "cells": [
  {
   "attachments": {},
   "cell_type": "markdown",
   "metadata": {},
   "source": [
    "# Statistical analysis comparing PEA test set (MAXMAG clipped) and flight data\n",
    "\n",
    "This compares the 2022-Dec ASVT data set with MAXMAG clipped to flight data since\n",
    "2019-July-01 (approx start time of MAXMAG clipping in flight products).\n",
    "\n",
    "Summary: There is reasonable agreement for the all box sizes.\n",
    "\n",
    "See the 2023x01x04 Aspect TWiki notes for the 6 notebooks for each of the halfwidths\n",
    "60, 80, 100, 120, 140, and 160 arcsec.\n",
    "\n",
    "Reference page:\n",
    "https://occweb.cfa.harvard.edu/twiki/bin/view/Aspect/PeaAcqModelCalDec2022Testing"
   ]
  },
  {
   "cell_type": "code",
   "execution_count": null,
   "metadata": {},
   "outputs": [],
   "source": [
    "import numpy as np\n",
    "from pathlib import Path\n",
    "import os\n",
    "from collections import Counter\n",
    "import itertools\n",
    "\n",
    "from scipy.stats import binom\n",
    "from astropy.table import Table\n",
    "import matplotlib.pyplot as plt\n",
    "from matplotlib import patches\n",
    "import tables\n",
    "from cxotime import CxoTime\n",
    "import agasc\n",
    "\n",
    "from utils_asvt import flatten_pea_test_data, read_twiki_csv\n",
    "\n",
    "%matplotlib inline"
   ]
  },
  {
   "cell_type": "code",
   "execution_count": null,
   "metadata": {},
   "outputs": [],
   "source": [
    "HALFWIDTH = 60  # Do analysis for one search box size"
   ]
  },
  {
   "cell_type": "code",
   "execution_count": null,
   "metadata": {},
   "outputs": [],
   "source": [
    "SKA = Path(os.environ['SKA'])"
   ]
  },
  {
   "cell_type": "code",
   "execution_count": null,
   "metadata": {},
   "outputs": [],
   "source": [
    "topic = 'PeaAcqModelCalDec2022Testing/'\n",
    "name = 'pea_analysis_2022_336_AcqProbModel_calibration_test_results.csv'\n",
    "dat8 = read_twiki_csv(topic + name)"
   ]
  },
  {
   "cell_type": "code",
   "execution_count": null,
   "metadata": {},
   "outputs": [],
   "source": [
    "dat = flatten_pea_test_data(dat8)"
   ]
  },
  {
   "cell_type": "code",
   "execution_count": null,
   "metadata": {
    "scrolled": true
   },
   "outputs": [],
   "source": [
    "', '.join(sorted(dat.colnames))"
   ]
  },
  {
   "cell_type": "code",
   "execution_count": null,
   "metadata": {
    "scrolled": true
   },
   "outputs": [],
   "source": [
    "Counter(dat['ccd_temp'])"
   ]
  },
  {
   "cell_type": "code",
   "execution_count": null,
   "metadata": {},
   "outputs": [],
   "source": [
    "# plt.hist(datf['star_mag'], bins=20)\n",
    "Counter(dat['star_mag'])"
   ]
  },
  {
   "cell_type": "code",
   "execution_count": null,
   "metadata": {},
   "outputs": [],
   "source": [
    "asvt = dat[dat['search_box_hw'] == HALFWIDTH]"
   ]
  },
  {
   "cell_type": "code",
   "execution_count": null,
   "metadata": {},
   "outputs": [],
   "source": [
    "set(asvt['star_mag'])"
   ]
  },
  {
   "cell_type": "code",
   "execution_count": null,
   "metadata": {},
   "outputs": [],
   "source": [
    "set(asvt['ccd_temp'])"
   ]
  },
  {
   "cell_type": "code",
   "execution_count": null,
   "metadata": {},
   "outputs": [],
   "source": [
    "set(asvt['search_box_hw'])"
   ]
  },
  {
   "cell_type": "code",
   "execution_count": null,
   "metadata": {},
   "outputs": [],
   "source": [
    "acq_file = SKA / 'data' / 'acq_stats' / 'acq_stats.h5'\n",
    "with tables.open_file(acq_file, 'r') as h5:\n",
    "    cols = h5.root.data.cols\n",
    "    names = {'tstart': 'guide_tstart',\n",
    "             'obsid': 'obsid',\n",
    "             'obc_id': 'acqid',\n",
    "             'halfwidth': 'halfw',\n",
    "             'mag_aca': 'mag_aca',\n",
    "             'mag_obs': 'mag_obs',\n",
    "             'known_bad': 'known_bad',\n",
    "             'color': 'color1',\n",
    "            'img_func': 'img_func', \n",
    "            'ion_rad': 'ion_rad',\n",
    "            'sat_pix': 'sat_pix',\n",
    "             'agasc_id': 'agasc_id',\n",
    "             't_ccd': 'ccd_temp',\n",
    "            'slot': 'slot'}\n",
    "    acqs = Table([getattr(cols, h5_name)[:] for h5_name in names.values()],\n",
    "                 names=list(names.keys()))\n"
   ]
  },
  {
   "cell_type": "code",
   "execution_count": null,
   "metadata": {},
   "outputs": [],
   "source": [
    "\n",
    "# Only data since July 1, 2019 and for color != 1.5 stars. Also ignore any\n",
    "# failures of IR or SP flags because those don't get generated in ASVT data.\n",
    "ok0 = acqs['tstart'] > CxoTime('2019-07-01').secs\n",
    "ok1 = ~np.isclose(acqs['color'], 1.5)\n",
    "ok = ok0 & ok1 & ~acqs['ion_rad'] & ~acqs['sat_pix'] & (acqs['halfwidth'] == HALFWIDTH)\n",
    "flt = acqs[ok]\n",
    "flt['ccd_temp'] = flt['t_ccd']"
   ]
  },
  {
   "cell_type": "code",
   "execution_count": null,
   "metadata": {},
   "outputs": [],
   "source": [
    "len(flt)"
   ]
  },
  {
   "cell_type": "code",
   "execution_count": null,
   "metadata": {},
   "outputs": [],
   "source": [
    "stars = agasc.get_stars(flt['agasc_id'])\n",
    "flt['star_mag'] = stars['MAG_ACA']\n",
    "flt['mag_catid'] = stars['MAG_CATID']"
   ]
  },
  {
   "cell_type": "code",
   "execution_count": null,
   "metadata": {},
   "outputs": [],
   "source": [
    "np.count_nonzero(flt['mag_catid'] == 100)"
   ]
  },
  {
   "cell_type": "code",
   "execution_count": null,
   "metadata": {},
   "outputs": [],
   "source": [
    "bad_stars = agasc.get_supplement_table('bad')\n",
    "len(bad_stars)"
   ]
  },
  {
   "cell_type": "code",
   "execution_count": null,
   "metadata": {},
   "outputs": [],
   "source": [
    "bad = np.isin(flt['agasc_id'], bad_stars['agasc_id'])\n",
    "print(np.count_nonzero(bad))\n",
    "flt = flt[~bad]"
   ]
  },
  {
   "cell_type": "code",
   "execution_count": null,
   "metadata": {},
   "outputs": [],
   "source": [
    "def get_vals_and_bins(vals):\n",
    "    out_vals = np.array(sorted(set(vals)))\n",
    "    out_val_centers = (out_vals[1:] + out_vals[:-1]) / 2\n",
    "    out_val_bins = np.concatenate(\n",
    "        [\n",
    "            [out_vals[0] - 0.5], \n",
    "            out_val_centers, \n",
    "            [out_vals[-1] + 0.5],\n",
    "        ]\n",
    "    )\n",
    "    return out_vals, out_val_bins"
   ]
  },
  {
   "cell_type": "code",
   "execution_count": null,
   "metadata": {},
   "outputs": [],
   "source": [
    "t_ccd_vals, t_ccd_bins = get_vals_and_bins(asvt['ccd_temp'])\n",
    "mag_vals, mag_bins = get_vals_and_bins(asvt['star_mag'])"
   ]
  },
  {
   "cell_type": "code",
   "execution_count": null,
   "metadata": {},
   "outputs": [],
   "source": [
    "print(t_ccd_bins)\n",
    "print(t_ccd_vals)"
   ]
  },
  {
   "cell_type": "code",
   "execution_count": null,
   "metadata": {},
   "outputs": [],
   "source": [
    "zeros = np.zeros(shape=(len(mag_vals), len(t_ccd_vals)), dtype=int)\n",
    "n_samp_asvt = zeros.copy()\n",
    "n_succ_asvt = zeros.copy()"
   ]
  },
  {
   "cell_type": "code",
   "execution_count": null,
   "metadata": {},
   "outputs": [],
   "source": [
    "# Aggregate binned number of samples and successes for ASVT data\n",
    "\n",
    "# Bin halfwidths (narrow since ASVT data are all at the same mag, T_ccd)\n",
    "for ii, mag0, mag1 in zip(itertools.count(), mag_bins[:-1], mag_bins[1:]):\n",
    "    for jj, t_ccd0, t_ccd1 in zip(itertools.count(), t_ccd_bins[:-1], t_ccd_bins[1:]):\n",
    "        ok0 = (asvt['star_mag'] >= mag0) & (asvt['star_mag'] < mag1)\n",
    "        ok1 = (asvt['ccd_temp'] >= t_ccd0) & (asvt['ccd_temp'] < t_ccd1)\n",
    "        ok = ok0 & ok1\n",
    "        n_samp_asvt[ii, jj] = np.count_nonzero(ok)\n",
    "        n_succ_asvt[ii, jj] = np.count_nonzero(asvt['search_success'][ok])\n"
   ]
  },
  {
   "cell_type": "code",
   "execution_count": null,
   "metadata": {},
   "outputs": [],
   "source": [
    "# # Aggregate binned number of samples and successes for Flight data\n",
    "\n",
    "# # Bin halfwidths (narrow since ASVT data are all at the same mag, T_ccd)\n",
    "# for ii, mag0, mag1 in zip(itertools.count(), mag_bins[:-1], mag_bins[1:]):\n",
    "#     for jj, t_ccd0, t_ccd1 in zip(itertools.count(), t_ccd_bins[:-1], t_ccd_bins[1:]):\n",
    "#         ok0 = (flt['star_mag'] >= mag0) & (flt['star_mag'] < mag1)\n",
    "#         ok1 = (flt['ccd_temp'] >= t_ccd0) & (flt['ccd_temp'] < t_ccd1)\n",
    "#         ok = ok0 & ok1\n",
    "#         n_samp_flt[ii, jj] = np.count_nonzero(ok)\n",
    "#         n_succ_flt[ii, jj] = np.count_nonzero(flt['search_success'][ok])\n"
   ]
  },
  {
   "cell_type": "code",
   "execution_count": null,
   "metadata": {},
   "outputs": [],
   "source": [
    "# Aggregate binned number of samples and successes for flight data\n",
    "\n",
    "# In the case of a repeated observation of the same star only use the first one\n",
    "# if IGNORE_REPEATS is True. This reduces bias in the case of a star that is\n",
    "# actually much fainter or brighter than the catalog mag.\n",
    "\n",
    "n_samp_flt = zeros.copy()\n",
    "n_succ_flt = zeros.copy()\n",
    "IGNORE_REPEATS = False\n",
    "\n",
    "for ii, mag0, mag1 in zip(itertools.count(), mag_bins[:-1], mag_bins[1:]):\n",
    "    for jj, t_ccd0, t_ccd1 in zip(itertools.count(), t_ccd_bins[:-1], t_ccd_bins[1:]):\n",
    "        ok0 = (flt['star_mag'] >= mag0) & (flt['star_mag'] < mag1)\n",
    "        ok1 = (flt['ccd_temp'] >= t_ccd0) & (flt['ccd_temp'] < t_ccd1)\n",
    "        ok = ok0 & ok1\n",
    "        agasc_ids = set()\n",
    "        for row in flt[ok]:\n",
    "            # Only use the first instance of each AGASC ID in a bin\n",
    "            if IGNORE_REPEATS and row['agasc_id'] in agasc_ids:\n",
    "                continue\n",
    "            agasc_ids.add(row['agasc_id'])\n",
    "\n",
    "            n_samp_flt[ii, jj] += 1\n",
    "            if row['obc_id']:\n",
    "                n_succ_flt[ii, jj] += 1"
   ]
  },
  {
   "cell_type": "code",
   "execution_count": null,
   "metadata": {},
   "outputs": [],
   "source": [
    "def as_table(arr, fmt=None):\n",
    "    \"\"\"Turn one of the summary 6x6 arrays into a readable table\"\"\"\n",
    "    t = Table()\n",
    "    t['mag'] = [str(val) for val in mag_vals]\n",
    "    names = [f\"{t_ccd:.1f}\" for t_ccd in t_ccd_vals]\n",
    "    for jj, name in enumerate(names):\n",
    "        t[name] = arr[:, jj]\n",
    "        if fmt:\n",
    "            t[name].info.format = fmt\n",
    "    return t\n",
    "            "
   ]
  },
  {
   "cell_type": "code",
   "execution_count": null,
   "metadata": {},
   "outputs": [],
   "source": [
    "as_table(n_samp_flt)"
   ]
  },
  {
   "cell_type": "code",
   "execution_count": null,
   "metadata": {},
   "outputs": [],
   "source": [
    "as_table(n_succ_flt)"
   ]
  },
  {
   "cell_type": "code",
   "execution_count": null,
   "metadata": {},
   "outputs": [],
   "source": [
    "# Percentage of failures for flight\n",
    "as_table((1- n_succ_flt / n_samp_flt) * 100, fmt='.1f')"
   ]
  },
  {
   "cell_type": "code",
   "execution_count": null,
   "metadata": {},
   "outputs": [],
   "source": [
    "as_table(n_samp_asvt)"
   ]
  },
  {
   "cell_type": "code",
   "execution_count": null,
   "metadata": {},
   "outputs": [],
   "source": [
    "as_table(n_succ_asvt)"
   ]
  },
  {
   "cell_type": "code",
   "execution_count": null,
   "metadata": {},
   "outputs": [],
   "source": [
    "as_table((1- n_succ_asvt / n_samp_asvt) * 100, fmt='.1f')"
   ]
  },
  {
   "cell_type": "code",
   "execution_count": null,
   "metadata": {},
   "outputs": [],
   "source": [
    "def calc_diff_pmf(p, pmf1, pmf2):\n",
    "    dp = p[1] - p[0]  # assume uniform grid\n",
    "    pmf1 = pmf1 / np.sum(pmf1)\n",
    "    pmf2 = pmf2 / np.sum(pmf2)\n",
    "\n",
    "    i0 = int(1 / dp)\n",
    "    n_out = 2 * i0 + 1\n",
    "    x = (np.arange(n_out) - i0) * dp\n",
    "    out = np.zeros(n_out)\n",
    "    p2 = p\n",
    "    for i1, p1 in enumerate(p):\n",
    "        d_pmf12 = pmf1[i1] * pmf2\n",
    "        i_out = np.round((p1 - p2) / dp).astype(int) + i0\n",
    "        out[i_out] += d_pmf12\n",
    "\n",
    "    return x, np.cumsum(out)"
   ]
  },
  {
   "cell_type": "code",
   "execution_count": null,
   "metadata": {},
   "outputs": [],
   "source": [
    "def plot_diff_pmf(k1, n1, k2, n2, title='', l1='', l2=''):\n",
    "    dp = 0.001\n",
    "    p = np.arange(0.0 + dp/2, 1.0, dp)\n",
    "    pmf1 = binom.pmf(k1, n1, p)\n",
    "    pmf2 = binom.pmf(k2, n2, p)\n",
    "    dp, cdf = calc_diff_pmf(p, pmf1, pmf2)\n",
    "\n",
    "    plt.figure(figsize=(10, 3.5))\n",
    "    plt.subplot(1, 2, 1)\n",
    "    plt.plot(p, pmf1, label=f'k={k1} n={n1} {l1}')\n",
    "    plt.plot(p, pmf2, label=f'k={k2} n={n2} {l2}')\n",
    "    plt.grid()\n",
    "    if title:\n",
    "        plt.title(title)\n",
    "    plt.xlabel('p')\n",
    "    plt.legend(loc='best')\n",
    "\n",
    "    ax = plt.subplot(1, 2, 2)\n",
    "    plt.plot(dp, cdf)\n",
    "    plt.grid()\n",
    "    plt.title('CDF of difference')\n",
    "    i10, i90 = np.searchsorted(cdf, [0.1, 0.9])\n",
    "    p10, p90 = dp[[i10, i90]]\n",
    "    patch = patches.Rectangle((p10, 0.1), p90-p10, 0.8, fc='r', alpha=0.2, ec='k')\n",
    "    ax.add_patch(patch)\n",
    "    plt.xlim(-0.5, 0.5)\n",
    "\n",
    "    "
   ]
  },
  {
   "cell_type": "markdown",
   "metadata": {},
   "source": [
    "## Binomial distribution\n",
    "\n",
    "http://mathworld.wolfram.com/BinomialDistribution.html\n",
    "\n",
    "![Binomial PMF](http://mathworld.wolfram.com/images/equations/BinomialDistribution/Inline8.gif)"
   ]
  },
  {
   "cell_type": "code",
   "execution_count": null,
   "metadata": {},
   "outputs": [],
   "source": [
    "plot_diff_pmf(30, 100, 50, 100)"
   ]
  },
  {
   "cell_type": "code",
   "execution_count": null,
   "metadata": {},
   "outputs": [],
   "source": [
    "plot_diff_pmf(3, 10, 5, 10)"
   ]
  },
  {
   "cell_type": "markdown",
   "metadata": {},
   "source": [
    "## Compute CDF of difference between flight and PEA test set data\n",
    "\n",
    "Do this only for the faintest three bins in mag: 10-10.25 10.25-10.5 10.5-11"
   ]
  },
  {
   "cell_type": "code",
   "execution_count": null,
   "metadata": {},
   "outputs": [],
   "source": [
    "print('Success Probability Distributions')\n",
    "ni, nj = n_samp_flt.shape\n",
    "dp10 = np.zeros(shape=(ni, nj))\n",
    "dp90 = np.zeros(shape=(ni, nj))\n",
    "dp = 0.01\n",
    "p = np.arange(0.0 + dp/2, 1.0, dp)\n",
    "\n",
    "for ii in range(ni):\n",
    "    for jj in range(nj):\n",
    "        if n_samp_flt[ii, jj] < 30:\n",
    "            continue\n",
    "        k1 = n_succ_flt[ii, jj]\n",
    "        n1 = n_samp_flt[ii, jj]\n",
    "        k2 = n_succ_asvt[ii, jj]\n",
    "        n2 = n_samp_asvt[ii, jj]\n",
    "        \n",
    "        title = f'mag={mag_vals[ii]} T_ccd={t_ccd_vals[jj]}'\n",
    "        plot_diff_pmf(k1, n1, k2, n2, title, 'flight', 'PEA')\n",
    "        \n",
    "        pmf1 = binom.pmf(k1, n1, p)\n",
    "        pmf2 = binom.pmf(k2, n2, p)\n",
    "        dp, cdf = calc_diff_pmf(p, pmf1, pmf2)\n",
    "        \n",
    "        i10, i90 = np.searchsorted(cdf, [0.1, 0.9])\n",
    "        dp10[ii, jj] = dp[i10]\n",
    "        dp90[ii, jj] = dp[i90]\n"
   ]
  },
  {
   "cell_type": "code",
   "execution_count": null,
   "metadata": {},
   "outputs": [],
   "source": []
  }
 ],
 "metadata": {
  "kernelspec": {
   "display_name": "ska3",
   "language": "python",
   "name": "python3"
  },
  "language_info": {
   "codemirror_mode": {
    "name": "ipython",
    "version": 3
   },
   "file_extension": ".py",
   "mimetype": "text/x-python",
   "name": "python",
   "nbconvert_exporter": "python",
   "pygments_lexer": "ipython3",
   "version": "3.8.12 (default, Oct 12 2021, 06:23:56) \n[Clang 10.0.0 ]"
  },
  "vscode": {
   "interpreter": {
    "hash": "d2df0004ee630a46de2935730c9c65ee0c09bd3f3b85f07c44dd36ceff3dbd5e"
   }
  }
 },
 "nbformat": 4,
 "nbformat_minor": 4
}
