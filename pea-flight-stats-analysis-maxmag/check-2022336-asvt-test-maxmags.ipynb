{
 "cells": [
  {
   "cell_type": "markdown",
   "metadata": {},
   "source": [
    "# Statistical analysis comparing PEA test set (MAXMAG clipped) and flight data\n",
    "\n",
    "This compares the ASVT data set with MAXMAG clipped to flight data since\n",
    "2019-July-01 (approx start time of MAXMAG clipping in flight products).\n",
    "\n",
    "Summary: There is reasonable agreement for the 60 and 160 arcsec box sizes.\n",
    "\n",
    "Reference page:\n",
    "https://occweb.cfa.harvard.edu/twiki/bin/view/Aspect/PeaAcqModelCalMaxMag11p2Testing"
   ]
  },
  {
   "cell_type": "code",
   "execution_count": 1,
   "metadata": {},
   "outputs": [],
   "source": [
    "import numpy as np\n",
    "from pathlib import Path\n",
    "import os\n",
    "from collections import Counter\n",
    "import itertools\n",
    "\n",
    "from scipy.stats import binom\n",
    "from astropy.table import Table\n",
    "import matplotlib.pyplot as plt\n",
    "from matplotlib import patches\n",
    "import tables\n",
    "from cxotime import CxoTime\n",
    "import agasc\n",
    "\n",
    "from utils_asvt import flatten_pea_test_data, read_twiki_csv\n",
    "\n",
    "%matplotlib inline"
   ]
  },
  {
   "cell_type": "code",
   "execution_count": 2,
   "metadata": {},
   "outputs": [],
   "source": [
    "SKA = Path(os.environ['SKA'])\n",
    "HALFWIDTH = 60  # Do analysis for one search box size"
   ]
  },
  {
   "cell_type": "code",
   "execution_count": 3,
   "metadata": {},
   "outputs": [],
   "source": [
    "topic = 'PeaAcqModelCalDec2022Testing/'\n",
    "name = 'pea_analysis_2022_336_AcqProbModel_calibration_test_results.csv'\n",
    "dat8 = read_twiki_csv(topic + name)"
   ]
  },
  {
   "cell_type": "code",
   "execution_count": 4,
   "metadata": {},
   "outputs": [],
   "source": [
    "dat = flatten_pea_test_data(dat8)"
   ]
  },
  {
   "cell_type": "code",
   "execution_count": 5,
   "metadata": {
    "scrolled": true
   },
   "outputs": [
    {
     "data": {
      "text/plain": [
       "'bg_col_offset, bg_row_offset, ccd_temp, hot_px_brightness, image_col, image_fcn, image_row, int_time, max_num_search_hits, maxmag, maxmag_cap, rand_ind, ref_obsid, ref_time, sample_time, scale_4c, search_box_hw, search_success, slot, slot_box_hw, star_col, star_mag, star_maxmag, star_row, star_sz, test_id, y_ang_offset, z_ang_offset'"
      ]
     },
     "execution_count": 5,
     "metadata": {},
     "output_type": "execute_result"
    }
   ],
   "source": [
    "', '.join(sorted(dat.colnames))"
   ]
  },
  {
   "cell_type": "code",
   "execution_count": 6,
   "metadata": {},
   "outputs": [],
   "source": [
    "from proseco.acq import get_maxmag"
   ]
  },
  {
   "cell_type": "code",
   "execution_count": 7,
   "metadata": {},
   "outputs": [
    {
     "data": {
      "text/plain": [
       "Counter({-15: 1728,\n",
       "         -13: 1728,\n",
       "         -11: 1728,\n",
       "         -9: 1728,\n",
       "         -8: 1728,\n",
       "         -7: 1728,\n",
       "         -6: 1728,\n",
       "         -5: 1728,\n",
       "         -4: 1728,\n",
       "         -3: 1728,\n",
       "         -2: 1728,\n",
       "         0: 1728,\n",
       "         2: 1728})"
      ]
     },
     "execution_count": 7,
     "metadata": {},
     "output_type": "execute_result"
    }
   ],
   "source": [
    "Counter(dat['ccd_temp'])"
   ]
  },
  {
   "cell_type": "code",
   "execution_count": 8,
   "metadata": {},
   "outputs": [
    {
     "data": {
      "text/plain": [
       "Counter({8.0: 2808,\n",
       "         9.0: 2808,\n",
       "         9.5: 2808,\n",
       "         9.75: 2808,\n",
       "         10.0: 2808,\n",
       "         10.25: 2808,\n",
       "         10.5: 2808,\n",
       "         10.75: 2808})"
      ]
     },
     "execution_count": 8,
     "metadata": {},
     "output_type": "execute_result"
    }
   ],
   "source": [
    "Counter(dat['star_mag'])"
   ]
  },
  {
   "cell_type": "code",
   "execution_count": 39,
   "metadata": {},
   "outputs": [
    {
     "data": {
      "text/plain": [
       "10.9"
      ]
     },
     "execution_count": 39,
     "metadata": {},
     "output_type": "execute_result"
    }
   ],
   "source": [
    "get_maxmag(60, 0)"
   ]
  },
  {
   "cell_type": "code",
   "execution_count": 38,
   "metadata": {},
   "outputs": [
    {
     "data": {
      "text/plain": [
       "{10.9, 11.0, 11.25}"
      ]
     },
     "execution_count": 38,
     "metadata": {},
     "output_type": "execute_result"
    }
   ],
   "source": [
    "ok = (dat['search_box_hw'] == 60) & (dat['ccd_temp'] == 0)\n",
    "set(dat['star_maxmag'][ok])"
   ]
  },
  {
   "cell_type": "code",
   "execution_count": 11,
   "metadata": {},
   "outputs": [
    {
     "data": {
      "text/plain": [
       "{99.9}"
      ]
     },
     "execution_count": 11,
     "metadata": {},
     "output_type": "execute_result"
    }
   ],
   "source": [
    "set(dat['maxmag'])"
   ]
  },
  {
   "cell_type": "code",
   "execution_count": 29,
   "metadata": {},
   "outputs": [],
   "source": [
    "from proseco.core import StarsTable\n",
    "from proseco import characteristics as ACA, get_aca_catalog\n",
    "from proseco.tests.test_common import DARK40, STD_INFO, mod_std_info\n",
    "from proseco.acq import get_maxmag\n"
   ]
  },
  {
   "cell_type": "code",
   "execution_count": 35,
   "metadata": {},
   "outputs": [
    {
     "name": "stderr",
     "output_type": "stream",
     "text": [
      "/Users/aldcroft/miniconda3/envs/ska3/lib/python3.8/site-packages/proseco/acq.py:70: UserWarning: Clipping t_ccd=4.5 to 0.0 for interpolating MAXMAGs table\n",
      "  warnings.warn(f\"Clipping {t_ccd=} to 0.0 for interpolating MAXMAGs table\")\n",
      "/Users/aldcroft/miniconda3/envs/ska3/lib/python3.8/site-packages/chandra_aca/star_probs.py:288: UserWarning: \n",
      "Model grid-floor-2020-02 computed between t_ccd <= -16.0 <= -1.0, clipping input t_ccd(s) outside that range.\n",
      "  warnings.warn('\\nModel {} computed between {} <= {} <= {}, '\n",
      "/Users/aldcroft/miniconda3/envs/ska3/lib/python3.8/site-packages/proseco/acq.py:70: UserWarning: Clipping t_ccd=4.5 to 0.0 for interpolating MAXMAGs table\n",
      "  warnings.warn(f\"Clipping {t_ccd=} to 0.0 for interpolating MAXMAGs table\")\n"
     ]
    }
   ],
   "source": [
    "stars = StarsTable.empty()\n",
    "mag0 = ACA.max_maxmag - 1.5  # nominal star mag when clipping occurs (11.2 - 1.5 = 9.7)\n",
    "mags_acq = np.array([-1.5, -1, -0.5, -0.01, 0.01, 0.2, 0.3, 1.1]) + mag0\n",
    "mags_guide = np.array([-0.5, -0.01, 0.01, 0.2, 0.3]) + mag0\n",
    "stars.add_fake_constellation(mag=mags_acq, n_stars=8, size=2000)\n",
    "stars.add_fake_constellation(mag=mags_guide, n_stars=5, size=1000)\n",
    "aca = get_aca_catalog(stars=stars, dark=DARK40, raise_exc=True,\n",
    "                        exclude_ids_guide=np.arange(100, 108),\n",
    "                        include_ids_acq=np.arange(100, 108),\n",
    "                        exclude_ids_acq=np.arange(108, 113),\n",
    "                        **mod_std_info(t_ccd=-1))\n"
   ]
  },
  {
   "cell_type": "code",
   "execution_count": 36,
   "metadata": {},
   "outputs": [
    {
     "data": {
      "text/html": [
       "<div><i>ACATable length=11</i>\n",
       "<table id=\"table140332170840384\" class=\"table-striped table-bordered table-condensed\">\n",
       "<thead><tr><th>slot</th><th>idx</th><th>id</th><th>type</th><th>sz</th><th>p_acq</th><th>mag</th><th>maxmag</th><th>yang</th><th>zang</th><th>dim</th><th>res</th><th>halfw</th></tr></thead>\n",
       "<thead><tr><th>int64</th><th>int64</th><th>int64</th><th>str3</th><th>str3</th><th>float64</th><th>float64</th><th>float64</th><th>float64</th><th>float64</th><th>int64</th><th>int64</th><th>int64</th></tr></thead>\n",
       "<tr><td>0</td><td>1</td><td>1</td><td>FID</td><td>8x8</td><td>0.000</td><td>7.00</td><td>8.00</td><td>922.59</td><td>-1737.89</td><td>1</td><td>1</td><td>25</td></tr>\n",
       "<tr><td>1</td><td>2</td><td>5</td><td>FID</td><td>8x8</td><td>0.000</td><td>7.00</td><td>8.00</td><td>-1826.28</td><td>160.17</td><td>1</td><td>1</td><td>25</td></tr>\n",
       "<tr><td>2</td><td>3</td><td>6</td><td>FID</td><td>8x8</td><td>0.000</td><td>7.00</td><td>8.00</td><td>388.59</td><td>803.75</td><td>1</td><td>1</td><td>25</td></tr>\n",
       "<tr><td>0</td><td>4</td><td>100</td><td>ACQ</td><td>8x8</td><td>0.908</td><td>8.20</td><td>9.70</td><td>2000.00</td><td>0.00</td><td>28</td><td>1</td><td>160</td></tr>\n",
       "<tr><td>1</td><td>5</td><td>101</td><td>ACQ</td><td>8x8</td><td>0.825</td><td>8.70</td><td>10.20</td><td>0.00</td><td>2000.00</td><td>28</td><td>1</td><td>160</td></tr>\n",
       "<tr><td>2</td><td>6</td><td>102</td><td>ACQ</td><td>8x8</td><td>0.758</td><td>9.20</td><td>10.66</td><td>-2000.00</td><td>0.00</td><td>12</td><td>1</td><td>80</td></tr>\n",
       "<tr><td>3</td><td>7</td><td>103</td><td>ACQ</td><td>8x8</td><td>0.301</td><td>9.69</td><td>10.90</td><td>0.00</td><td>-2000.00</td><td>8</td><td>1</td><td>60</td></tr>\n",
       "<tr><td>4</td><td>8</td><td>104</td><td>ACQ</td><td>8x8</td><td>0.280</td><td>9.71</td><td>10.90</td><td>1000.00</td><td>1000.00</td><td>8</td><td>1</td><td>60</td></tr>\n",
       "<tr><td>5</td><td>9</td><td>105</td><td>ACQ</td><td>8x8</td><td>0.069</td><td>9.90</td><td>10.43</td><td>1000.00</td><td>-1000.00</td><td>24</td><td>1</td><td>140</td></tr>\n",
       "<tr><td>6</td><td>10</td><td>106</td><td>ACQ</td><td>8x8</td><td>0.104</td><td>10.00</td><td>10.55</td><td>-1000.00</td><td>1000.00</td><td>16</td><td>1</td><td>100</td></tr>\n",
       "<tr><td>7</td><td>11</td><td>107</td><td>ACQ</td><td>8x8</td><td>0.001</td><td>10.80</td><td>10.39</td><td>-1000.00</td><td>-1000.00</td><td>28</td><td>1</td><td>160</td></tr>\n",
       "</table></div>"
      ],
      "text/plain": [
       "<ACATable length=11>\n",
       " slot  idx    id  type  sz   p_acq  ...   yang     zang    dim   res  halfw\n",
       "int64 int64 int64 str3 str3 float64 ... float64  float64  int64 int64 int64\n",
       "----- ----- ----- ---- ---- ------- ... -------- -------- ----- ----- -----\n",
       "    0     1     1  FID  8x8   0.000 ...   922.59 -1737.89     1     1    25\n",
       "    1     2     5  FID  8x8   0.000 ... -1826.28   160.17     1     1    25\n",
       "    2     3     6  FID  8x8   0.000 ...   388.59   803.75     1     1    25\n",
       "    0     4   100  ACQ  8x8   0.908 ...  2000.00     0.00    28     1   160\n",
       "    1     5   101  ACQ  8x8   0.825 ...     0.00  2000.00    28     1   160\n",
       "    2     6   102  ACQ  8x8   0.758 ... -2000.00     0.00    12     1    80\n",
       "    3     7   103  ACQ  8x8   0.301 ...     0.00 -2000.00     8     1    60\n",
       "    4     8   104  ACQ  8x8   0.280 ...  1000.00  1000.00     8     1    60\n",
       "    5     9   105  ACQ  8x8   0.069 ...  1000.00 -1000.00    24     1   140\n",
       "    6    10   106  ACQ  8x8   0.104 ... -1000.00  1000.00    16     1   100\n",
       "    7    11   107  ACQ  8x8   0.001 ... -1000.00 -1000.00    28     1   160"
      ]
     },
     "execution_count": 36,
     "metadata": {},
     "output_type": "execute_result"
    }
   ],
   "source": [
    "aca"
   ]
  },
  {
   "cell_type": "code",
   "execution_count": 32,
   "metadata": {},
   "outputs": [
    {
     "data": {
      "text/plain": [
       "4.5"
      ]
     },
     "execution_count": 32,
     "metadata": {},
     "output_type": "execute_result"
    }
   ],
   "source": [
    "aca.t_ccd_eff_acq"
   ]
  },
  {
   "cell_type": "code",
   "execution_count": 33,
   "metadata": {},
   "outputs": [
    {
     "name": "stderr",
     "output_type": "stream",
     "text": [
      "/Users/aldcroft/miniconda3/envs/ska3/lib/python3.8/site-packages/proseco/acq.py:70: UserWarning: Clipping t_ccd=4.5 to 0.0 for interpolating MAXMAGs table\n",
      "  warnings.warn(f\"Clipping {t_ccd=} to 0.0 for interpolating MAXMAGs table\")\n"
     ]
    },
    {
     "data": {
      "text/plain": [
       "10.66"
      ]
     },
     "execution_count": 33,
     "metadata": {},
     "output_type": "execute_result"
    }
   ],
   "source": [
    "get_maxmag(80, 4.5)"
   ]
  },
  {
   "cell_type": "code",
   "execution_count": null,
   "metadata": {},
   "outputs": [],
   "source": []
  }
 ],
 "metadata": {
  "kernelspec": {
   "display_name": "ska3",
   "language": "python",
   "name": "python3"
  },
  "language_info": {
   "codemirror_mode": {
    "name": "ipython",
    "version": 3
   },
   "file_extension": ".py",
   "mimetype": "text/x-python",
   "name": "python",
   "nbconvert_exporter": "python",
   "pygments_lexer": "ipython3",
   "version": "3.8.12"
  },
  "vscode": {
   "interpreter": {
    "hash": "d2df0004ee630a46de2935730c9c65ee0c09bd3f3b85f07c44dd36ceff3dbd5e"
   }
  }
 },
 "nbformat": 4,
 "nbformat_minor": 4
}
