{
 "cells": [
  {
   "cell_type": "code",
   "execution_count": 15,
   "metadata": {
    "collapsed": false
   },
   "outputs": [],
   "source": [
    "from __future__ import division\n",
    "\n",
    "import numpy as np\n",
    "import matplotlib.pyplot as plt\n",
    "from astropy.table import Table\n",
    "from astropy.time import Time\n",
    "import tables\n",
    "\n",
    "%matplotlib inline"
   ]
  },
  {
   "cell_type": "code",
   "execution_count": 2,
   "metadata": {
    "collapsed": false
   },
   "outputs": [],
   "source": [
    "SOTA2013_FIT = [0.18, 0.99, -0.49,  # Scale\n",
    "                -1.49, 0.89, 0.28]  # Offset"
   ]
  },
  {
   "cell_type": "code",
   "execution_count": 3,
   "metadata": {
    "collapsed": false
   },
   "outputs": [],
   "source": [
    "if 'data_all' not in globals():\n",
    "    with tables.openFile('/proj/sot/ska/data/acq_stats/acq_stats.h5', 'r') as h5:\n",
    "        cols = h5.root.data.cols\n",
    "        names = {'tstart': 'guide_tstart',\n",
    "                 'obc_id': 'acqid',\n",
    "                 'warm_pix': 'n100_warm_frac',\n",
    "                 'mag': 'mag_aca',\n",
    "                 'known_bad': 'known_bad'}\n",
    "        acqs = Table([getattr(cols, h5_name)[:] for h5_name in names.values()],\n",
    "                     names=list(names.keys()))\n",
    "\n",
    "    year_q0 = 1999.0 + 31. / 365.25  # Jan 31 approximately\n",
    "    year = Time(acqs['tstart'], format='cxcsec').decimalyear.astype('f4')\n",
    "    quarter = (np.trunc((year - 1999.0) * 4)).astype('f4')\n",
    "    fail = 1.0 - acqs['obc_id'].astype(np.int)\n",
    "    warm_pix = acqs['warm_pix'].astype('f4')\n",
    "    mag = acqs['mag'].astype('f4')\n",
    "\n",
    "    t = Table([year, quarter, warm_pix, mag, fail],\n",
    "              names=['year', 'quarter', 'warm_pix', 'mag', 'fail'])\n",
    "\n",
    "    data_all = t.group_by('quarter')\n",
    "    data_all['mag10'] = data_all['mag'] - 10.0\n",
    "    data_all.sort('year')\n",
    "    ok = (data_all['year'] > 2007) & (data_all['mag'] > 7.5) & (data_all['mag'] < 11.0)\n",
    "    data_all = data_all[ok]\n",
    "    data_all = data_all.group_by('quarter')\n",
    "    data_mean = data_all.groups.aggregate(np.mean)"
   ]
  },
  {
   "cell_type": "code",
   "execution_count": 4,
   "metadata": {
    "collapsed": false
   },
   "outputs": [],
   "source": [
    "def scaled_warm_frac(pars, x, acq_data=None):\n",
    "    if acq_data is None:\n",
    "        acq_data = data_all  # use global data table\n",
    "    scl0, scl1, scl2 = pars[0:3]\n",
    "    off0, off1, off2 = pars[3:6]\n",
    "    m = acq_data['mag10']\n",
    "    scale = 10**(scl0 + scl1 * m + scl2 * m**2)\n",
    "    offset = 10**(off0 + off1 * m + off2 * m**2)\n",
    "    model_fail = offset + scale * (acq_data['warm_pix'] - 0.04)\n",
    "    return model_fail"
   ]
  },
  {
   "cell_type": "code",
   "execution_count": 5,
   "metadata": {
    "collapsed": false
   },
   "outputs": [],
   "source": [
    "def fit_sota_model():\n",
    "    from sherpa import ui\n",
    "\n",
    "    data_id = 1\n",
    "    ui.set_method('simplex')\n",
    "    ui.set_stat('cash')\n",
    "    ui.load_user_model(scaled_warm_frac, 'model')\n",
    "    ui.add_user_pars('model', ['scl0', 'scl1', 'scl2', 'off0', 'off1', 'off2'])\n",
    "    ui.set_model(data_id, 'model')\n",
    "    ui.load_arrays(data_id, np.array(data_all['year']), np.array(data_all['fail'], dtype=np.float))\n",
    "\n",
    "    # Initial fit values from SOTA 2013 presentation (modulo typo there)\n",
    "    start_vals = iter(SOTA2013_FIT)  # Offset\n",
    "    fmod = ui.get_model_component('model')\n",
    "    for name in ('scl', 'off'):\n",
    "        for num in (0, 1, 2):\n",
    "            comp_name = name + str(num)\n",
    "            setattr(fmod, comp_name, start_vals.next())\n",
    "            comp = getattr(fmod, comp_name)\n",
    "            comp.min = -5\n",
    "            comp.max = 5\n",
    "    ui.fit(data_id)\n",
    "    # conf = ui.get_confidence_results()\n",
    "    return ui.get_fit_results()"
   ]
  },
  {
   "cell_type": "code",
   "execution_count": 6,
   "metadata": {
    "collapsed": false
   },
   "outputs": [],
   "source": [
    "def plot_fit_grouped(pars, group_col, group_bin, mask=None, log=False, colors='br', label=None):\n",
    "    if mask is None:\n",
    "        mask = np.ones(len(data_all), dtype=bool)\n",
    "    data = data_all[mask]\n",
    "    data['model'] = scaled_warm_frac(pars, None, data)\n",
    "\n",
    "    group = np.trunc(data[group_col] / group_bin)\n",
    "    data = data.group_by(group)\n",
    "    data_mean = data.groups.aggregate(np.mean)\n",
    "    len_groups = np.diff(data.groups.indices)\n",
    "    fail_sigmas = np.sqrt(data_mean['fail'] * len_groups) / len_groups\n",
    "    \n",
    "    plt.errorbar(data_mean[group_col], data_mean['fail'], yerr=fail_sigmas, fmt='.' + colors[0], label=label)\n",
    "    plt.plot(data_mean[group_col], data_mean['model'], '-' + colors[1])\n",
    "    if log:\n",
    "        ax = plt.gca()\n",
    "        ax.set_yscale('log')"
   ]
  },
  {
   "cell_type": "code",
   "execution_count": 7,
   "metadata": {
    "collapsed": false
   },
   "outputs": [],
   "source": [
    "def mag_filter(mag0, mag1):\n",
    "    ok = (data_all['mag'] > mag0) & (data_all['mag'] < mag1)\n",
    "    return ok"
   ]
  },
  {
   "cell_type": "code",
   "execution_count": 8,
   "metadata": {
    "collapsed": false
   },
   "outputs": [],
   "source": [
    "def wp_filter(wp0, wp1):\n",
    "    ok = (data_all['warm_pix'] > wp0) & (data_all['warm_pix'] < wp1)\n",
    "    return ok"
   ]
  },
  {
   "cell_type": "code",
   "execution_count": 9,
   "metadata": {
    "collapsed": false
   },
   "outputs": [
    {
     "name": "stdout",
     "output_type": "stream",
     "text": [
      "Starting fit - hang tight, this might take a few minutes\n",
      "Dataset               = 1\n",
      "Method                = neldermead\n",
      "Statistic             = cash\n",
      "Initial fit statistic = 25250.7\n",
      "Final fit statistic   = 25211.2 at function evaluation 6134\n",
      "Data points           = 93620\n",
      "Degrees of freedom    = 93614\n",
      "Change in statistic   = 39.4979\n",
      "   model.scl0     0.176393    \n",
      "   model.scl1     1.04093     \n",
      "   model.scl2     -0.326083   \n",
      "   model.off0     -1.54804    \n",
      "   model.off1     0.756808    \n",
      "   model.off2     0.177263    \n"
     ]
    },
    {
     "name": "stderr",
     "output_type": "stream",
     "text": [
      "INFO:sherpa.ui.utils:Dataset               = 1\n",
      "Method                = neldermead\n",
      "Statistic             = cash\n",
      "Initial fit statistic = 25250.7\n",
      "Final fit statistic   = 25211.2 at function evaluation 6134\n",
      "Data points           = 93620\n",
      "Degrees of freedom    = 93614\n",
      "Change in statistic   = 39.4979\n",
      "   model.scl0     0.176393    \n",
      "   model.scl1     1.04093     \n",
      "   model.scl2     -0.326083   \n",
      "   model.off0     -1.54804    \n",
      "   model.off1     0.756808    \n",
      "   model.off2     0.177263    \n"
     ]
    }
   ],
   "source": [
    "print('Hang tight, this will take a few minutes')\n",
    "fit = fit_sota_model()"
   ]
  },
  {
   "cell_type": "code",
   "execution_count": 10,
   "metadata": {
    "collapsed": false
   },
   "outputs": [
    {
     "name": "stdout",
     "output_type": "stream",
     "text": [
      "datasets       = (1,)\n",
      "itermethodname = none\n",
      "methodname     = neldermead\n",
      "statname       = cash\n",
      "succeeded      = True\n",
      "parnames       = ('model.scl0', 'model.scl1', 'model.scl2', 'model.off0', 'model.off1', 'model.off2')\n",
      "parvals        = (0.17639322406376071, 1.0409293524097623, -0.32608293825046963, -1.5480386444462495, 0.75680802646399592, 0.17726340874579569)\n",
      "statval        = 25211.2342741\n",
      "istatval       = 25250.7321431\n",
      "dstatval       = 39.4978690409\n",
      "numpoints      = 93620\n",
      "dof            = 93614\n",
      "qval           = None\n",
      "rstat          = None\n",
      "message        = Optimization terminated successfully\n",
      "nfev           = 6134\n"
     ]
    }
   ],
   "source": [
    "print(fit)"
   ]
  },
  {
   "cell_type": "code",
   "execution_count": 17,
   "metadata": {
    "collapsed": false
   },
   "outputs": [
    {
     "data": {
      "image/png": "[encoded data removed]",
      "text/plain": [
       "<matplotlib.figure.Figure at 0x7f93fa152750>"
      ]
     },
     "metadata": {},
     "output_type": "display_data"
    }
   ],
   "source": [
    "plot_fit_grouped(fit.parvals, 'mag', 0.25, wp_filter(0.10, 0.20), log=True, colors='cm', label='0.1 < WP < 0.2')\n",
    "plot_fit_grouped(fit.parvals, 'mag', 0.25, wp_filter(0.0, 0.10), log=True, colors='br', label='0 < WP < 0.1')\n",
    "plt.legend(loc='best');"
   ]
  },
  {
   "cell_type": "code",
   "execution_count": 18,
   "metadata": {
    "collapsed": false,
    "scrolled": true
   },
   "outputs": [
    {
     "data": {
      "image/png": "[encoded data removed]",
      "text/plain": [
       "<matplotlib.figure.Figure at 0x7f93f9e77ad0>"
      ]
     },
     "metadata": {},
     "output_type": "display_data"
    }
   ],
   "source": [
    "plot_fit_grouped(fit.parvals, 'warm_pix', 0.02, mag_filter(10, 10.6), log=True, colors='cm', label='10 < mag < 10.6')\n",
    "plot_fit_grouped(fit.parvals, 'warm_pix', 0.02, mag_filter(9, 10), log=True, colors='br', label='9 < mag < 10')\n",
    "plt.legend(loc='best');"
   ]
  },
  {
   "cell_type": "code",
   "execution_count": 20,
   "metadata": {
    "collapsed": false,
    "scrolled": true
   },
   "outputs": [
    {
     "data": {
      "image/png": "[encoded data removed]",
      "text/plain": [
       "<matplotlib.figure.Figure at 0x7f93f9ae21d0>"
      ]
     },
     "metadata": {},
     "output_type": "display_data"
    }
   ],
   "source": [
    "plot_fit_grouped(fit.parvals, 'year', 0.25, mag_filter(10, 10.6), colors='cm', label='10 < mag < 10.6')\n",
    "plot_fit_grouped(fit.parvals, 'year', 0.25, mag_filter(9.5, 10), colors='br', label='9.5 < mag < 10')\n",
    "plot_fit_grouped(fit.parvals, 'year', 0.25, mag_filter(9.0, 9.5),  colors='gk', label='9.0 < mag < 9.5')\n",
    "plt.legend(loc='best');"
   ]
  },
  {
   "cell_type": "code",
   "execution_count": null,
   "metadata": {
    "collapsed": false
   },
   "outputs": [],
   "source": []
  }
 ],
 "metadata": {
  "kernelspec": {
   "display_name": "Python 2",
   "language": "python",
   "name": "python2"
  },
  "language_info": {
   "codemirror_mode": {
    "name": "ipython",
    "version": 2
   },
   "file_extension": ".py",
   "mimetype": "text/x-python",
   "name": "python",
   "nbconvert_exporter": "python",
   "pygments_lexer": "ipython2",
   "version": "2.7.9"
  }
 },
 "nbformat": 4,
 "nbformat_minor": 0
}
