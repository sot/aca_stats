{
 "cells": [
  {
   "cell_type": "code",
   "execution_count": 21,
   "metadata": {
    "collapsed": false
   },
   "outputs": [],
   "source": [
    "from __future__ import division\n",
    "\n",
    "import numpy as np\n",
    "import matplotlib.pyplot as plt\n",
    "from astropy.table import Table\n",
    "from astropy.time import Time\n",
    "import tables\n",
    "from sherpa import ui\n",
    "\n",
    "%matplotlib inline"
   ]
  },
  {
   "cell_type": "code",
   "execution_count": 22,
   "metadata": {
    "collapsed": false
   },
   "outputs": [],
   "source": [
    "SOTA2015_FIT = [\n",
    " 0.17633001726381758,\n",
    " 1.0531644850527571,\n",
    " -0.32100853356502734,\n",
    " -1.5618156890474242,\n",
    " 0.75267486019324359,\n",
    " 0.16378000152347474]"
   ]
  },
  {
   "cell_type": "code",
   "execution_count": 41,
   "metadata": {
    "collapsed": true
   },
   "outputs": [],
   "source": [
    "with tables.openFile('/proj/sot/ska/data/acq_stats/acq_stats.h5', 'r') as h5:\n",
    "    cols = h5.root.data.cols\n",
    "    names = {'tstart': 'guide_tstart',\n",
    "             'obsid': 'obsid',\n",
    "             'obc_id': 'acqid',\n",
    "             'warm_pix': 'n100_warm_frac',\n",
    "             'mag': 'mag_aca',\n",
    "             'known_bad': 'known_bad',\n",
    "             'color': 'color1'}\n",
    "    acqs = Table([getattr(cols, h5_name)[:] for h5_name in names.values()],\n",
    "                 names=list(names.keys()))\n",
    "\n",
    "    year_q0 = 1999.0 + 31. / 365.25  # Jan 31 approximately\n",
    "acqs['year'] = Time(acqs['tstart'], format='cxcsec').decimalyear.astype('f4')\n",
    "acqs['quarter'] = (np.trunc((year - year_q0) * 4)).astype('f4')\n",
    "acqs['fail'] = 1.0 - acqs['obc_id'].astype(np.int)"
   ]
  },
  {
   "cell_type": "code",
   "execution_count": 42,
   "metadata": {
    "collapsed": false
   },
   "outputs": [
    {
     "name": "stdout",
     "output_type": "stream",
     "text": [
      "Filtering known bad obsids, start len = 93620\n",
      "Filtering known bad obsids, end len = 93485\n"
     ]
    }
   ],
   "source": [
    "data_all = acqs.group_by('quarter')\n",
    "data_all['mag10'] = data_all['mag'] - 10.0\n",
    "data_all.sort('year')\n",
    "ok = (data_all['year'] > 2007) & (data_all['mag'] > 7.5) & (data_all['mag'] < 11.0)\n",
    "data_all = data_all[ok]\n",
    "data_all = data_all.group_by('quarter')\n",
    "data_mean = data_all.groups.aggregate(np.mean)\n",
    "\n",
    "ok = np.ones(len(data_all), dtype=bool)\n",
    "print('Filtering known bad obsids, start len = {}'.format(len(data_all)))\n",
    "bad_obsids = [\n",
    "    # Venus\n",
    "    2411,2414,6395,7306,7307,7308,7309,7311,7312,7313,7314,7315,7317,7318,7406,583,\n",
    "    7310,9741,9742,9743,9744,9745,9746,9747,9749,9752,9753,9748,7316,15292,16499,\n",
    "    16500,16501,16503,16504,16505,16506,16502,\n",
    "    ]\n",
    "for badid in bad_obsids:\n",
    "    ok = ok & (data_all['obsid'] != badid)\n",
    "data_all = data_all[ok]\n",
    "print('Filtering known bad obsids, end len = {}'.format(len(data_all)))"
   ]
  },
  {
   "cell_type": "code",
   "execution_count": 25,
   "metadata": {
    "collapsed": false
   },
   "outputs": [],
   "source": [
    "def scaled_warm_frac(acq_data=None):\n",
    "    if acq_data is None:\n",
    "        acq_data = data_all  # use global data table\n",
    "\n",
    "    def sherpa_model(pars, x):\n",
    "        scl0, scl1, scl2 = pars[0:3]\n",
    "        off0, off1, off2 = pars[3:6]\n",
    "        m = acq_data['mag10']\n",
    "        scale = 10**(scl0 + scl1 * m + scl2 * m**2)\n",
    "        offset = 10**(off0 + off1 * m + off2 * m**2)\n",
    "        model_fail = offset + scale * (acq_data['warm_pix'] - 0.04)\n",
    "        return model_fail\n",
    "    \n",
    "    return sherpa_model"
   ]
  },
  {
   "cell_type": "code",
   "execution_count": 44,
   "metadata": {
    "collapsed": false
   },
   "outputs": [],
   "source": [
    "def fit_sota_model(data_mask=None):\n",
    "    data = data_all if data_mask is None else data_all[data_mask]\n",
    "\n",
    "    data_id = 1\n",
    "    ui.set_method('simplex')\n",
    "    ui.set_stat('cash')\n",
    "    ui.load_user_model(scaled_warm_frac(data), 'model')\n",
    "    ui.add_user_pars('model', ['scl0', 'scl1', 'scl2', 'off0', 'off1', 'off2'])\n",
    "    ui.set_model(data_id, 'model')\n",
    "    ui.load_arrays(data_id, np.array(data['year']), np.array(data['fail'], dtype=np.float))\n",
    "\n",
    "    # Initial fit values from SOTA 2013 presentation (modulo typo there)\n",
    "    start_vals = iter(SOTA2015_FIT)  # Offset\n",
    "    fmod = ui.get_model_component('model')\n",
    "    for name in ('scl', 'off'):\n",
    "        for num in (0, 1, 2):\n",
    "            comp_name = name + str(num)\n",
    "            setattr(fmod, comp_name, start_vals.next())\n",
    "            comp = getattr(fmod, comp_name)\n",
    "            comp.min = -5\n",
    "            comp.max = 5\n",
    "    ui.fit(data_id)\n",
    "    # conf = ui.get_confidence_results()\n",
    "    return ui.get_fit_results()"
   ]
  },
  {
   "cell_type": "code",
   "execution_count": 45,
   "metadata": {
    "collapsed": false
   },
   "outputs": [],
   "source": [
    "def plot_fit_grouped(pars, group_col, group_bin, mask=None, log=False, colors='br', label=None):\n",
    "    data = data_all if mask is None else data_all[mask]\n",
    "    data['model'] = scaled_warm_frac(data)(pars, None)\n",
    "\n",
    "    group = np.trunc(data[group_col] / group_bin)\n",
    "    data = data.group_by(group)\n",
    "    data_mean = data.groups.aggregate(np.mean)\n",
    "    len_groups = np.diff(data.groups.indices)\n",
    "    fail_sigmas = np.sqrt(data_mean['fail'] * len_groups) / len_groups\n",
    "    \n",
    "    plt.errorbar(data_mean[group_col], data_mean['fail'], yerr=fail_sigmas, fmt='.' + colors[0], label=label)\n",
    "    plt.plot(data_mean[group_col], data_mean['model'], '-' + colors[1])\n",
    "    if log:\n",
    "        ax = plt.gca()\n",
    "        ax.set_yscale('log')"
   ]
  },
  {
   "cell_type": "code",
   "execution_count": 46,
   "metadata": {
    "collapsed": false
   },
   "outputs": [],
   "source": [
    "def mag_filter(mag0, mag1):\n",
    "    ok = (data_all['mag'] > mag0) & (data_all['mag'] < mag1)\n",
    "    return ok"
   ]
  },
  {
   "cell_type": "code",
   "execution_count": 47,
   "metadata": {
    "collapsed": false
   },
   "outputs": [],
   "source": [
    "def wp_filter(wp0, wp1):\n",
    "    ok = (data_all['warm_pix'] > wp0) & (data_all['warm_pix'] < wp1)\n",
    "    return ok"
   ]
  },
  {
   "cell_type": "code",
   "execution_count": 48,
   "metadata": {
    "collapsed": false
   },
   "outputs": [
    {
     "name": "stdout",
     "output_type": "stream",
     "text": [
      "Hang tight, this will take a few minutes\n",
      "Dataset               = 1\n",
      "Method                = neldermead\n",
      "Statistic             = cash\n",
      "Initial fit statistic = 17944.4\n",
      "Final fit statistic   = 17735.7 at function evaluation 1001\n",
      "Data points           = 76818\n",
      "Degrees of freedom    = 76812\n",
      "Change in statistic   = 208.716\n",
      "   model.scl0     0.0909386   \n",
      "   model.scl1     1.34576     \n",
      "   model.scl2     -0.46921    \n",
      "   model.off0     -1.75136    \n",
      "   model.off1     0.596258    \n",
      "   model.off2     0.158619    \n"
     ]
    },
    {
     "name": "stderr",
     "output_type": "stream",
     "text": [
      "INFO:sherpa.ui.utils:Dataset               = 1\n",
      "Method                = neldermead\n",
      "Statistic             = cash\n",
      "Initial fit statistic = 17944.4\n",
      "Final fit statistic   = 17735.7 at function evaluation 1001\n",
      "Data points           = 76818\n",
      "Degrees of freedom    = 76812\n",
      "Change in statistic   = 208.716\n",
      "   model.scl0     0.0909386   \n",
      "   model.scl1     1.34576     \n",
      "   model.scl2     -0.46921    \n",
      "   model.off0     -1.75136    \n",
      "   model.off1     0.596258    \n",
      "   model.off2     0.158619    \n"
     ]
    }
   ],
   "source": [
    "print('Hang tight, this will take a few minutes')\n",
    "fit = fit_sota_model(data_all['color'] != 1.5)"
   ]
  },
  {
   "cell_type": "code",
   "execution_count": 49,
   "metadata": {
    "collapsed": false
   },
   "outputs": [
    {
     "data": {
      "text/plain": [
       "[0.090938589607197487,\n",
       " 1.345763753650205,\n",
       " -0.46920973852537218,\n",
       " -1.7513595414519361,\n",
       " 0.59625773175251262,\n",
       " 0.15861897870120975]"
      ]
     },
     "execution_count": 49,
     "metadata": {},
     "output_type": "execute_result"
    }
   ],
   "source": [
    "parvals = [par.val for par in model.pars]\n",
    "parvals"
   ]
  },
  {
   "cell_type": "code",
   "execution_count": 50,
   "metadata": {
    "collapsed": false
   },
   "outputs": [
    {
     "data": {
      "image/png": "[encoded data removed]",
      "text/plain": [
       "<matplotlib.figure.Figure at 0x7f69f3564c50>"
      ]
     },
     "metadata": {},
     "output_type": "display_data"
    }
   ],
   "source": [
    "plot_fit_grouped(fit.parvals, 'mag', 0.25, wp_filter(0.10, 0.20), log=True, colors='cm', label='0.1 < WP < 0.2')\n",
    "plot_fit_grouped(fit.parvals, 'mag', 0.25, wp_filter(0.0, 0.10), log=True, colors='br', label='0 < WP < 0.1')\n",
    "plt.legend(loc='best');"
   ]
  },
  {
   "cell_type": "code",
   "execution_count": 51,
   "metadata": {
    "collapsed": false,
    "scrolled": false
   },
   "outputs": [
    {
     "data": {
      "image/png": "[encoded data removed]",
      "text/plain": [
       "<matplotlib.figure.Figure at 0x7f69f356d350>"
      ]
     },
     "metadata": {},
     "output_type": "display_data"
    }
   ],
   "source": [
    "plot_fit_grouped(fit.parvals, 'warm_pix', 0.02, mag_filter(10, 10.6), log=True, colors='cm', label='10 < mag < 10.6')\n",
    "plot_fit_grouped(fit.parvals, 'warm_pix', 0.02, mag_filter(9, 10), log=True, colors='br', label='9 < mag < 10')\n",
    "plt.legend(loc='best');"
   ]
  },
  {
   "cell_type": "code",
   "execution_count": 52,
   "metadata": {
    "collapsed": false,
    "scrolled": true
   },
   "outputs": [
    {
     "data": {
      "image/png": "[encoded data removed]",
      "text/plain": [
       "<matplotlib.figure.Figure at 0x7f69f1d58fd0>"
      ]
     },
     "metadata": {},
     "output_type": "display_data"
    }
   ],
   "source": [
    "plot_fit_grouped(fit.parvals, 'year', 0.25, mag_filter(10, 10.6), colors='cm', label='10 < mag < 10.6')\n",
    "plot_fit_grouped(fit.parvals, 'year', 0.25, mag_filter(9.5, 10), colors='br', label='9.5 < mag < 10')\n",
    "plot_fit_grouped(fit.parvals, 'year', 0.25, mag_filter(9.0, 9.5),  colors='gk', label='9.0 < mag < 9.5')\n",
    "plt.legend(loc='best');"
   ]
  },
  {
   "cell_type": "code",
   "execution_count": null,
   "metadata": {
    "collapsed": false
   },
   "outputs": [],
   "source": []
  },
  {
   "cell_type": "code",
   "execution_count": null,
   "metadata": {
    "collapsed": true
   },
   "outputs": [],
   "source": []
  }
 ],
 "metadata": {
  "kernelspec": {
   "display_name": "Python 2",
   "language": "python",
   "name": "python2"
  },
  "language_info": {
   "codemirror_mode": {
    "name": "ipython",
    "version": 2
   },
   "file_extension": ".py",
   "mimetype": "text/x-python",
   "name": "python",
   "nbconvert_exporter": "python",
   "pygments_lexer": "ipython2",
   "version": "2.7.9"
  }
 },
 "nbformat": 4,
 "nbformat_minor": 0
}
