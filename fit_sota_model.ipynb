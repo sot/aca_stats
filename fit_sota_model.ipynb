{
 "metadata": {
  "name": "",
  "signature": "sha256:d520ad71799facf26b289174d9054bd32dadf052e3bca28fa4a857a2525c7e7d"
 },
 "nbformat": 3,
 "nbformat_minor": 0,
 "worksheets": [
  {
   "cells": [
    {
     "cell_type": "code",
     "collapsed": false,
     "input": [
      "from __future__ import division\n",
      "\n",
      "import numpy as np\n",
      "import matplotlib.pyplot as plt\n",
      "from astropy.table import Column"
     ],
     "language": "python",
     "metadata": {},
     "outputs": [],
     "prompt_number": 1
    },
    {
     "cell_type": "code",
     "collapsed": false,
     "input": [
      "SOTA2013_FIT = [0.18, 0.99, -0.49,  # Scale\n",
      "                -1.49, 0.89, 0.28]  # Offset"
     ],
     "language": "python",
     "metadata": {},
     "outputs": [],
     "prompt_number": 2
    },
    {
     "cell_type": "code",
     "collapsed": false,
     "input": [
      "if 'data_all' not in globals():\n",
      "    import cPickle as pickle\n",
      "    with open('data/mini_acq_table.pkl', 'r') as fh:\n",
      "        data_all = pickle.load(fh)\n",
      "        data_all['mag10'] = data_all['mag'] - 10.0\n",
      "        data_all.sort('year')\n",
      "        ok = (data_all['year'] > 2007) & (data_all['mag'] > 7.5) & (data_all['mag'] < 11.0)\n",
      "        data_all = data_all[ok]\n",
      "        data_all = data_all.group_by('quarter')\n",
      "        data_mean = data_all.groups.aggregate(np.mean)"
     ],
     "language": "python",
     "metadata": {},
     "outputs": [],
     "prompt_number": 3
    },
    {
     "cell_type": "code",
     "collapsed": false,
     "input": [
      "def scaled_warm_frac(pars, x, acq_data=None):\n",
      "    if acq_data is None:\n",
      "        acq_data = data_all  # use global data table\n",
      "    scl0, scl1, scl2 = pars[0:3]\n",
      "    off0, off1, off2 = pars[3:6]\n",
      "    m = acq_data['mag10']\n",
      "    scale = 10**(scl0 + scl1 * m + scl2 * m**2)\n",
      "    offset = 10**(off0 + off1 * m + off2 * m**2)\n",
      "    model_fail = offset + scale * (acq_data['warm_pix'] - 0.04)\n",
      "    return model_fail"
     ],
     "language": "python",
     "metadata": {},
     "outputs": [],
     "prompt_number": 4
    },
    {
     "cell_type": "code",
     "collapsed": false,
     "input": [
      "def fit_sota_model():\n",
      "    from sherpa import ui\n",
      "\n",
      "    data_id = 1\n",
      "    ui.set_method('simplex')\n",
      "    ui.set_stat('cash')\n",
      "    ui.load_user_model(scaled_warm_frac, 'model')\n",
      "    ui.add_user_pars('model', ['scl0', 'scl1', 'scl2', 'off0', 'off1', 'off2'])\n",
      "    ui.set_model(data_id, 'model')\n",
      "    ui.load_arrays(data_id, np.array(data_all['year']), np.array(data_all['fail'], dtype=np.float))\n",
      "\n",
      "    # Initial fit values from SOTA 2013 presentation (modulo typo there)\n",
      "    start_vals = iter(SOTA2013_FIT)  # Offset\n",
      "    fmod = ui.get_model_component('model')\n",
      "    for name in ('scl', 'off'):\n",
      "        for num in (0, 1, 2):\n",
      "            comp_name = name + str(num)\n",
      "            setattr(fmod, comp_name, start_vals.next())\n",
      "            comp = getattr(fmod, comp_name)\n",
      "            comp.min = -5\n",
      "            comp.max = 5\n",
      "    ui.fit(data_id)\n",
      "    # conf = ui.get_confidence_results()\n",
      "    return ui.get_fit_results()"
     ],
     "language": "python",
     "metadata": {},
     "outputs": [],
     "prompt_number": 5
    },
    {
     "cell_type": "code",
     "collapsed": false,
     "input": [
      "def plot_fit_grouped(pars, group_col, group_bin, mask=None, log=False, colors='br', label=None):\n",
      "    if mask is None:\n",
      "        mask = np.ones(len(data_all), dtype=bool)\n",
      "    data = data_all[mask]\n",
      "    data['model'] = scaled_warm_frac(pars, None, data)\n",
      "\n",
      "    group = np.trunc(data[group_col] / group_bin)\n",
      "    data = data.group_by(group)\n",
      "    data_mean = data.groups.aggregate(np.mean)\n",
      "    len_groups = np.diff(data.groups.indices)\n",
      "    fail_sigmas = np.sqrt(data_mean['fail'] * len_groups) / len_groups\n",
      "    \n",
      "    plt.errorbar(data_mean[group_col], data_mean['fail'], yerr=fail_sigmas, fmt='.' + colors[0], label=label)\n",
      "    plt.plot(data_mean[group_col], data_mean['model'], '-' + colors[1])\n",
      "    if log:\n",
      "        ax = plt.gca()\n",
      "        ax.set_yscale('log')"
     ],
     "language": "python",
     "metadata": {},
     "outputs": [],
     "prompt_number": 19
    },
    {
     "cell_type": "code",
     "collapsed": false,
     "input": [
      "def mag_filter(mag0, mag1):\n",
      "    ok = (data_all['mag'] > mag0) & (data_all['mag'] < mag1)\n",
      "    return ok"
     ],
     "language": "python",
     "metadata": {},
     "outputs": [],
     "prompt_number": 7
    },
    {
     "cell_type": "code",
     "collapsed": false,
     "input": [
      "def wp_filter(wp0, wp1):\n",
      "    ok = (data_all['warm_pix'] > wp0) & (data_all['warm_pix'] < wp1)\n",
      "    return ok"
     ],
     "language": "python",
     "metadata": {},
     "outputs": [],
     "prompt_number": 9
    },
    {
     "cell_type": "code",
     "collapsed": false,
     "input": [
      "fit = fit_sota_model()"
     ],
     "language": "python",
     "metadata": {},
     "outputs": [
      {
       "output_type": "stream",
       "stream": "stdout",
       "text": [
        "Dataset               = 1\n",
        "Method                = neldermead\n",
        "Statistic             = cash\n",
        "Initial fit statistic = 23004.4\n",
        "Final fit statistic   = 22949.9 at function evaluation 1146\n",
        "Data points           = 91871\n",
        "Degrees of freedom    = 91865\n",
        "Change in statistic   = 54.4918\n",
        "   model.scl0     0.143803    \n",
        "   model.scl1     1.11208     \n",
        "   model.scl2     -0.238288   \n",
        "   model.off0     -1.54206    \n",
        "   model.off1     0.69249     \n",
        "   model.off2     0.141481    \n"
       ]
      },
      {
       "output_type": "stream",
       "stream": "stderr",
       "text": [
        "INFO:sherpa.ui.utils:Dataset               = 1\n",
        "Method                = neldermead\n",
        "Statistic             = cash\n",
        "Initial fit statistic = 23004.4\n",
        "Final fit statistic   = 22949.9 at function evaluation 1146\n",
        "Data points           = 91871\n",
        "Degrees of freedom    = 91865\n",
        "Change in statistic   = 54.4918\n",
        "   model.scl0     0.143803    \n",
        "   model.scl1     1.11208     \n",
        "   model.scl2     -0.238288   \n",
        "   model.off0     -1.54206    \n",
        "   model.off1     0.69249     \n",
        "   model.off2     0.141481    \n"
       ]
      }
     ],
     "prompt_number": 10
    },
    {
     "cell_type": "code",
     "collapsed": false,
     "input": [
      "print(fit)"
     ],
     "language": "python",
     "metadata": {},
     "outputs": [
      {
       "output_type": "stream",
       "stream": "stdout",
       "text": [
        "datasets       = (1,)\n",
        "itermethodname = none\n",
        "methodname     = neldermead\n",
        "statname       = cash\n",
        "succeeded      = True\n",
        "parnames       = ('model.scl0', 'model.scl1', 'model.scl2', 'model.off0', 'model.off1', 'model.off2')\n",
        "parvals        = (0.14380254580909044, 1.1120795606754033, -0.23828842036054182, -1.5420568527434402, 0.6924898542529816, 0.1414809635388084)\n",
        "statval        = 22949.9420229\n",
        "istatval       = 23004.4337965\n",
        "dstatval       = 54.491773631\n",
        "numpoints      = 91871\n",
        "dof            = 91865\n",
        "qval           = None\n",
        "rstat          = None\n",
        "message        = Optimization terminated successfully\n",
        "nfev           = 1146\n"
       ]
      }
     ],
     "prompt_number": 11
    },
    {
     "cell_type": "code",
     "collapsed": false,
     "input": [
      "plot_fit_grouped(fit.parvals, 'mag', 0.25, wp_filter(0.10, 0.20), log=True, colors='cm', label='0.1 < WP < 0.2')\n",
      "plot_fit_grouped(fit.parvals, 'mag', 0.25, wp_filter(0.0, 0.10), log=True, colors='br', label='0 < WP < 0.1')\n",
      "plt.legend(loc='best')"
     ],
     "language": "python",
     "metadata": {},
     "outputs": [
      {
       "metadata": {},
       "output_type": "pyout",
       "prompt_number": 20,
       "text": [
        "<matplotlib.legend.Legend at 0x10c2f2290>"
       ]
      },
      {
       "metadata": {},
       "output_type": "display_data",
       "png": "[encoded data removed]",
       "text": [
        "<matplotlib.figure.Figure at 0x10ba7e2d0>"
       ]
      }
     ],
     "prompt_number": 20
    },
    {
     "cell_type": "code",
     "collapsed": false,
     "input": [
      "plot_fit_grouped(fit.parvals, 'warm_pix', 0.02, mag_filter(10, 10.6), log=True, colors='cm', label='10 < mag < 10.6')\n",
      "plot_fit_grouped(fit.parvals, 'warm_pix', 0.02, mag_filter(9, 10), log=True, colors='br', label='9 < mag < 10')\n",
      "plt.legend(loc='best')"
     ],
     "language": "python",
     "metadata": {},
     "outputs": [
      {
       "metadata": {},
       "output_type": "pyout",
       "prompt_number": 21,
       "text": [
        "<matplotlib.legend.Legend at 0x10c3e0390>"
       ]
      },
      {
       "metadata": {},
       "output_type": "display_data",
       "png": "[encoded data removed]",
       "text": [
        "<matplotlib.figure.Figure at 0x10c306dd0>"
       ]
      }
     ],
     "prompt_number": 21
    },
    {
     "cell_type": "code",
     "collapsed": false,
     "input": [],
     "language": "python",
     "metadata": {},
     "outputs": []
    }
   ],
   "metadata": {}
  }
 ]
}