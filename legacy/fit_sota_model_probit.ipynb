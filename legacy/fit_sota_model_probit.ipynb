{
 "cells": [
  {
   "cell_type": "code",
   "execution_count": 1,
   "metadata": {
    "collapsed": false
   },
   "outputs": [],
   "source": [
    "from __future__ import division\n",
    "\n",
    "import numpy as np\n",
    "import matplotlib.pyplot as plt\n",
    "from astropy.table import Table\n",
    "from astropy.time import Time\n",
    "import tables\n",
    "from scipy import stats\n",
    "\n",
    "%matplotlib inline"
   ]
  },
  {
   "cell_type": "code",
   "execution_count": 2,
   "metadata": {
    "collapsed": false
   },
   "outputs": [],
   "source": [
    "SOTA2015_FIT_ALL = [9.0122372262846735,\n",
    " 6.5882697680183346,\n",
    " -0.77727342693609758,\n",
    " -2.1477049943999713,\n",
    " 0.67132336969927486,\n",
    " 0.33209623740442562]"
   ]
  },
  {
   "cell_type": "code",
   "execution_count": 3,
   "metadata": {
    "collapsed": true
   },
   "outputs": [],
   "source": [
    "SOTA2015_FIT_NO_1P5 = [9.6887121629584954,\n",
    " 9.1613039805725531,\n",
    " -0.41919346946809299,\n",
    " -2.3829996969445664,\n",
    " 0.54998935209070199,\n",
    " 0.47839261003413558,\n",
    " 0.0060869131558326916]"
   ]
  },
  {
   "cell_type": "code",
   "execution_count": 4,
   "metadata": {
    "collapsed": true
   },
   "outputs": [],
   "source": [
    "SOTA2015_FIT_ONLY_1P5 = [8.5417092977479818,\n",
    " 0.4448269654965103,\n",
    " -3.5137851315167579,\n",
    " -1.350542439869622,\n",
    " 1.527806122455764,\n",
    " 0.30973568451354011,\n",
    " 0.005414847154007865]"
   ]
  },
  {
   "cell_type": "code",
   "execution_count": 5,
   "metadata": {
    "collapsed": false
   },
   "outputs": [],
   "source": [
    "with tables.openFile('/proj/sot/ska/data/acq_stats/acq_stats.h5', 'r') as h5:\n",
    "    cols = h5.root.data.cols\n",
    "    names = {'tstart': 'guide_tstart',\n",
    "             'obsid': 'obsid',\n",
    "             'obc_id': 'acqid',\n",
    "             'warm_pix': 'n100_warm_frac',\n",
    "             'mag': 'mag_aca',\n",
    "             'known_bad': 'known_bad',\n",
    "             'color': 'color1'}\n",
    "    acqs = Table([getattr(cols, h5_name)[:] for h5_name in names.values()],\n",
    "                 names=list(names.keys()))\n",
    "\n",
    "    year_q0 = 1999.0 + 31. / 365.25  # Jan 31 approximately\n",
    "acqs['year'] = Time(acqs['tstart'], format='cxcsec').decimalyear.astype('f4')\n",
    "acqs['quarter'] = (np.trunc((acqs['year'] - year_q0) * 4)).astype('f4')\n",
    "acqs['fail'] = 1.0 - acqs['obc_id'].astype(np.int)\n",
    "acqs['color_1p5'] = np.where(acqs['color'] == 1.5, 1, 0)"
   ]
  },
  {
   "cell_type": "code",
   "execution_count": 6,
   "metadata": {
    "collapsed": false
   },
   "outputs": [
    {
     "name": "stdout",
     "output_type": "stream",
     "text": [
      "Filtering known bad obsids, start len = 108646\n",
      "Filtering known bad obsids, end len = 108486\n"
     ]
    }
   ],
   "source": [
    "data_all = acqs.group_by('quarter')\n",
    "data_all['mag10'] = data_all['mag'] - 10.0\n",
    "data_all.sort('year')\n",
    "ok = (data_all['year'] > 2007) & (data_all['mag'] > 6.0) & (data_all['mag'] < 11.0)\n",
    "data_all = data_all[ok]\n",
    "data_all = data_all.group_by('quarter')\n",
    "data_mean = data_all.groups.aggregate(np.mean)\n",
    "\n",
    "ok = np.ones(len(data_all), dtype=bool)\n",
    "print('Filtering known bad obsids, start len = {}'.format(len(data_all)))\n",
    "bad_obsids = [\n",
    "    # Venus\n",
    "    2411,2414,6395,7306,7307,7308,7309,7311,7312,7313,7314,7315,7317,7318,7406,583,\n",
    "    7310,9741,9742,9743,9744,9745,9746,9747,9749,9752,9753,9748,7316,15292,16499,\n",
    "    16500,16501,16503,16504,16505,16506,16502,\n",
    "    ]\n",
    "for badid in bad_obsids:\n",
    "    ok = ok & (data_all['obsid'] != badid)\n",
    "data_all = data_all[ok]\n",
    "print('Filtering known bad obsids, end len = {}'.format(len(data_all)))"
   ]
  },
  {
   "cell_type": "code",
   "execution_count": 7,
   "metadata": {
    "collapsed": false
   },
   "outputs": [
    {
     "data": {
      "text/html": [
       "&lt;Table masked=False length=88919&gt;\n",
       "<table id=\"table140460359216464\">\n",
       "<thead><tr><th>obc_id</th><th>known_bad</th><th>tstart</th><th>color</th><th>warm_pix</th><th>mag</th><th>obsid</th><th>year</th><th>quarter</th><th>fail</th><th>color_1p5</th><th>mag10</th></tr></thead>\n",
       "<thead><tr><th>bool</th><th>bool</th><th>float64</th><th>float64</th><th>float64</th><th>float64</th><th>int64</th><th>float32</th><th>float32</th><th>float64</th><th>int64</th><th>float64</th></tr></thead>\n",
       "<tr><td>True</td><td>False</td><td>284017659.681</td><td>1.47899985313</td><td>0.037536239405</td><td>8.92266273499</td><td>58613</td><td>2007.0</td><td>31.0</td><td>0.0</td><td>0</td><td>-1.07733726501</td></tr>\n",
       "<tr><td>True</td><td>False</td><td>284017659.681</td><td>1.04379975796</td><td>0.037536239405</td><td>8.83009433746</td><td>58613</td><td>2007.0</td><td>31.0</td><td>0.0</td><td>0</td><td>-1.16990566254</td></tr>\n",
       "<tr><td>True</td><td>False</td><td>284017659.681</td><td>1.49089980125</td><td>0.037536239405</td><td>9.53129386902</td><td>58613</td><td>2007.0</td><td>31.0</td><td>0.0</td><td>0</td><td>-0.468706130981</td></tr>\n",
       "<tr><td>True</td><td>False</td><td>284017659.681</td><td>0.546550095081</td><td>0.037536239405</td><td>7.90769767761</td><td>58613</td><td>2007.0</td><td>31.0</td><td>0.0</td><td>0</td><td>-2.09230232239</td></tr>\n",
       "<tr><td>True</td><td>False</td><td>284017659.681</td><td>0.59840041399</td><td>0.037536239405</td><td>9.28877162933</td><td>58613</td><td>2007.0</td><td>31.0</td><td>0.0</td><td>0</td><td>-0.711228370667</td></tr>\n",
       "<tr><td>True</td><td>False</td><td>284017659.681</td><td>0.231200262904</td><td>0.037536239405</td><td>8.9228105545</td><td>58613</td><td>2007.0</td><td>31.0</td><td>0.0</td><td>0</td><td>-1.0771894455</td></tr>\n",
       "<tr><td>True</td><td>False</td><td>284017659.681</td><td>1.10670006275</td><td>0.037536239405</td><td>9.7141456604</td><td>58613</td><td>2007.0</td><td>31.0</td><td>0.0</td><td>0</td><td>-0.2858543396</td></tr>\n",
       "<tr><td>True</td><td>False</td><td>284019533.381</td><td>0.909499764442</td><td>0.0375113319633</td><td>8.96426963806</td><td>58612</td><td>2007.0</td><td>31.0</td><td>0.0</td><td>0</td><td>-1.03573036194</td></tr>\n",
       "<tr><td>True</td><td>False</td><td>284019533.381</td><td>0.473450124264</td><td>0.0375113319633</td><td>9.33366012573</td><td>58612</td><td>2007.0</td><td>31.0</td><td>0.0</td><td>0</td><td>-0.666339874268</td></tr>\n",
       "<tr><td>True</td><td>False</td><td>284019533.381</td><td>1.25629973412</td><td>0.0375113319633</td><td>6.77489948273</td><td>58612</td><td>2007.0</td><td>31.0</td><td>0.0</td><td>0</td><td>-3.22510051727</td></tr>\n",
       "<tr><td>...</td><td>...</td><td>...</td><td>...</td><td>...</td><td>...</td><td>...</td><td>...</td><td>...</td><td>...</td><td>...</td><td>...</td></tr>\n",
       "<tr><td>True</td><td>False</td><td>570520664.921</td><td>0.392699897289</td><td>0.190267609149</td><td>7.45233917236</td><td>51293</td><td>2016.08</td><td>67.0</td><td>0.0</td><td>0</td><td>-2.54766082764</td></tr>\n",
       "<tr><td>True</td><td>False</td><td>570520664.921</td><td>0.559300005436</td><td>0.190267609149</td><td>9.44221115112</td><td>51293</td><td>2016.08</td><td>67.0</td><td>0.0</td><td>0</td><td>-0.557788848877</td></tr>\n",
       "<tr><td>True</td><td>False</td><td>570520664.921</td><td>0.48109999299</td><td>0.190267609149</td><td>9.88777065277</td><td>51293</td><td>2016.08</td><td>67.0</td><td>0.0</td><td>0</td><td>-0.112229347229</td></tr>\n",
       "<tr><td>True</td><td>False</td><td>570536864.022</td><td>0.964750170708</td><td>0.19027523302</td><td>8.15521717072</td><td>51292</td><td>2016.08</td><td>67.0</td><td>0.0</td><td>0</td><td>-1.84478282928</td></tr>\n",
       "<tr><td>True</td><td>False</td><td>570536864.022</td><td>-0.0926501750946</td><td>0.19027523302</td><td>7.68175315857</td><td>51292</td><td>2016.08</td><td>67.0</td><td>0.0</td><td>0</td><td>-2.31824684143</td></tr>\n",
       "<tr><td>True</td><td>False</td><td>570536864.022</td><td>1.37019956112</td><td>0.19027523302</td><td>8.42284297943</td><td>51292</td><td>2016.08</td><td>67.0</td><td>0.0</td><td>0</td><td>-1.57715702057</td></tr>\n",
       "<tr><td>True</td><td>False</td><td>570536864.022</td><td>0.033150434494</td><td>0.19027523302</td><td>9.02678585052</td><td>51292</td><td>2016.08</td><td>67.0</td><td>0.0</td><td>0</td><td>-0.973214149475</td></tr>\n",
       "<tr><td>True</td><td>False</td><td>570536864.022</td><td>0.219299510121</td><td>0.19027523302</td><td>9.23766040802</td><td>51292</td><td>2016.08</td><td>67.0</td><td>0.0</td><td>0</td><td>-0.76233959198</td></tr>\n",
       "<tr><td>True</td><td>False</td><td>570536864.022</td><td>0.595850169659</td><td>0.19027523302</td><td>8.5012140274</td><td>51292</td><td>2016.08</td><td>67.0</td><td>0.0</td><td>0</td><td>-1.4987859726</td></tr>\n",
       "<tr><td>True</td><td>False</td><td>570536864.022</td><td>-0.0475997924805</td><td>0.19027523302</td><td>9.24546527863</td><td>51292</td><td>2016.08</td><td>67.0</td><td>0.0</td><td>0</td><td>-0.754534721375</td></tr>\n",
       "</table>"
      ],
      "text/plain": [
       "<Table masked=False length=88919>\n",
       "obc_id known_bad     tstart    ...   fail  color_1p5      mag10     \n",
       " bool     bool      float64    ... float64   int64       float64    \n",
       "------ --------- ------------- ... ------- --------- ---------------\n",
       "  True     False 284017659.681 ...     0.0         0  -1.07733726501\n",
       "  True     False 284017659.681 ...     0.0         0  -1.16990566254\n",
       "  True     False 284017659.681 ...     0.0         0 -0.468706130981\n",
       "  True     False 284017659.681 ...     0.0         0  -2.09230232239\n",
       "  True     False 284017659.681 ...     0.0         0 -0.711228370667\n",
       "  True     False 284017659.681 ...     0.0         0   -1.0771894455\n",
       "  True     False 284017659.681 ...     0.0         0   -0.2858543396\n",
       "  True     False 284019533.381 ...     0.0         0  -1.03573036194\n",
       "  True     False 284019533.381 ...     0.0         0 -0.666339874268\n",
       "  True     False 284019533.381 ...     0.0         0  -3.22510051727\n",
       "   ...       ...           ... ...     ...       ...             ...\n",
       "  True     False 570520664.921 ...     0.0         0  -2.54766082764\n",
       "  True     False 570520664.921 ...     0.0         0 -0.557788848877\n",
       "  True     False 570520664.921 ...     0.0         0 -0.112229347229\n",
       "  True     False 570536864.022 ...     0.0         0  -1.84478282928\n",
       "  True     False 570536864.022 ...     0.0         0  -2.31824684143\n",
       "  True     False 570536864.022 ...     0.0         0  -1.57715702057\n",
       "  True     False 570536864.022 ...     0.0         0 -0.973214149475\n",
       "  True     False 570536864.022 ...     0.0         0  -0.76233959198\n",
       "  True     False 570536864.022 ...     0.0         0   -1.4987859726\n",
       "  True     False 570536864.022 ...     0.0         0 -0.754534721375"
      ]
     },
     "execution_count": 7,
     "metadata": {},
     "output_type": "execute_result"
    }
   ],
   "source": [
    "# SET DATA FILTERING for this run (TO DO: refactor into a function)\n",
    "data_all = data_all[data_all['color'] != 1.5]\n",
    "data_all"
   ]
  },
  {
   "cell_type": "code",
   "execution_count": 8,
   "metadata": {
    "collapsed": false
   },
   "outputs": [],
   "source": [
    "def p_acq_fail(pars, x, data=None, mag=None, wp=None):\n",
    "    if data is None:\n",
    "        data = data_all\n",
    "        \n",
    "    m10 = data['mag10'] if mag is None else mag - 10.0\n",
    "    if wp is None:\n",
    "        wp = data['warm_pix']\n",
    "        \n",
    "    scl0, scl1, scl2 = pars[0:3]\n",
    "    off0, off1, off2 = pars[3:6]\n",
    "    p_bright_fail = pars[6]\n",
    "    \n",
    "    scale = scl0 + scl1 * m10 + scl2 * m10**2\n",
    "    offset = off0 + off1 * m10 + off2 * m10**2  # + off_color1p5 * acq_data['color_1p5']\n",
    "    \n",
    "    p_fail = offset + scale * wp\n",
    "    p_fail = stats.norm.cdf(p_fail)  # probit transform\n",
    "    p_fail[m10 < -1.5] = p_bright_fail  # For stars brighter than 8.5 mag use a constant\n",
    "    \n",
    "    return p_fail"
   ]
  },
  {
   "cell_type": "code",
   "execution_count": 9,
   "metadata": {
    "collapsed": false
   },
   "outputs": [],
   "source": [
    "def fit_sota_model():\n",
    "    from sherpa import ui\n",
    "\n",
    "    data_id = 1\n",
    "    ui.set_method('simplex')\n",
    "    ui.set_stat('cash')\n",
    "    ui.load_user_model(p_acq_fail, 'model')\n",
    "    ui.add_user_pars('model', ['scl0', 'scl1', 'scl2', 'off0', 'off1', 'off2', 'p_bright_fail'])\n",
    "    ui.set_model(data_id, 'model')\n",
    "    ui.load_arrays(data_id, np.array(data_all['year']), np.array(data_all['fail'], dtype=np.float))\n",
    "\n",
    "    # Initial fit values from SOTA 2013 presentation (modulo typo there)\n",
    "    start_vals = iter(SOTA2015_FIT_ALL)  # Offset\n",
    "    fmod = ui.get_model_component('model')\n",
    "    for name in ('scl', 'off'):\n",
    "        for num in (0, 1, 2):\n",
    "            comp_name = name + str(num)\n",
    "            setattr(fmod, comp_name, start_vals.next())\n",
    "            comp = getattr(fmod, comp_name)\n",
    "            comp.min = -100000\n",
    "            comp.max = 100000\n",
    "            # ui.freeze(comp)\n",
    "    \n",
    "    fmod.p_bright_fail = 0.025\n",
    "    fmod.p_bright_fail.min = 0.0\n",
    "    fmod.p_bright_fail.max = 1.0\n",
    "    # ui.freeze(fmod.p_bright_fail)\n",
    "    \n",
    "    ui.fit(data_id)\n",
    "    # conf = ui.get_confidence_results()\n",
    "    return ui.get_fit_results()"
   ]
  },
  {
   "cell_type": "code",
   "execution_count": 10,
   "metadata": {
    "collapsed": false
   },
   "outputs": [],
   "source": [
    "def plot_fit_grouped(pars, group_col, group_bin, mask=None, log=False, colors='br', label=None):\n",
    "    if mask is None:\n",
    "        mask = np.ones(len(data_all), dtype=bool)\n",
    "    data = data_all[mask]\n",
    "    data['model'] = p_acq_fail(pars, None, data)\n",
    "\n",
    "    group = np.trunc(data[group_col] / group_bin)\n",
    "    data = data.group_by(group)\n",
    "    data_mean = data.groups.aggregate(np.mean)\n",
    "    len_groups = np.diff(data.groups.indices)\n",
    "    fail_sigmas = np.sqrt(data_mean['fail'] * len_groups) / len_groups\n",
    "    \n",
    "    plt.errorbar(data_mean[group_col], data_mean['fail'], yerr=fail_sigmas, fmt='.' + colors[0], label=label)\n",
    "    plt.plot(data_mean[group_col], data_mean['model'], '-' + colors[1])\n",
    "    if log:\n",
    "        ax = plt.gca()\n",
    "        ax.set_yscale('log')"
   ]
  },
  {
   "cell_type": "code",
   "execution_count": 11,
   "metadata": {
    "collapsed": false
   },
   "outputs": [],
   "source": [
    "def mag_filter(mag0, mag1):\n",
    "    ok = (data_all['mag'] > mag0) & (data_all['mag'] < mag1)\n",
    "    return ok"
   ]
  },
  {
   "cell_type": "code",
   "execution_count": 12,
   "metadata": {
    "collapsed": false
   },
   "outputs": [],
   "source": [
    "def wp_filter(wp0, wp1):\n",
    "    ok = (data_all['warm_pix'] > wp0) & (data_all['warm_pix'] < wp1)\n",
    "    return ok"
   ]
  },
  {
   "cell_type": "code",
   "execution_count": 13,
   "metadata": {
    "collapsed": false,
    "scrolled": true
   },
   "outputs": [
    {
     "name": "stdout",
     "output_type": "stream",
     "text": [
      "Hang tight, this will take a few minutes\n",
      "Dataset               = 1\n",
      "Method                = neldermead\n",
      "Statistic             = cash\n",
      "Initial fit statistic = 21087.1\n",
      "Final fit statistic   = 20364.6 at function evaluation 1263\n",
      "Data points           = 88919\n",
      "Degrees of freedom    = 88912\n",
      "Change in statistic   = 722.528\n",
      "   model.scl0     9.36664     \n",
      "   model.scl1     8.60574     \n",
      "   model.scl2     -0.902867   \n",
      "   model.off0     -2.36035    \n",
      "   model.off1     0.590629    \n",
      "   model.off2     0.511768    \n",
      "   model.p_bright_fail   0.0059554   \n"
     ]
    },
    {
     "name": "stderr",
     "output_type": "stream",
     "text": [
      "INFO:sherpa.ui.utils:Dataset               = 1\n",
      "Method                = neldermead\n",
      "Statistic             = cash\n",
      "Initial fit statistic = 21087.1\n",
      "Final fit statistic   = 20364.6 at function evaluation 1263\n",
      "Data points           = 88919\n",
      "Degrees of freedom    = 88912\n",
      "Change in statistic   = 722.528\n",
      "   model.scl0     9.36664     \n",
      "   model.scl1     8.60574     \n",
      "   model.scl2     -0.902867   \n",
      "   model.off0     -2.36035    \n",
      "   model.off1     0.590629    \n",
      "   model.off2     0.511768    \n",
      "   model.p_bright_fail   0.0059554   \n"
     ]
    }
   ],
   "source": [
    "print('Hang tight, this will take a few minutes')\n",
    "fit = fit_sota_model()"
   ]
  },
  {
   "cell_type": "code",
   "execution_count": 14,
   "metadata": {
    "collapsed": false
   },
   "outputs": [
    {
     "name": "stdout",
     "output_type": "stream",
     "text": [
      "datasets       = (1,)\n",
      "itermethodname = none\n",
      "methodname     = neldermead\n",
      "statname       = cash\n",
      "succeeded      = True\n",
      "parnames       = ('model.scl0', 'model.scl1', 'model.scl2', 'model.off0', 'model.off1', 'model.off2', 'model.p_bright_fail')\n",
      "parvals        = (9.3666362229120406, 8.605735251264182, -0.90286728615046496, -2.3603499957772285, 0.59062854628381856, 0.5117683329382009, 0.0059554037295721082)\n",
      "statval        = 20364.5624894\n",
      "istatval       = 21087.0900145\n",
      "dstatval       = 722.527525164\n",
      "numpoints      = 88919\n",
      "dof            = 88912\n",
      "qval           = None\n",
      "rstat          = None\n",
      "message        = Optimization terminated successfully\n",
      "nfev           = 1263\n"
     ]
    }
   ],
   "source": [
    "print(fit)"
   ]
  },
  {
   "cell_type": "code",
   "execution_count": 15,
   "metadata": {
    "collapsed": false
   },
   "outputs": [
    {
     "data": {
      "text/plain": [
       "[9.3666362229120406,\n",
       " 8.605735251264182,\n",
       " -0.90286728615046496,\n",
       " -2.3603499957772285,\n",
       " 0.59062854628381856,\n",
       " 0.5117683329382009,\n",
       " 0.0059554037295721082]"
      ]
     },
     "execution_count": 15,
     "metadata": {},
     "output_type": "execute_result"
    }
   ],
   "source": [
    "parvals = [par.val for par in model.pars]\n",
    "parvals"
   ]
  },
  {
   "cell_type": "code",
   "execution_count": 25,
   "metadata": {
    "collapsed": false
   },
   "outputs": [
    {
     "data": {
      "image/png": "[encoded data removed]",
      "text/plain": [
       "<matplotlib.figure.Figure at 0x7fbf9922e5d0>"
      ]
     },
     "metadata": {},
     "output_type": "display_data"
    }
   ],
   "source": [
    "plot_fit_grouped(parvals, 'mag', 0.25, wp_filter(0.10, 0.20), log=False, colors='cm', label='0.10 < WP < 0.2')\n",
    "plot_fit_grouped(parvals, 'mag', 0.25, wp_filter(0.0, 0.10), log=False, colors='br', label='0 < WP < 0.10')\n",
    "plt.legend(loc='best');\n",
    "plt.ylim(0.0, 1.0);\n",
    "plt.xlim(9, 11)\n",
    "plt.grid();"
   ]
  },
  {
   "cell_type": "code",
   "execution_count": 17,
   "metadata": {
    "collapsed": false,
    "scrolled": false
   },
   "outputs": [
    {
     "data": {
      "image/png": "[encoded data removed]",
      "text/plain": [
       "<matplotlib.figure.Figure at 0x7fbf6fb15f90>"
      ]
     },
     "metadata": {},
     "output_type": "display_data"
    }
   ],
   "source": [
    "plot_fit_grouped(parvals, 'warm_pix', 0.02, mag_filter(10, 10.6), log=True, colors='cm', label='10 < mag < 10.6')\n",
    "plot_fit_grouped(parvals, 'warm_pix', 0.02, mag_filter(9, 10), log=True, colors='br', label='9 < mag < 10')\n",
    "plt.legend(loc='best');"
   ]
  },
  {
   "cell_type": "code",
   "execution_count": 18,
   "metadata": {
    "collapsed": false,
    "scrolled": true
   },
   "outputs": [
    {
     "data": {
      "image/png": "[encoded data removed]",
      "text/plain": [
       "<matplotlib.figure.Figure at 0x7fbf70585910>"
      ]
     },
     "metadata": {},
     "output_type": "display_data"
    }
   ],
   "source": [
    "plot_fit_grouped(parvals, 'year', 0.25, mag_filter(10, 10.6), colors='cm', label='10 < mag < 10.6')\n",
    "plot_fit_grouped(parvals, 'year', 0.25, mag_filter(9.5, 10), colors='br', label='9.5 < mag < 10')\n",
    "plot_fit_grouped(parvals, 'year', 0.25, mag_filter(9.0, 9.5),  colors='gk', label='9.0 < mag < 9.5')\n",
    "plt.legend(loc='best');"
   ]
  },
  {
   "cell_type": "code",
   "execution_count": 19,
   "metadata": {
    "collapsed": false,
    "scrolled": true
   },
   "outputs": [
    {
     "data": {
      "image/png": "[encoded data removed]",
      "text/plain": [
       "<matplotlib.figure.Figure at 0x7fbf7069ebd0>"
      ]
     },
     "metadata": {},
     "output_type": "display_data"
    }
   ],
   "source": [
    "plot_fit_grouped(parvals, 'year', 0.25, mag_filter(10, 10.6), colors='cm', label='10 < mag < 10.6', log=True)\n",
    "plot_fit_grouped(parvals, 'year', 0.25, mag_filter(9.5, 10), colors='br', label='9.5 < mag < 10', log=True)\n",
    "plot_fit_grouped(parvals, 'year', 0.25, mag_filter(9.0, 9.5),  colors='gk', label='9.0 < mag < 9.5', log=True)\n",
    "plt.legend(loc='best');"
   ]
  },
  {
   "cell_type": "code",
   "execution_count": 20,
   "metadata": {
    "collapsed": false,
    "scrolled": true
   },
   "outputs": [],
   "source": [
    "ok = data_all['color'] == 1.5\n",
    "if np.any(ok):\n",
    "    plot_fit_grouped(parvals, 'year', 0.5, mag_filter(10, 10.6) & ok, colors='cm', label='10 < mag < 10.6')\n",
    "    plot_fit_grouped(parvals, 'year', 0.5, mag_filter(9.5, 10) & ok, colors='br', label='9.5 < mag < 10')\n",
    "    plot_fit_grouped(parvals, 'year', 0.5, mag_filter(9.0, 9.5) & ok,  colors='gk', label='9.0 < mag < 9.5')\n",
    "    plt.legend(loc='best');"
   ]
  },
  {
   "cell_type": "code",
   "execution_count": 21,
   "metadata": {
    "collapsed": false
   },
   "outputs": [
    {
     "data": {
      "text/plain": [
       "(<Parameter 'scl0' of model 'model'>,\n",
       " <Parameter 'scl1' of model 'model'>,\n",
       " <Parameter 'scl2' of model 'model'>,\n",
       " <Parameter 'off0' of model 'model'>,\n",
       " <Parameter 'off1' of model 'model'>,\n",
       " <Parameter 'off2' of model 'model'>,\n",
       " <Parameter 'p_bright_fail' of model 'model'>)"
      ]
     },
     "execution_count": 21,
     "metadata": {},
     "output_type": "execute_result"
    }
   ],
   "source": [
    "model.pars"
   ]
  },
  {
   "cell_type": "code",
   "execution_count": 22,
   "metadata": {
    "collapsed": false
   },
   "outputs": [
    {
     "data": {
      "text/plain": [
       "[9.3666362229120406,\n",
       " 8.605735251264182,\n",
       " -0.90286728615046496,\n",
       " -2.3603499957772285,\n",
       " 0.59062854628381856,\n",
       " 0.5117683329382009,\n",
       " 0.0059554037295721082]"
      ]
     },
     "execution_count": 22,
     "metadata": {},
     "output_type": "execute_result"
    }
   ],
   "source": [
    "parvals"
   ]
  },
  {
   "cell_type": "code",
   "execution_count": 23,
   "metadata": {
    "collapsed": false
   },
   "outputs": [
    {
     "data": {
      "text/plain": [
       "array([ 0.0406096])"
      ]
     },
     "execution_count": 23,
     "metadata": {},
     "output_type": "execute_result"
    }
   ],
   "source": [
    "p_acq_fail(SOTA2015_FIT_ONLY_1P5, None, data=None, mag=np.array([9.0]), wp=0.18)"
   ]
  },
  {
   "cell_type": "code",
   "execution_count": null,
   "metadata": {
    "collapsed": true
   },
   "outputs": [],
   "source": []
  }
 ],
 "metadata": {
  "kernelspec": {
   "display_name": "Python 2",
   "language": "python",
   "name": "python2"
  },
  "language_info": {
   "codemirror_mode": {
    "name": "ipython",
    "version": 2
   },
   "file_extension": ".py",
   "mimetype": "text/x-python",
   "name": "python",
   "nbconvert_exporter": "python",
   "pygments_lexer": "ipython2",
   "version": "2.7.9"
  }
 },
 "nbformat": 4,
 "nbformat_minor": 0
}
