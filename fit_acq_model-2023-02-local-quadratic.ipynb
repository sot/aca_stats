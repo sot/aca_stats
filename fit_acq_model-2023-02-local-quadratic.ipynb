{
 "cells": [
  {
   "attachments": {},
   "cell_type": "markdown",
   "metadata": {},
   "source": [
    "# Local quadratic acq model and plot acq stats for 2022-12 PEA test set\n",
    "\n",
    "This generates plots of the 2022-Dec ASVT data set with MAXMAG clipped with flight data\n",
    "2019-July-01 (approx start time of MAXMAG clipping in flight products).\n",
    "\n",
    "Reference page:\n",
    "https://occweb.cfa.harvard.edu/twiki/bin/view/Aspect/PeaAcqModelCalDec2022Testing"
   ]
  },
  {
   "cell_type": "code",
   "execution_count": null,
   "metadata": {},
   "outputs": [],
   "source": [
    "import numpy as np\n",
    "from pathlib import Path\n",
    "import os\n",
    "from collections import Counter\n",
    "import itertools\n",
    "import warnings\n",
    "\n",
    "from scipy import stats\n",
    "from scipy.stats import binom\n",
    "from scipy import optimize\n",
    "from astropy.table import Table, vstack\n",
    "import matplotlib.pyplot as plt\n",
    "from matplotlib import patches\n",
    "import tables\n",
    "from cxotime import CxoTime\n",
    "import agasc\n",
    "from chandra_aca.star_probs import binom_ppf\n",
    "import matplotlib.style\n",
    "matplotlib.style.use('bmh')\n",
    "\n",
    "from utils_stats import flatten_pea_test_data, read_twiki_csv, get_acq_stats_data\n",
    "\n",
    "%matplotlib inline"
   ]
  },
  {
   "cell_type": "code",
   "execution_count": null,
   "metadata": {},
   "outputs": [],
   "source": [
    "SKA = Path(os.environ[\"SKA\"])\n"
   ]
  },
  {
   "cell_type": "code",
   "execution_count": null,
   "metadata": {},
   "outputs": [],
   "source": [
    "topic = \"PeaAcqModelCalDec2022Testing/\"\n",
    "name = \"pea_analysis_2022_336_AcqProbModel_calibration_test_results.csv\"\n",
    "dat8 = read_twiki_csv(topic + name)\n"
   ]
  },
  {
   "cell_type": "code",
   "execution_count": null,
   "metadata": {},
   "outputs": [],
   "source": [
    "asvt = flatten_pea_test_data(dat8)\n",
    "# Rename to conventions of acq stats database\n",
    "asvt.rename_column(\"star_mag\", \"mag_aca\")\n",
    "asvt.rename_column(\"ccd_temp\", \"t_ccd\")\n",
    "asvt.rename_column(\"search_success\", \"obc_id\")\n",
    "asvt.rename_column(\"search_box_hw\", \"halfwidth\")\n",
    "# Coerce uint8 columns (which are all actually bool) to bool\n",
    "asvt[\"obc_id\"] = asvt[\"obc_id\"].astype(bool)\n",
    "asvt.info\n"
   ]
  },
  {
   "cell_type": "code",
   "execution_count": null,
   "metadata": {
    "scrolled": true
   },
   "outputs": [],
   "source": [
    "Counter(asvt[\"t_ccd\"])\n"
   ]
  },
  {
   "cell_type": "code",
   "execution_count": null,
   "metadata": {},
   "outputs": [],
   "source": [
    "# plt.hist(datf['star_mag'], bins=20)\n",
    "Counter(asvt[\"mag_aca\"])\n"
   ]
  },
  {
   "cell_type": "code",
   "execution_count": null,
   "metadata": {},
   "outputs": [],
   "source": [
    "flt = get_acq_stats_data()\n",
    "ok = ~np.isclose(flt[\"color\"], 1.5)\n",
    "flt = flt[ok]\n"
   ]
  },
  {
   "cell_type": "code",
   "execution_count": null,
   "metadata": {},
   "outputs": [],
   "source": [
    "flt.info"
   ]
  },
  {
   "cell_type": "code",
   "execution_count": null,
   "metadata": {},
   "outputs": [],
   "source": [
    "flt_asvt = vstack([flt, asvt], join_type=\"inner\")\n"
   ]
  },
  {
   "cell_type": "code",
   "execution_count": null,
   "metadata": {},
   "outputs": [],
   "source": [
    "def get_vals_and_bins(vals):\n",
    "    out_vals = np.array(sorted(set(vals)))\n",
    "    out_val_centers = (out_vals[1:] + out_vals[:-1]) / 2\n",
    "    out_val_bins = np.concatenate(\n",
    "        [\n",
    "            [out_vals[0] - 0.5],\n",
    "            out_val_centers,\n",
    "            [out_vals[-1] + 0.5],\n",
    "        ]\n",
    "    )\n",
    "    return out_vals, out_val_bins\n"
   ]
  },
  {
   "cell_type": "code",
   "execution_count": null,
   "metadata": {},
   "outputs": [],
   "source": [
    "t_ccd_vals, t_ccd_bins = get_vals_and_bins(asvt[\"t_ccd\"])\n",
    "mag_vals, mag_bins = get_vals_and_bins(asvt[\"mag_aca\"])\n",
    "halfwidth_vals, halfwidth_bins = get_vals_and_bins(asvt[\"halfwidth\"])\n"
   ]
  },
  {
   "cell_type": "code",
   "execution_count": null,
   "metadata": {},
   "outputs": [],
   "source": [
    "print(mag_vals)\n",
    "print(t_ccd_vals)\n",
    "print(halfwidth_vals)"
   ]
  },
  {
   "cell_type": "code",
   "execution_count": null,
   "metadata": {},
   "outputs": [],
   "source": []
  },
  {
   "cell_type": "code",
   "execution_count": null,
   "metadata": {},
   "outputs": [],
   "source": [
    "# Aggregate binned number of samples and successes for ASVT data\n",
    "\n",
    "\n",
    "def get_samples_successes(dat, mag_bins, t_ccd_bins, halfwidth_bins):\n",
    "    zeros = np.zeros(\n",
    "        shape=(len(mag_bins) - 1, len(t_ccd_bins) - 1, len(halfwidth_bins) - 1),\n",
    "        dtype=int,\n",
    "    )\n",
    "    n_samp = zeros.copy()\n",
    "    n_succ = zeros.copy()\n",
    "\n",
    "    # Bin halfwidths (narrow since ASVT data are all at the same mag, T_ccd)\n",
    "    for ii, mag0, mag1 in zip(itertools.count(), mag_bins[:-1], mag_bins[1:]):\n",
    "        ok0 = (dat[\"mag_aca\"] >= mag0) & (dat[\"mag_aca\"] < mag1)\n",
    "        for jj, t_ccd0, t_ccd1 in zip(\n",
    "            itertools.count(), t_ccd_bins[:-1], t_ccd_bins[1:]\n",
    "        ):\n",
    "            ok1 = (dat[\"t_ccd\"] >= t_ccd0) & (dat[\"t_ccd\"] < t_ccd1)\n",
    "            for kk, halfwidth0, halfwidth1 in zip(\n",
    "                itertools.count(), halfwidth_bins[:-1], halfwidth_bins[1:]\n",
    "            ):\n",
    "                ok2 = (dat[\"halfwidth\"] >= halfwidth0) & (dat[\"halfwidth\"] < halfwidth1)\n",
    "                ok = ok0 & ok1 & ok2\n",
    "                n_samp[ii, jj, kk] = np.count_nonzero(ok)\n",
    "                n_succ[ii, jj, kk] = np.count_nonzero(dat[\"obc_id\"][ok])\n",
    "\n",
    "    return n_samp, n_succ"
   ]
  },
  {
   "cell_type": "code",
   "execution_count": null,
   "metadata": {},
   "outputs": [],
   "source": [
    "n_samp_flt, n_succ_flt = get_samples_successes(\n",
    "    flt, mag_bins, t_ccd_bins, halfwidth_bins\n",
    ")\n"
   ]
  },
  {
   "cell_type": "code",
   "execution_count": null,
   "metadata": {},
   "outputs": [],
   "source": [
    "n_samp_asvt, n_succ_asvt = get_samples_successes(\n",
    "    asvt, mag_bins, t_ccd_bins, halfwidth_bins\n",
    ")\n"
   ]
  },
  {
   "cell_type": "code",
   "execution_count": null,
   "metadata": {},
   "outputs": [],
   "source": [
    "n_samp = n_samp_flt + n_samp_asvt\n",
    "n_succ = n_succ_flt + n_succ_asvt\n",
    "p_succ = n_succ / n_samp\n",
    "p_fail = 1 - p_succ"
   ]
  },
  {
   "cell_type": "code",
   "execution_count": null,
   "metadata": {},
   "outputs": [],
   "source": [
    "def as_table(arr, fmt=None):\n",
    "    \"\"\"Turn one of the summary arrays into a readable table\"\"\"\n",
    "    t = Table()\n",
    "    t[\"mag\"] = [str(val) for val in mag_vals]\n",
    "    names = [f\"{t_ccd:.1f}\" for t_ccd in t_ccd_vals]\n",
    "    for jj, name in enumerate(names):\n",
    "        t[name] = arr[:, jj]\n",
    "        if fmt:\n",
    "            t[name].info.format = fmt\n",
    "    return t\n"
   ]
  },
  {
   "cell_type": "code",
   "execution_count": null,
   "metadata": {},
   "outputs": [],
   "source": [
    "as_table(n_samp[:, :, -1])"
   ]
  },
  {
   "cell_type": "code",
   "execution_count": null,
   "metadata": {},
   "outputs": [],
   "source": [
    "def get_successes_slice(\n",
    "    dat,\n",
    "    mag0=None,\n",
    "    mag1=None,\n",
    "    t_ccd0=None,\n",
    "    t_ccd1=None,\n",
    "    halfwidth0=None,\n",
    "    halfwidth1=None,\n",
    "):\n",
    "    ok = np.ones_like(dat[\"mag_aca\"], dtype=bool)\n",
    "    if mag0 is not None:\n",
    "        ok &= dat[\"mag_aca\"] >= mag0\n",
    "    if mag1 is not None:\n",
    "        ok &= dat[\"mag_aca\"] < mag1\n",
    "    if t_ccd0 is not None:\n",
    "        ok &= dat[\"t_ccd\"] >= t_ccd0\n",
    "    if t_ccd1 is not None:\n",
    "        ok &= dat[\"t_ccd\"] < t_ccd1\n",
    "    if halfwidth0 is not None:\n",
    "        ok &= dat[\"halfwidth\"] >= halfwidth0\n",
    "    if halfwidth1 is not None:\n",
    "        ok &= dat[\"halfwidth\"] < halfwidth1\n",
    "    return dat[ok]\n"
   ]
  },
  {
   "cell_type": "code",
   "execution_count": null,
   "metadata": {},
   "outputs": [],
   "source": [
    "def calc_p_succ(pars, xs, x0s, order, as_probit=False):\n",
    "    \"\"\"\n",
    "    Binomial probability model\n",
    "\n",
    "    :param pars: p0, p1, p2 (quadratic in t_ccd) and floor (min p_fail)\n",
    "    :param t_ccd: t_ccd (degC) or scaled t_ccd if rescale is False.\n",
    "    :param tc2: (scaled t_ccd) ** 2, this is just for faster fitting\n",
    "    :param box_delta: delta p_fail for search box size\n",
    "    :param rescale: rescale t_ccd to about -1 to 1 (makes P0, P1, P2 better-behaved)\n",
    "    :param probit: return probability as probit instead of 0 to 1.\n",
    "    \"\"\"\n",
    "    xs = np.asarray(xs)\n",
    "    x0s = np.asarray(x0s)\n",
    "\n",
    "    p_succ_probit = pars[-1] * np.ones(shape=xs.shape[1:])\n",
    "\n",
    "    for ii in range(len(x0s)):\n",
    "        dx = (xs[ii, ...] - x0s[ii])\n",
    "        if order == 1:\n",
    "            p_succ_probit[...] += pars[ii] * dx\n",
    "        elif order == 2:\n",
    "            p_succ_probit[...] += pars[2 * ii] * dx + pars[2 * ii + 1] * dx ** 2\n",
    "        else:\n",
    "            raise ValueError(f\"order={order} not supported\")\n",
    "\n",
    "    # Possibly transform from probit to linear probability\n",
    "    out = p_succ_probit if as_probit else stats.norm.cdf(p_succ_probit)\n",
    "\n",
    "    return out\n"
   ]
  },
  {
   "cell_type": "code",
   "execution_count": null,
   "metadata": {},
   "outputs": [],
   "source": [
    "def calc_binom_stat(succ, p_succ):\n",
    "    \"\"\"\n",
    "    Calculate log-likelihood for a binomial probability distribution.\n",
    "\n",
    "    Defining p = model, then probability of seeing data == 1 is p and\n",
    "    probability of seeing data == 0 is (1 - p).  Note here that ``data``\n",
    "    is strictly either 0.0 or 1.0, and np.where interprets those float\n",
    "    values as False or True respectively.\n",
    "\n",
    "    Parameters\n",
    "    ----------\n",
    "    succ : array-like\n",
    "        Array of successes (True or 1) or failures (False or 0)\n",
    "    p_succ : array-like (same shape as ``succ``)\n",
    "        Array of probabilities of success\n",
    "    \"\"\"\n",
    "    bad = (p_succ < 0) | (p_succ > 1)\n",
    "    if np.any(bad):\n",
    "        raise ValueError(f\"p_succ must be in the range 0 to 1 (got {p_succ[bad]})\")\n",
    "    p_succ = p_succ.clip(1e-8, 1 - 1e-8)\n",
    "    fit_stat = -np.sum(np.log(np.where(succ, p_succ, 1.0 - p_succ)))\n",
    "    return fit_stat\n"
   ]
  },
  {
   "cell_type": "code",
   "execution_count": null,
   "metadata": {},
   "outputs": [],
   "source": [
    "def calc_fit_stat(pars, xs, x0s, succ, order):\n",
    "    p_succ = calc_p_succ(pars, xs, x0s, order)\n",
    "    fit_stat = calc_binom_stat(succ, p_succ)\n",
    "    return fit_stat"
   ]
  },
  {
   "cell_type": "code",
   "execution_count": null,
   "metadata": {},
   "outputs": [],
   "source": [
    "xs = [np.random.uniform(0, 3, size=1000), np.random.uniform(0, 3, size=1000)]\n",
    "x0s = [1.5, 1.0]\n",
    "pars = [1, 0.5, 0.25]\n"
   ]
  },
  {
   "cell_type": "code",
   "execution_count": null,
   "metadata": {},
   "outputs": [],
   "source": [
    "p_succ = calc_p_succ(pars, xs, x0s, order=1)"
   ]
  },
  {
   "cell_type": "code",
   "execution_count": null,
   "metadata": {},
   "outputs": [],
   "source": [
    "succ = np.random.uniform(size=p_succ.shape) < p_succ"
   ]
  },
  {
   "cell_type": "code",
   "execution_count": null,
   "metadata": {},
   "outputs": [],
   "source": [
    "calc_fit_stat(pars, xs, x0s, succ, order=1)"
   ]
  },
  {
   "cell_type": "code",
   "execution_count": null,
   "metadata": {},
   "outputs": [],
   "source": [
    "calc_fit_stat([1, 1.0], xs, x0s, succ, order=1)"
   ]
  },
  {
   "cell_type": "code",
   "execution_count": null,
   "metadata": {},
   "outputs": [],
   "source": [
    "%time optimize.minimize(calc_fit_stat, [0.0, 0.0, 0.0], args=(xs, x0s, succ, 1))"
   ]
  },
  {
   "cell_type": "code",
   "execution_count": null,
   "metadata": {},
   "outputs": [],
   "source": [
    "dok = get_successes_slice(\n",
    "    flt_asvt,\n",
    "    mag0=10.125,\n",
    "    mag1=10.375,\n",
    "    t_ccd0=-10,\n",
    "    t_ccd1=-5,\n",
    "    halfwidth0=55,\n",
    "    halfwidth1=65,\n",
    ")"
   ]
  },
  {
   "cell_type": "code",
   "execution_count": null,
   "metadata": {},
   "outputs": [],
   "source": [
    "np.mean(dok[\"obc_id\"])\n"
   ]
  },
  {
   "cell_type": "code",
   "execution_count": null,
   "metadata": {},
   "outputs": [],
   "source": [
    "len(dok)"
   ]
  },
  {
   "cell_type": "code",
   "execution_count": null,
   "metadata": {},
   "outputs": [],
   "source": [
    "%%time\n",
    "xs = [dok['mag_aca'], dok['t_ccd']]\n",
    "x0s = [8.0, -14.0]\n",
    "res = optimize.minimize(calc_fit_stat, [0.0, 0.0, 0.0], args=(xs, x0s, dok['obc_id'], 1))\n",
    "res"
   ]
  },
  {
   "cell_type": "code",
   "execution_count": null,
   "metadata": {},
   "outputs": [],
   "source": [
    "from itertools import count"
   ]
  },
  {
   "cell_type": "code",
   "execution_count": null,
   "metadata": {},
   "outputs": [],
   "source": [
    "def iterbins(bin_edges, width):\n",
    "    \"\"\"\n",
    "    Centers:     0   1   2   3   4   5   6   7   8   9\n",
    "    Edges:     0   1   2   3   4   5   6   7   8   9   10\n",
    "    width=1 answers:\n",
    "       (0, 2), (0, 3), (1, 4) ...\n",
    "    \"\"\"\n",
    "    i_min = 0\n",
    "    i_max = len(bin_edges) - 1\n",
    "    for i_center in range(len(bin_edges) - 1):\n",
    "        i_edge0 = np.clip(i_center - width, i_min, i_max)\n",
    "        i_edge1 = np.clip(i_center + width + 1, i_min, i_max)\n",
    "        yield i_center, bin_edges[i_edge0], bin_edges[i_edge1]"
   ]
  },
  {
   "cell_type": "code",
   "execution_count": null,
   "metadata": {},
   "outputs": [],
   "source": [
    "for i_center, mag0, mag1 in iterbins(mag_bins, 2):\n",
    "    print(i_center, mag0, mag1)"
   ]
  },
  {
   "cell_type": "code",
   "execution_count": null,
   "metadata": {},
   "outputs": [],
   "source": [
    "n_succ.size"
   ]
  },
  {
   "cell_type": "code",
   "execution_count": null,
   "metadata": {},
   "outputs": [],
   "source": [
    "print(mag_vals)\n",
    "print(mag_bins)"
   ]
  },
  {
   "cell_type": "code",
   "execution_count": null,
   "metadata": {},
   "outputs": [],
   "source": [
    "p_fit = np.zeros(shape=n_succ.shape, dtype=float)\n",
    "p_succ = np.zeros_like(p_fit)\n",
    "\n",
    "for i_mag, mag0, mag1 in iterbins(mag_bins, width=1):\n",
    "    mag = mag_vals[i_mag]\n",
    "    print(f\"{mag=} {i_mag=} ({mag0} to {mag1})\")\n",
    "\n",
    "    for i_t_ccd, t_ccd0, t_ccd1 in iterbins(t_ccd_bins, width=1):\n",
    "        t_ccd = t_ccd_vals[i_t_ccd]\n",
    "        print(f\"{t_ccd=} {i_t_ccd=} ({t_ccd0} to {t_ccd1})\")\n",
    "\n",
    "        for i_halfwidth, halfwidth0, halfwidth1 in iterbins(halfwidth_bins, width=1):\n",
    "            halfwidth = halfwidth_vals[i_halfwidth]\n",
    "            # print(f\"{halfwidth=} {i_halfwidth=} ({halfwidth0} to {halfwidth1})\")\n",
    "            dok = get_successes_slice(\n",
    "                flt_asvt,\n",
    "                mag0=mag0,\n",
    "                mag1=mag1,\n",
    "                t_ccd0=t_ccd0,\n",
    "                t_ccd1=t_ccd1,\n",
    "                halfwidth0=halfwidth0,\n",
    "                halfwidth1=halfwidth1,\n",
    "            )\n",
    "            xs = [dok[\"mag_aca\"]]  # , dok[\"t_ccd\"], dok[\"halfwidth\"]]\n",
    "            x0s = [mag]  # , t_ccd, halfwidth]\n",
    "            res = optimize.minimize(\n",
    "                calc_fit_stat, [0.0, 0.0], args=(xs, x0s, dok[\"obc_id\"], 1)\n",
    "            )\n",
    "            p_succ0 = np.count_nonzero(dok[\"obc_id\"]) / len(dok)\n",
    "            p_fit0 = stats.norm.cdf(res.x[-1])\n",
    "            p_fit[i_mag, i_t_ccd, i_halfwidth] = p_fit0\n",
    "            p_succ[i_mag, i_t_ccd, i_halfwidth] = p_succ0\n",
    "            # print(f\"{mag=} {t_ccd=} {halfwidth=} {p_fit0=:.2f} {p_succ=:.2f}\")"
   ]
  },
  {
   "cell_type": "code",
   "execution_count": null,
   "metadata": {},
   "outputs": [],
   "source": [
    "dok\n"
   ]
  },
  {
   "cell_type": "code",
   "execution_count": null,
   "metadata": {},
   "outputs": [],
   "source": [
    "p_fit[-1].round(3)"
   ]
  },
  {
   "cell_type": "code",
   "execution_count": null,
   "metadata": {},
   "outputs": [],
   "source": [
    "p_succ[-1].round(3)\n"
   ]
  },
  {
   "cell_type": "code",
   "execution_count": null,
   "metadata": {},
   "outputs": [],
   "source": [
    "n_samp[-1]\n"
   ]
  },
  {
   "cell_type": "code",
   "execution_count": null,
   "metadata": {},
   "outputs": [],
   "source": [
    "n_succ[-1]\n"
   ]
  },
  {
   "cell_type": "code",
   "execution_count": null,
   "metadata": {},
   "outputs": [],
   "source": [
    "AXIS_LABELS = [\"mag\", \"t_ccd\", \"halfwidth\"]\n",
    "X_VALS = [mag_vals, t_ccd_vals, halfwidth_vals]\n",
    "\n",
    "\n",
    "def make_plots_grid(x_axis=\"t_ccd\", x_grid=\"halfwidth\", y_grid=\"mag\"):\n",
    "    idx_x_axis = AXIS_LABELS.index(x_axis)\n",
    "    idx_x_grid = AXIS_LABELS.index(x_grid)\n",
    "    idx_y_grid = AXIS_LABELS.index(y_grid)\n",
    "\n",
    "    n_x_axis = n_samp.shape[idx_x_axis]\n",
    "    n_x_grid = n_samp.shape[idx_x_grid]\n",
    "    n_y_grid = n_samp.shape[idx_y_grid]\n",
    "\n",
    "    size_per_plot = 2.0\n",
    "    figsize = (size_per_plot * n_x_grid, size_per_plot * n_y_grid)\n",
    "    fig, axes = plt.subplots(\n",
    "        nrows=n_y_grid, ncols=n_x_grid, figsize=figsize, sharex=True, sharey=True\n",
    "    )\n",
    "    idxs_point = [None, None, None]\n",
    "\n",
    "    for i_row in range(n_y_grid):\n",
    "        idxs_point[idx_y_grid] = i_row\n",
    "\n",
    "        for i_col in range(n_x_grid):\n",
    "            idxs_point[idx_x_grid] = i_col\n",
    "            x = X_VALS[idx_x_axis]\n",
    "            y = np.empty(shape=(n_x_axis,))\n",
    "            y_fit = np.empty(shape=(n_x_axis,))\n",
    "            yerr = np.empty(shape=(2, n_x_axis))\n",
    "\n",
    "            for i_x in range(n_x_axis):\n",
    "                idxs_point[idx_x_axis] = i_x\n",
    "                ijk = tuple(idxs_point)\n",
    "                k = n_succ[ijk]\n",
    "                n = n_samp[ijk]\n",
    "                with warnings.catch_warnings():\n",
    "                    warnings.simplefilter(\"ignore\")\n",
    "                    sig_low, sig_high = binom_ppf(k, n, [0.16, 0.84])\n",
    "                p = k / n\n",
    "                y[i_x] = p\n",
    "                y_fit[i_x] = p_fit[ijk]\n",
    "                yerr[0, i_x] = p - sig_low\n",
    "                yerr[1, i_x] = sig_high - p\n",
    "\n",
    "            ax = axes[i_row, i_col]\n",
    "            ax.errorbar(x, y, yerr=yerr, fmt=\"o-\", color=\"C0\")\n",
    "            ax.plot(x, y_fit, \"-\", color=\"C1\")\n",
    "            ax.set_ylim(0, 1)\n",
    "            ax.text(\n",
    "                0.05,\n",
    "                0.05,\n",
    "                f\"{x_grid}={X_VALS[idx_x_grid][i_col]}\",\n",
    "                horizontalalignment=\"left\",\n",
    "                verticalalignment=\"bottom\",\n",
    "                transform=ax.transAxes,\n",
    "                fontsize=\"small\",\n",
    "            )\n",
    "            ax.text(\n",
    "                0.05,\n",
    "                0.15,\n",
    "                f\"{y_grid}={X_VALS[idx_y_grid][i_row]}\",\n",
    "                horizontalalignment=\"left\",\n",
    "                verticalalignment=\"bottom\",\n",
    "                transform=ax.transAxes,\n",
    "                fontsize=\"small\",\n",
    "            )\n",
    "            # ax.set_title(f\"mag={mag_vals[i_mag]:.1f}\")\n",
    "\n",
    "    fig.subplots_adjust(hspace=0, wspace=0)\n",
    "    fig.tight_layout()\n"
   ]
  },
  {
   "cell_type": "code",
   "execution_count": null,
   "metadata": {},
   "outputs": [],
   "source": [
    "make_plots_grid(x_axis=\"t_ccd\", x_grid=\"halfwidth\", y_grid=\"mag\")"
   ]
  },
  {
   "cell_type": "code",
   "execution_count": null,
   "metadata": {},
   "outputs": [],
   "source": [
    "make_plots_grid(x_axis=\"halfwidth\", x_grid=\"mag\", y_grid=\"t_ccd\")"
   ]
  },
  {
   "cell_type": "code",
   "execution_count": null,
   "metadata": {},
   "outputs": [],
   "source": [
    "make_plots_grid(x_axis=\"mag\", x_grid=\"halfwidth\", y_grid=\"t_ccd\")"
   ]
  },
  {
   "cell_type": "code",
   "execution_count": null,
   "metadata": {},
   "outputs": [],
   "source": []
  }
 ],
 "metadata": {
  "kernelspec": {
   "display_name": "ska3",
   "language": "python",
   "name": "python3"
  },
  "language_info": {
   "codemirror_mode": {
    "name": "ipython",
    "version": 3
   },
   "file_extension": ".py",
   "mimetype": "text/x-python",
   "name": "python",
   "nbconvert_exporter": "python",
   "pygments_lexer": "ipython3",
   "version": "3.8.12"
  },
  "vscode": {
   "interpreter": {
    "hash": "d2df0004ee630a46de2935730c9c65ee0c09bd3f3b85f07c44dd36ceff3dbd5e"
   }
  }
 },
 "nbformat": 4,
 "nbformat_minor": 4
}
