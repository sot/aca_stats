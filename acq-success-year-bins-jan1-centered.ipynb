{
 "cells": [
  {
   "cell_type": "markdown",
   "metadata": {},
   "source": [
    "## Acquisition success yearly trending\n",
    "\n",
    "To run this standalone on the HEAD or GRETA networks:\n",
    "```\n",
    "# Get into Ska3 environment\n",
    "git clone https://github.com/sot/aca_stats.git\n",
    "cd aca_stats\n",
    "jupyter nbconvert --to notebook --execute acq-success-trend-yearly.ipynb\n",
    "ls -lrt\n",
    "```\n",
    "This will create the png and csv output files."
   ]
  },
  {
   "cell_type": "code",
   "execution_count": 1,
   "metadata": {},
   "outputs": [],
   "source": [
    "import numpy as np\n",
    "from agasc import get_supplement_table\n",
    "%matplotlib inline\n",
    "from astropy.table import Table\n",
    "from mica.stats.acq_stats import get_stats\n",
    "from cxotime import CxoTime\n",
    "import matplotlib.pyplot as plt\n",
    "from chandra_aca.star_probs import binom_ppf"
   ]
  },
  {
   "cell_type": "code",
   "execution_count": 2,
   "metadata": {},
   "outputs": [
    {
     "data": {
      "text/plain": [
       "281155"
      ]
     },
     "execution_count": 2,
     "metadata": {},
     "output_type": "execute_result"
    }
   ],
   "source": [
    "stats = Table(get_stats())\n",
    "len(stats)"
   ]
  },
  {
   "cell_type": "code",
   "execution_count": 3,
   "metadata": {},
   "outputs": [
    {
     "data": {
      "text/html": [
       "<i>Row index=281154</i>\n",
       "<table id=\"table139719090726048\">\n",
       "<thead><tr><th>obsid</th><th>obi</th><th>acq_start</th><th>guide_start</th><th>guide_tstart</th><th>one_shot_length</th><th>revision</th><th>slot</th><th>idx</th><th>type</th><th>yang</th><th>zang</th><th>halfw</th><th>mag</th><th>acqid</th><th>star_tracked</th><th>spoiler_tracked</th><th>img_func</th><th>n_trak_interv</th><th>max_trak_cdy</th><th>min_trak_cdy</th><th>mean_trak_cdy</th><th>max_trak_cdz</th><th>min_trak_cdz</th><th>mean_trak_cdz</th><th>max_trak_mag</th><th>min_trak_mag</th><th>mean_trak_mag</th><th>cdy</th><th>cdz</th><th>dy</th><th>dz</th><th>ion_rad</th><th>def_pix</th><th>mult_star</th><th>sat_pix</th><th>mag_obs</th><th>yang_obs</th><th>zang_obs</th><th>agasc_id</th><th>color1</th><th>ra</th><th>dec</th><th>epoch</th><th>pm_ra</th><th>pm_dec</th><th>var</th><th>pos_err</th><th>mag_aca</th><th>mag_err</th><th>mag_band</th><th>pos_catid</th><th>aspq1</th><th>aspq2</th><th>aspq3</th><th>acqq1</th><th>acqq2</th><th>acqq4</th><th>n100_warm_frac</th><th>ccd_temp</th><th>known_bad</th><th>bad_comment</th></tr></thead>\n",
       "<thead><tr><th>int64</th><th>int64</th><th>bytes21</th><th>bytes21</th><th>float64</th><th>float64</th><th>bytes15</th><th>int64</th><th>int64</th><th>bytes5</th><th>float64</th><th>float64</th><th>int64</th><th>float64</th><th>bool</th><th>bool</th><th>bool</th><th>bytes7</th><th>int64</th><th>float64</th><th>float64</th><th>float64</th><th>float64</th><th>float64</th><th>float64</th><th>float64</th><th>float64</th><th>float64</th><th>float64</th><th>float64</th><th>float64</th><th>float64</th><th>bool</th><th>bool</th><th>bool</th><th>bool</th><th>float64</th><th>float64</th><th>float64</th><th>int64</th><th>float64</th><th>float64</th><th>float64</th><th>float64</th><th>int64</th><th>int64</th><th>int64</th><th>int64</th><th>float64</th><th>int64</th><th>int64</th><th>int64</th><th>int64</th><th>int64</th><th>int64</th><th>int64</th><th>int64</th><th>int64</th><th>float64</th><th>float64</th><th>bool</th><th>bytes15</th></tr></thead>\n",
       "<tr><td>25905</td><td>0</td><td>2023:127:02:14:48.722</td><td>2023:127:02:15:28.697</td><td>799812997.8809999</td><td>30.880641848331717</td><td>1.0</td><td>7</td><td>8</td><td>BOT</td><td>-532.0</td><td>-1076.0</td><td>140</td><td>9.183</td><td>True</td><td>True</td><td>False</td><td>star</td><td>1</td><td>0.348955543699617</td><td>0.12229183792396725</td><td>0.215201405745865</td><td>-1.377824811013852</td><td>-1.9199225868987924</td><td>-1.6108892713631349</td><td>9.125</td><td>9.125</td><td>9.125</td><td>0.30750832148271456</td><td>-1.8153087815258004</td><td>-3.20931430097653</td><td>30.24489637517854</td><td>False</td><td>False</td><td>False</td><td>False</td><td>9.125</td><td>-542.45</td><td>-1039.175</td><td>41691856</td><td>0.7726503610610962</td><td>215.89125262</td><td>0.04708222</td><td>2000.0</td><td>26</td><td>-9999</td><td>-9999</td><td>25</td><td>9.148642539978027</td><td>3</td><td>4</td><td>5</td><td>0</td><td>0</td><td>999</td><td>-9999</td><td>-9999</td><td>466</td><td>0.4575395637946367</td><td>-4.70794677734375</td><td>False</td><td></td></tr>\n",
       "</table>"
      ],
      "text/plain": [
       "<Row index=281154>\n",
       "obsid  obi        acq_start            guide_start         guide_tstart    one_shot_length   revision  slot  idx   type    yang    zang  halfw   mag   acqid star_tracked spoiler_tracked img_func n_trak_interv    max_trak_cdy       min_trak_cdy      mean_trak_cdy      max_trak_cdz        min_trak_cdz       mean_trak_cdz    max_trak_mag min_trak_mag mean_trak_mag         cdy                 cdz                 dy                dz        ion_rad def_pix mult_star sat_pix mag_obs yang_obs  zang_obs agasc_id       color1            ra         dec      epoch  pm_ra pm_dec  var  pos_err      mag_aca      mag_err mag_band pos_catid aspq1 aspq2 aspq3 acqq1 acqq2 acqq4   n100_warm_frac        ccd_temp     known_bad bad_comment\n",
       "int64 int64        bytes21               bytes21             float64           float64       bytes15  int64 int64 bytes5 float64 float64 int64 float64  bool     bool           bool       bytes7      int64          float64            float64            float64           float64             float64             float64         float64      float64       float64          float64             float64            float64           float64        bool    bool     bool     bool  float64 float64   float64   int64        float64         float64     float64   float64 int64 int64  int64  int64       float64       int64   int64     int64   int64 int64 int64 int64 int64 int64      float64            float64         bool     bytes15  \n",
       "----- ----- --------------------- --------------------- ----------------- ------------------ -------- ----- ----- ------ ------- ------- ----- ------- ----- ------------ --------------- -------- ------------- ----------------- ------------------- ----------------- ------------------ ------------------- ------------------- ------------ ------------ ------------- ------------------- ------------------- ----------------- ----------------- ------- ------- --------- ------- ------- -------- --------- -------- ------------------ ------------ ---------- ------- ----- ------ ----- ------- ----------------- ------- -------- --------- ----- ----- ----- ----- ----- ----- ------------------ ----------------- --------- -----------\n",
       "25905     0 2023:127:02:14:48.722 2023:127:02:15:28.697 799812997.8809999 30.880641848331717      1.0     7     8    BOT  -532.0 -1076.0   140   9.183  True         True           False     star             1 0.348955543699617 0.12229183792396725 0.215201405745865 -1.377824811013852 -1.9199225868987924 -1.6108892713631349        9.125        9.125         9.125 0.30750832148271456 -1.8153087815258004 -3.20931430097653 30.24489637517854   False   False     False   False   9.125  -542.45 -1039.175 41691856 0.7726503610610962 215.89125262 0.04708222  2000.0    26  -9999 -9999      25 9.148642539978027       3        4         5     0     0   999 -9999 -9999   466 0.4575395637946367 -4.70794677734375     False            "
      ]
     },
     "execution_count": 3,
     "metadata": {},
     "output_type": "execute_result"
    }
   ],
   "source": [
    "stats[-1]"
   ]
  },
  {
   "cell_type": "code",
   "execution_count": 4,
   "metadata": {},
   "outputs": [],
   "source": [
    "curr_year = CxoTime.now().decimalyear\n",
    "obs_year = CxoTime(stats['guide_tstart']).decimalyear\n",
    "stats['iyear'] = np.round(obs_year)"
   ]
  },
  {
   "cell_type": "code",
   "execution_count": 5,
   "metadata": {},
   "outputs": [
    {
     "data": {
      "text/plain": [
       "2023.3524030533993"
      ]
     },
     "execution_count": 5,
     "metadata": {},
     "output_type": "execute_result"
    }
   ],
   "source": [
    "curr_year"
   ]
  },
  {
   "cell_type": "code",
   "execution_count": 6,
   "metadata": {},
   "outputs": [
    {
     "data": {
      "text/plain": [
       "2023.345463238743"
      ]
     },
     "execution_count": 6,
     "metadata": {},
     "output_type": "execute_result"
    }
   ],
   "source": [
    "obs_year[-1]"
   ]
  },
  {
   "cell_type": "code",
   "execution_count": 7,
   "metadata": {},
   "outputs": [
    {
     "name": "stdout",
     "output_type": "stream",
     "text": [
      "232477\n"
     ]
    }
   ],
   "source": [
    "# Correct ACA mags using AGASC supplement\n",
    "obs_mags = get_supplement_table('mags', as_dict=True)\n",
    "n_match = 0\n",
    "for row in stats:\n",
    "    try:\n",
    "        row['mag'] = obs_mags[row['agasc_id']]['mag_aca']\n",
    "        n_match += 1\n",
    "    except KeyError:\n",
    "        pass\n",
    "print(n_match)"
   ]
  },
  {
   "cell_type": "code",
   "execution_count": 8,
   "metadata": {},
   "outputs": [],
   "source": [
    "# Select only faint stars.\n",
    "# Original version of notebook filtered on stats['halfw'] >= 120 but don't do that here.\n",
    "ok = (stats['mag'] >= 9.6) & (stats['mag'] < 10.6)\n",
    "sok = stats[ok]"
   ]
  },
  {
   "cell_type": "code",
   "execution_count": 9,
   "metadata": {},
   "outputs": [
    {
     "data": {
      "text/plain": [
       "66707"
      ]
     },
     "execution_count": 9,
     "metadata": {},
     "output_type": "execute_result"
    }
   ],
   "source": [
    "len(sok)"
   ]
  },
  {
   "cell_type": "code",
   "execution_count": 10,
   "metadata": {},
   "outputs": [
    {
     "data": {
      "text/plain": [
       "232477"
      ]
     },
     "execution_count": 10,
     "metadata": {},
     "output_type": "execute_result"
    }
   ],
   "source": [
    "n_match"
   ]
  },
  {
   "cell_type": "code",
   "execution_count": 11,
   "metadata": {},
   "outputs": [],
   "source": [
    "sok['imag'] = np.trunc(sok['mag'] * 5) / 5"
   ]
  },
  {
   "cell_type": "code",
   "execution_count": 12,
   "metadata": {},
   "outputs": [],
   "source": [
    "sg = sok.group_by(keys=['imag', 'iyear'])['imag', 'iyear', 'star_tracked']"
   ]
  },
  {
   "cell_type": "code",
   "execution_count": 13,
   "metadata": {},
   "outputs": [
    {
     "data": {
      "text/plain": [
       "110"
      ]
     },
     "execution_count": 13,
     "metadata": {},
     "output_type": "execute_result"
    }
   ],
   "source": [
    "len(sg.groups)"
   ]
  },
  {
   "cell_type": "code",
   "execution_count": 14,
   "metadata": {},
   "outputs": [
    {
     "name": "stdout",
     "output_type": "stream",
     "text": [
      "9.6 2002.0 179 184 0.97\n",
      "9.6 2003.0 867 881 0.98\n",
      "9.6 2004.0 773 787 0.98\n",
      "9.6 2005.0 894 906 0.99\n",
      "9.6 2006.0 930 947 0.98\n",
      "9.6 2007.0 891 913 0.98\n",
      "9.6 2008.0 1041 1069 0.97\n",
      "9.6 2009.0 972 981 0.99\n",
      "9.6 2010.0 1124 1149 0.98\n",
      "9.6 2011.0 1113 1129 0.99\n",
      "9.6 2012.0 1030 1052 0.98\n",
      "9.6 2013.0 1105 1128 0.98\n",
      "9.6 2014.0 896 927 0.97\n",
      "9.6 2015.0 1015 1056 0.96\n",
      "9.6 2016.0 1090 1136 0.96\n",
      "9.6 2017.0 1065 1134 0.94\n",
      "9.6 2018.0 1237 1326 0.93\n",
      "9.6 2019.0 1149 1273 0.90\n",
      "9.6 2020.0 702 780 0.90\n",
      "9.6 2021.0 833 911 0.91\n",
      "9.6 2022.0 842 978 0.86\n",
      "9.6 2023.0 737 856 0.86\n",
      "9.8 2002.0 91 92 0.99\n",
      "9.8 2003.0 759 786 0.97\n",
      "9.8 2004.0 659 679 0.97\n",
      "9.8 2005.0 714 722 0.99\n",
      "9.8 2006.0 1013 1034 0.98\n",
      "9.8 2007.0 758 782 0.97\n",
      "9.8 2008.0 996 1028 0.97\n",
      "9.8 2009.0 945 965 0.98\n",
      "9.8 2010.0 1075 1109 0.97\n",
      "9.8 2011.0 1149 1174 0.98\n",
      "9.8 2012.0 911 927 0.98\n",
      "9.8 2013.0 934 970 0.96\n",
      "9.8 2014.0 909 937 0.97\n",
      "9.8 2015.0 758 795 0.95\n",
      "9.8 2016.0 854 901 0.95\n",
      "9.8 2017.0 944 1013 0.93\n",
      "9.8 2018.0 962 1078 0.89\n",
      "9.8 2019.0 971 1094 0.89\n",
      "9.8 2020.0 441 488 0.90\n",
      "9.8 2021.0 536 599 0.89\n",
      "9.8 2022.0 559 674 0.83\n",
      "9.8 2023.0 448 561 0.80\n",
      "10.0 2002.0 66 69 0.96\n",
      "10.0 2003.0 733 770 0.95\n",
      "10.0 2004.0 420 441 0.95\n",
      "10.0 2005.0 503 521 0.97\n",
      "10.0 2006.0 859 888 0.97\n",
      "10.0 2007.0 775 792 0.98\n",
      "10.0 2008.0 911 932 0.98\n",
      "10.0 2009.0 766 793 0.97\n",
      "10.0 2010.0 951 980 0.97\n",
      "10.0 2011.0 954 1003 0.95\n",
      "10.0 2012.0 814 848 0.96\n",
      "10.0 2013.0 832 880 0.95\n",
      "10.0 2014.0 701 725 0.97\n",
      "10.0 2015.0 786 834 0.94\n",
      "10.0 2016.0 875 944 0.93\n",
      "10.0 2017.0 701 786 0.89\n",
      "10.0 2018.0 667 798 0.84\n",
      "10.0 2019.0 606 754 0.80\n",
      "10.0 2020.0 247 297 0.83\n",
      "10.0 2021.0 302 346 0.87\n",
      "10.0 2022.0 321 387 0.83\n",
      "10.0 2023.0 260 343 0.76\n",
      "10.2 2002.0 56 56 1.00\n",
      "10.2 2003.0 326 361 0.90\n",
      "10.2 2004.0 220 240 0.92\n",
      "10.2 2005.0 320 339 0.94\n",
      "10.2 2006.0 507 523 0.97\n",
      "10.2 2007.0 365 380 0.96\n",
      "10.2 2008.0 454 476 0.95\n",
      "10.2 2009.0 494 506 0.98\n",
      "10.2 2010.0 481 499 0.96\n",
      "10.2 2011.0 384 406 0.95\n",
      "10.2 2012.0 371 392 0.95\n",
      "10.2 2013.0 429 461 0.93\n",
      "10.2 2014.0 330 373 0.88\n",
      "10.2 2015.0 373 424 0.88\n",
      "10.2 2016.0 412 465 0.89\n",
      "10.2 2017.0 291 364 0.80\n",
      "10.2 2018.0 331 487 0.68\n",
      "10.2 2019.0 209 348 0.60\n",
      "10.2 2020.0 151 190 0.79\n",
      "10.2 2021.0 153 184 0.83\n",
      "10.2 2022.0 163 240 0.68\n",
      "10.2 2023.0 118 177 0.67\n",
      "10.4 2002.0 28 30 0.93\n",
      "10.4 2003.0 182 216 0.84\n",
      "10.4 2004.0 127 147 0.86\n",
      "10.4 2005.0 185 198 0.93\n",
      "10.4 2006.0 199 211 0.94\n",
      "10.4 2007.0 134 139 0.96\n",
      "10.4 2008.0 152 165 0.92\n",
      "10.4 2009.0 202 217 0.93\n",
      "10.4 2010.0 178 198 0.90\n",
      "10.4 2011.0 252 276 0.91\n",
      "10.4 2012.0 238 262 0.91\n",
      "10.4 2013.0 204 233 0.88\n",
      "10.4 2014.0 142 170 0.84\n",
      "10.4 2015.0 138 167 0.83\n",
      "10.4 2016.0 122 153 0.80\n",
      "10.4 2017.0 105 175 0.60\n",
      "10.4 2018.0 112 208 0.54\n",
      "10.4 2019.0 153 277 0.55\n",
      "10.4 2020.0 72 95 0.76\n",
      "10.4 2021.0 26 48 0.54\n",
      "10.4 2022.0 78 133 0.59\n",
      "10.4 2023.0 28 56 0.50\n"
     ]
    }
   ],
   "source": [
    "for grp in sg.groups:\n",
    "    print(grp['imag'][0], grp['iyear'][0], np.sum(grp['star_tracked']), len(grp), \n",
    "          '{:.2f}'.format(np.sum(grp['star_tracked']) / len(grp)))"
   ]
  },
  {
   "cell_type": "code",
   "execution_count": 15,
   "metadata": {},
   "outputs": [
    {
     "data": {
      "text/plain": [
       "array([0.40476421, 0.53435284, 0.66081003])"
      ]
     },
     "execution_count": 15,
     "metadata": {},
     "output_type": "execute_result"
    }
   ],
   "source": [
    "# This is the way to plot error bars, but they end up being too messy anyway.\n",
    "binom_ppf(7, 13, [0.16, 0.5, 0.84])"
   ]
  },
  {
   "cell_type": "code",
   "execution_count": 16,
   "metadata": {},
   "outputs": [],
   "source": [
    "# The mean of the star_tracked 0's and 1's is the tracking fraction.\n",
    "sga = sg.groups.aggregate(np.mean)"
   ]
  },
  {
   "cell_type": "code",
   "execution_count": 17,
   "metadata": {},
   "outputs": [
    {
     "name": "stdout",
     "output_type": "stream",
     "text": [
      "imag iyear     star_tracked   \n",
      "---- ------ ------------------\n",
      " 9.6 2002.0 0.9728260869565217\n",
      " 9.6 2003.0 0.9841089670828603\n",
      " 9.6 2004.0 0.9822109275730623\n",
      " 9.6 2005.0 0.9867549668874173\n",
      " 9.6 2006.0 0.9820485744456178\n",
      " 9.6 2007.0 0.9759036144578314\n",
      " ...    ...                ...\n",
      "10.4 2017.0                0.6\n",
      "10.4 2018.0 0.5384615384615384\n",
      "10.4 2019.0 0.5523465703971119\n",
      "10.4 2020.0 0.7578947368421053\n",
      "10.4 2021.0 0.5416666666666666\n",
      "10.4 2022.0 0.5864661654135338\n",
      "10.4 2023.0                0.5\n",
      "Length = 110 rows\n"
     ]
    }
   ],
   "source": [
    "print(sga)"
   ]
  },
  {
   "cell_type": "code",
   "execution_count": 18,
   "metadata": {},
   "outputs": [
    {
     "data": {
      "image/png": "[encoded data removed]",
      "text/plain": [
       "<Figure size 640x480 with 1 Axes>"
      ]
     },
     "metadata": {},
     "output_type": "display_data"
    }
   ],
   "source": [
    "# Make the plot\n",
    "fig, ax = plt.subplots()\n",
    "imags = sorted(set(sga['imag']))\n",
    "for imag in imags:\n",
    "    ok = sga['imag'] == imag\n",
    "    ax.plot(sga['iyear'][ok], sga['star_tracked'][ok], '-o', ms=3,\n",
    "            label=f'{imag:.1f} - {imag+0.2:.1f} mag')\n",
    "ax.legend()\n",
    "ax.grid()\n",
    "\n",
    "ax.set_title('Acquisition success rate trend')\n",
    "ax.set_ylabel('Success fraction')\n",
    "ax.set_xlabel('Year')\n",
    "ax.set_ylim(0, 1);\n",
    "plt.savefig('acq_success_yearly_jan1_centered.png', dpi=150)\n"
   ]
  },
  {
   "cell_type": "code",
   "execution_count": 19,
   "metadata": {},
   "outputs": [],
   "source": [
    "sga.write('acq_success_year_bins_jan1_centered.csv', overwrite=True)"
   ]
  },
  {
   "cell_type": "code",
   "execution_count": null,
   "metadata": {},
   "outputs": [],
   "source": []
  }
 ],
 "metadata": {
  "interpreter": {
   "hash": "d2df0004ee630a46de2935730c9c65ee0c09bd3f3b85f07c44dd36ceff3dbd5e"
  },
  "kernelspec": {
   "display_name": "Python 3 (ipykernel)",
   "language": "python",
   "name": "python3"
  },
  "language_info": {
   "codemirror_mode": {
    "name": "ipython",
    "version": 3
   },
   "file_extension": ".py",
   "mimetype": "text/x-python",
   "name": "python",
   "nbconvert_exporter": "python",
   "pygments_lexer": "ipython3",
   "version": "3.10.8"
  }
 },
 "nbformat": 4,
 "nbformat_minor": 2
}
