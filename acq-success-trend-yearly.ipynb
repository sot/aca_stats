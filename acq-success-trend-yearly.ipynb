{
 "cells": [
  {
   "cell_type": "markdown",
   "metadata": {},
   "source": [
    "## Acquisition success yearly trending\n",
    "\n",
    "To run this standalone on the HEAD or GRETA networks:\n",
    "```\n",
    "# Get into Ska3 environment\n",
    "git clone https://github.com/sot/aca_stats.git\n",
    "cd aca_stats\n",
    "jupyter nbconvert --to notebook --execute acq-success-trend-yearly.ipynb\n",
    "ls -lrt\n",
    "```\n",
    "This will create the png and csv output files."
   ]
  },
  {
   "cell_type": "code",
   "execution_count": 1,
   "metadata": {},
   "outputs": [],
   "source": [
    "import numpy as np\n",
    "from agasc import get_supplement_table\n",
    "%matplotlib inline\n",
    "from astropy.table import Table\n",
    "from mica.stats.acq_stats import get_stats\n",
    "from cxotime import CxoTime\n",
    "import matplotlib.pyplot as plt\n",
    "from chandra_aca.star_probs import binom_ppf"
   ]
  },
  {
   "cell_type": "code",
   "execution_count": 2,
   "metadata": {},
   "outputs": [
    {
     "data": {
      "text/plain": [
       "254227"
      ]
     },
     "execution_count": 2,
     "metadata": {},
     "output_type": "execute_result"
    }
   ],
   "source": [
    "stats = Table(get_stats())\n",
    "len(stats)"
   ]
  },
  {
   "cell_type": "code",
   "execution_count": 3,
   "metadata": {},
   "outputs": [],
   "source": [
    "# Make truncated year column for doing grouping. If current time is less than\n",
    "# half way through the year then slosh that data into the previous year.\n",
    "curr_year = CxoTime.now().decimalyear\n",
    "curr_year_trunc = np.trunc(curr_year)\n",
    "obs_year = CxoTime(stats['guide_tstart']).decimalyear\n",
    "if curr_year - curr_year_trunc < 0.5:\n",
    "    obs_year = obs_year.clip(None, curr_year_trunc - 1)\n",
    "stats['iyear'] = np.trunc(obs_year)"
   ]
  },
  {
   "cell_type": "code",
   "execution_count": 4,
   "metadata": {},
   "outputs": [
    {
     "name": "stdout",
     "output_type": "stream",
     "text": [
      "208575\n"
     ]
    }
   ],
   "source": [
    "# Correct ACA mags using AGASC supplement\n",
    "obs_mags = get_supplement_table('mags', as_dict=True)\n",
    "n_match = 0\n",
    "for row in stats:\n",
    "    try:\n",
    "        row['mag'] = obs_mags[row['agasc_id']]['mag_aca']\n",
    "        n_match += 1\n",
    "    except KeyError:\n",
    "        pass\n",
    "print(n_match)"
   ]
  },
  {
   "cell_type": "code",
   "execution_count": 5,
   "metadata": {},
   "outputs": [],
   "source": [
    "# Select only faint stars.\n",
    "# Original version of notebook filtered on stats['halfw'] >= 120 but don't do that here.\n",
    "ok = (stats['mag'] >= 9.6) & (stats['mag'] < 10.6)\n",
    "sok = stats[ok]"
   ]
  },
  {
   "cell_type": "code",
   "execution_count": 6,
   "metadata": {},
   "outputs": [
    {
     "data": {
      "text/plain": [
       "63093"
      ]
     },
     "execution_count": 6,
     "metadata": {},
     "output_type": "execute_result"
    }
   ],
   "source": [
    "len(sok)"
   ]
  },
  {
   "cell_type": "code",
   "execution_count": 7,
   "metadata": {},
   "outputs": [
    {
     "data": {
      "text/plain": [
       "208575"
      ]
     },
     "execution_count": 7,
     "metadata": {},
     "output_type": "execute_result"
    }
   ],
   "source": [
    "n_match"
   ]
  },
  {
   "cell_type": "code",
   "execution_count": 8,
   "metadata": {},
   "outputs": [],
   "source": [
    "sok['imag'] = np.trunc(sok['mag'] * 5) / 5"
   ]
  },
  {
   "cell_type": "code",
   "execution_count": 9,
   "metadata": {},
   "outputs": [],
   "source": [
    "sg = sok.group_by(keys=['imag', 'iyear'])['imag', 'iyear', 'star_tracked']"
   ]
  },
  {
   "cell_type": "code",
   "execution_count": 10,
   "metadata": {},
   "outputs": [
    {
     "data": {
      "text/plain": [
       "100"
      ]
     },
     "execution_count": 10,
     "metadata": {},
     "output_type": "execute_result"
    }
   ],
   "source": [
    "len(sg.groups)"
   ]
  },
  {
   "cell_type": "code",
   "execution_count": 11,
   "metadata": {},
   "outputs": [
    {
     "name": "stdout",
     "output_type": "stream",
     "text": [
      "9.6 2002.0 512 523 0.98\n",
      "9.6 2003.0 924 939 0.98\n",
      "9.6 2004.0 805 817 0.99\n",
      "9.6 2005.0 907 917 0.99\n",
      "9.6 2006.0 907 935 0.97\n",
      "9.6 2007.0 961 985 0.98\n",
      "9.6 2008.0 991 1004 0.99\n",
      "9.6 2009.0 1096 1111 0.99\n",
      "9.6 2010.0 1058 1079 0.98\n",
      "9.6 2011.0 1177 1199 0.98\n",
      "9.6 2012.0 1061 1084 0.98\n",
      "9.6 2013.0 1049 1086 0.97\n",
      "9.6 2014.0 913 942 0.97\n",
      "9.6 2015.0 1036 1084 0.96\n",
      "9.6 2016.0 1106 1160 0.95\n",
      "9.6 2017.0 1161 1236 0.94\n",
      "9.6 2018.0 1293 1405 0.92\n",
      "9.6 2019.0 784 878 0.89\n",
      "9.6 2020.0 797 867 0.92\n",
      "9.6 2021.0 781 866 0.90\n",
      "9.8 2002.0 298 309 0.96\n",
      "9.8 2003.0 859 889 0.97\n",
      "9.8 2004.0 686 698 0.98\n",
      "9.8 2005.0 856 866 0.99\n",
      "9.8 2006.0 896 926 0.97\n",
      "9.8 2007.0 820 841 0.98\n",
      "9.8 2008.0 910 939 0.97\n",
      "9.8 2009.0 1119 1147 0.98\n",
      "9.8 2010.0 1062 1086 0.98\n",
      "9.8 2011.0 1060 1081 0.98\n",
      "9.8 2012.0 893 918 0.97\n",
      "9.8 2013.0 954 990 0.96\n",
      "9.8 2014.0 827 854 0.97\n",
      "9.8 2015.0 721 765 0.94\n",
      "9.8 2016.0 919 965 0.95\n",
      "9.8 2017.0 947 1039 0.91\n",
      "9.8 2018.0 1120 1265 0.89\n",
      "9.8 2019.0 586 654 0.90\n",
      "9.8 2020.0 441 495 0.89\n",
      "9.8 2021.0 527 596 0.88\n",
      "10.0 2002.0 313 331 0.95\n",
      "10.0 2003.0 666 701 0.95\n",
      "10.0 2004.0 419 432 0.97\n",
      "10.0 2005.0 735 760 0.97\n",
      "10.0 2006.0 788 813 0.97\n",
      "10.0 2007.0 885 903 0.98\n",
      "10.0 2008.0 788 813 0.97\n",
      "10.0 2009.0 894 923 0.97\n",
      "10.0 2010.0 969 1010 0.96\n",
      "10.0 2011.0 853 894 0.95\n",
      "10.0 2012.0 834 868 0.96\n",
      "10.0 2013.0 819 860 0.95\n",
      "10.0 2014.0 763 792 0.96\n",
      "10.0 2015.0 820 884 0.93\n",
      "10.0 2016.0 785 853 0.92\n",
      "10.0 2017.0 638 733 0.87\n",
      "10.0 2018.0 751 934 0.80\n",
      "10.0 2019.0 336 414 0.81\n",
      "10.0 2020.0 261 303 0.86\n",
      "10.0 2021.0 265 317 0.84\n",
      "10.2 2002.0 147 154 0.95\n",
      "10.2 2003.0 335 379 0.88\n",
      "10.2 2004.0 199 210 0.95\n",
      "10.2 2005.0 515 539 0.96\n",
      "10.2 2006.0 418 432 0.97\n",
      "10.2 2007.0 387 396 0.98\n",
      "10.2 2008.0 473 495 0.96\n",
      "10.2 2009.0 473 488 0.97\n",
      "10.2 2010.0 457 476 0.96\n",
      "10.2 2011.0 396 412 0.96\n",
      "10.2 2012.0 401 435 0.92\n",
      "10.2 2013.0 383 415 0.92\n",
      "10.2 2014.0 377 431 0.87\n",
      "10.2 2015.0 336 383 0.88\n",
      "10.2 2016.0 375 430 0.87\n",
      "10.2 2017.0 317 426 0.74\n",
      "10.2 2018.0 258 436 0.59\n",
      "10.2 2019.0 171 245 0.70\n",
      "10.2 2020.0 142 173 0.82\n",
      "10.2 2021.0 135 171 0.79\n",
      "10.4 2002.0 83 97 0.86\n",
      "10.4 2003.0 186 217 0.86\n",
      "10.4 2004.0 119 136 0.88\n",
      "10.4 2005.0 235 250 0.94\n",
      "10.4 2006.0 165 174 0.95\n",
      "10.4 2007.0 140 146 0.96\n",
      "10.4 2008.0 130 140 0.93\n",
      "10.4 2009.0 228 245 0.93\n",
      "10.4 2010.0 248 278 0.89\n",
      "10.4 2011.0 218 239 0.91\n",
      "10.4 2012.0 219 243 0.90\n",
      "10.4 2013.0 174 206 0.84\n",
      "10.4 2014.0 138 162 0.85\n",
      "10.4 2015.0 130 162 0.80\n",
      "10.4 2016.0 107 151 0.71\n",
      "10.4 2017.0 118 190 0.62\n",
      "10.4 2018.0 119 240 0.50\n",
      "10.4 2019.0 136 211 0.64\n",
      "10.4 2020.0 39 65 0.60\n",
      "10.4 2021.0 20 37 0.54\n"
     ]
    }
   ],
   "source": [
    "for grp in sg.groups:\n",
    "    print(grp['imag'][0], grp['iyear'][0], np.sum(grp['star_tracked']), len(grp), \n",
    "          '{:.2f}'.format(np.sum(grp['star_tracked']) / len(grp)))"
   ]
  },
  {
   "cell_type": "code",
   "execution_count": 12,
   "metadata": {},
   "outputs": [
    {
     "data": {
      "text/plain": [
       "array([0.40476421, 0.53435284, 0.66081003])"
      ]
     },
     "execution_count": 12,
     "metadata": {},
     "output_type": "execute_result"
    }
   ],
   "source": [
    "# This is the way to plot error bars, but they end up being too messy anyway.\n",
    "binom_ppf(7, 13, [0.16, 0.5, 0.84])"
   ]
  },
  {
   "cell_type": "code",
   "execution_count": 13,
   "metadata": {},
   "outputs": [],
   "source": [
    "# The mean of the star_tracked 0's and 1's is the tracking fraction.\n",
    "sga = sg.groups.aggregate(np.mean)"
   ]
  },
  {
   "cell_type": "code",
   "execution_count": 14,
   "metadata": {},
   "outputs": [
    {
     "name": "stdout",
     "output_type": "stream",
     "text": [
      "imag iyear      star_tracked   \n",
      "---- ------ -------------------\n",
      " 9.6 2002.0  0.9789674952198852\n",
      " 9.6 2003.0  0.9840255591054313\n",
      " 9.6 2004.0    0.98531211750306\n",
      " 9.6 2005.0  0.9890948745910578\n",
      " 9.6 2006.0  0.9700534759358289\n",
      " 9.6 2007.0  0.9756345177664975\n",
      " 9.6 2008.0  0.9870517928286853\n",
      " 9.6 2009.0  0.9864986498649865\n",
      " 9.6 2010.0  0.9805375347544022\n",
      " 9.6 2011.0   0.981651376146789\n",
      " ...    ...                 ...\n",
      "10.4 2011.0  0.9121338912133892\n",
      "10.4 2012.0  0.9012345679012346\n",
      "10.4 2013.0  0.8446601941747572\n",
      "10.4 2014.0  0.8518518518518519\n",
      "10.4 2015.0  0.8024691358024691\n",
      "10.4 2016.0  0.7086092715231788\n",
      "10.4 2017.0  0.6210526315789474\n",
      "10.4 2018.0 0.49583333333333335\n",
      "10.4 2019.0  0.6445497630331753\n",
      "10.4 2020.0                 0.6\n",
      "10.4 2021.0  0.5405405405405406\n",
      "Length = 100 rows\n"
     ]
    }
   ],
   "source": [
    "print(sga)"
   ]
  },
  {
   "cell_type": "code",
   "execution_count": 15,
   "metadata": {},
   "outputs": [
    {
     "data": {
      "image/png": "[encoded data removed]",
      "text/plain": [
       "<Figure size 432x288 with 1 Axes>"
      ]
     },
     "metadata": {
      "needs_background": "light"
     },
     "output_type": "display_data"
    }
   ],
   "source": [
    "# Make the plot\n",
    "fig, ax = plt.subplots()\n",
    "imags = sorted(set(sga['imag']))\n",
    "for imag in imags:\n",
    "    ok = sga['imag'] == imag\n",
    "    ax.plot(sga['iyear'][ok], sga['star_tracked'][ok], '-o', ms=3,\n",
    "            label=f'{imag:.1f} - {imag+0.2:.1f} mag')\n",
    "ax.legend()\n",
    "ax.grid()\n",
    "ax.set_title('Acquisition success rate trend')\n",
    "ax.set_ylabel('Success fraction')\n",
    "ax.set_xlabel('Year')\n",
    "ax.set_ylim(0, 1);\n",
    "plt.savefig('acq_success_yearly.png', dpi=150)\n"
   ]
  },
  {
   "cell_type": "code",
   "execution_count": 16,
   "metadata": {},
   "outputs": [],
   "source": [
    "sga.write('acq_success_yearly.csv', overwrite=True)"
   ]
  },
  {
   "cell_type": "code",
   "execution_count": null,
   "metadata": {},
   "outputs": [],
   "source": []
  }
 ],
 "metadata": {
  "interpreter": {
   "hash": "d2df0004ee630a46de2935730c9c65ee0c09bd3f3b85f07c44dd36ceff3dbd5e"
  },
  "kernelspec": {
   "display_name": "Python 3.8.3 64-bit ('base': conda)",
   "language": "python",
   "name": "python3"
  },
  "language_info": {
   "codemirror_mode": {
    "name": "ipython",
    "version": 3
   },
   "file_extension": ".py",
   "mimetype": "text/x-python",
   "name": "python",
   "nbconvert_exporter": "python",
   "pygments_lexer": "ipython3",
   "version": "3.8.3"
  },
  "orig_nbformat": 2
 },
 "nbformat": 4,
 "nbformat_minor": 2
}
